{
 "cells": [
  {
   "cell_type": "markdown",
   "metadata": {
    "hideCode": false,
    "hidePrompt": false
   },
   "source": [
    "# Starbucks Capstone Challenge"
   ]
  },
  {
   "cell_type": "markdown",
   "metadata": {
    "hideCode": false,
    "hidePrompt": false
   },
   "source": [
    "## Table of Contents"
   ]
  },
  {
   "cell_type": "markdown",
   "metadata": {
    "hideCode": false,
    "hidePrompt": false
   },
   "source": [
    "1. [Business Understanding](#1)\n",
    "<br>    1.1. [Business Goals](#1.1)\n",
    "<br>    1.2. [Situation Assessment](#1.2)\n",
    "<br>    1.3. [Project Goals](#1.3)\n",
    "<br>    1.4. [Project Plan](#1.4)\n",
    "\n",
    "2. [Data Understanding](#2)\n",
    "<br>    2.1. [Import Packages](#2.1)\n",
    "<br>    2.2. [Gather Data](#2.2)\n",
    "<br>    2.21. [Portfolio Data EDA](#2.21)\n",
    "<br>    2.22. [Profile Data EDA](#2.22)\n",
    "<br>    2.23. [Transcript Data EDA](#2.22)\n",
    "<br>    2.3. [Assess Data](#2.3)\n",
    "\n",
    "3. [Data Preperation](#3)\n",
    "<br>    3.1. [Clean Data](#3.1)\n",
    "<br>    3.2. [Integrating](#3.2)\n",
    "<br>    3.3. [Numerical variable analysis](#3.2)\n",
    "\n",
    "4. [Modelling](#4)\n",
    "<br>    4.1. [Pre-processing](#4.1)\n",
    "<br>    4.2. [Designing Tests](#4.2)\n",
    "<br>    4.21. [Feature Scaling](#4.21)\n",
    "<br>    4.22. [Explanatory Data Analysis](#4.22)\n",
    "<br>    4.3. [Building models](#4.3)\n",
    "<br>    4.4. [Assessing models](#4.4)\n",
    "\n",
    "5. [Evaluation](#5)\n",
    "<br>    5.1. [Evaluating results](#5.1)\n",
    "<br>    5.2. [Reviewing the process](#5.2)\n",
    "<br>    5.3. [Determining the next steps](#5.3)\n",
    "\n",
    "6. [Deployment](#6)\n",
    "<br>    6.1. [Planning deployment](#6.1)\n",
    "<br>    6.2. [Reporting final results](#6.2)\n",
    "<br>    6.3. [Reviewing final results](#6.3)\n",
    "\n",
    "7. [Resources](#7)"
   ]
  },
  {
   "cell_type": "markdown",
   "metadata": {
    "hideCode": false,
    "hidePrompt": false
   },
   "source": [
    "<a id='1'></a>\n",
    "## 1. Business Understanding"
   ]
  },
  {
   "cell_type": "markdown",
   "metadata": {
    "hideCode": false,
    "hidePrompt": false
   },
   "source": [
    "<a id='1.1'></a>\n",
    "### 1.1. Business Goals"
   ]
  },
  {
   "cell_type": "markdown",
   "metadata": {
    "hideCode": false,
    "hidePrompt": false
   },
   "source": [
    "#### Introduction"
   ]
  },
  {
   "cell_type": "markdown",
   "metadata": {
    "hideCode": false,
    "hidePrompt": false
   },
   "source": [
    "This data set contains simulated data that mimics customer behavior on the Starbucks rewards mobile app. Once every few days, Starbucks sends out an offer to users of the mobile app. An offer can be merely an advertisement for a drink or an actual offer such as a discount or BOGO (buy one get one free). Some users might not receive any offer during certain weeks.\n",
    "\n",
    "Not all users receive the same offer, and that is the challenge to solve with this data set.\n",
    "\n",
    "Our task is to combine transaction, demographic and offer data to determine which demographic groups respond best to which offer type. This data set is a simplified version of the real Starbucks app because the underlying simulator only has one product whereas Starbucks actually sells dozens of products.\n",
    "\n",
    "Every offer has a validity period before the offer expires. As an example, a BOGO offer might be valid for only 5 days. We'll see in the data set that informational offers have a validity period even though these ads are merely providing information about a product; for example, if an informational offer has 7 days of validity, we can assume the customer is feeling the influence of the offer for 7 days after receiving the advertisement.\n",
    "\n",
    "We'll use transactional data showing user purchases made on the app including the timestamp of purchase and the amount of money spent on a purchase. This transactional data also has a record for each offer that a user receives as well as a record for when a user actually views the offer. There are also records for when a user completes an offer.\n",
    "\n",
    "Keep in mind as well that someone using the app might make a purchase through the app without having received an offer or seen an offer."
   ]
  },
  {
   "cell_type": "markdown",
   "metadata": {
    "hideCode": false,
    "hidePrompt": false
   },
   "source": [
    "#### Example"
   ]
  },
  {
   "cell_type": "markdown",
   "metadata": {
    "hideCode": false,
    "hidePrompt": false
   },
   "source": [
    "To give an example, a user could receive a discount offer buy 10 dollars get 2 off on Monday. The offer is valid for 10 days from receipt. If the customer accumulates at least 10 dollars in purchases during the validity period, the customer completes the offer.\n",
    "\n",
    "However, there are a few things to watch out for in this data set. Customers do not opt into the offers that they receive; in other words, a user can receive an offer, never actually view the offer, and still complete the offer. For example, a user might receive the \"buy 10 dollars get 2 dollars off offer\", but the user never opens the offer during the 10 day validity period. The customer spends 15 dollars during those ten days. There will be an offer completion record in the data set; however, the customer was not influenced by the offer because the customer never viewed the offer.  This could make data cleaning especially important and tricky."
   ]
  },
  {
   "cell_type": "markdown",
   "metadata": {
    "hideCode": false,
    "hidePrompt": false
   },
   "source": [
    "#### Cleaning"
   ]
  },
  {
   "cell_type": "markdown",
   "metadata": {
    "hideCode": false,
    "hidePrompt": false
   },
   "source": [
    "We also want to take into account that some demographic groups will make purchases even if they don't receive an offer. From a business perspective, if a customer is going to make a 10 dollar purchase without an offer anyway, we wouldn't want to send a buy 10 dollars get 2 dollars off offer. We want to try to assess what a certain demographic group will buy when not receiving any offers."
   ]
  },
  {
   "cell_type": "markdown",
   "metadata": {
    "hideCode": false,
    "hidePrompt": false
   },
   "source": [
    "#### Analysis"
   ]
  },
  {
   "cell_type": "markdown",
   "metadata": {
    "hideCode": false,
    "hidePrompt": false
   },
   "source": [
    "Since this is a capstone project, we are free to analyze the data any way we see fit. For example, we could build a machine learning model that predicts how much someone will spend based on demographics and offer type. Or, we could build a model that predicts whether or not someone will respond to an offer but we don't need to build a machine learning model at all. We could develop a set of heuristics that determine what offer we should send to each customer (i.e., 75 percent of women customers who were 35 years old responded to offer A vs 40 percent from the same demographic to offer B, so send offer A)."
   ]
  },
  {
   "cell_type": "markdown",
   "metadata": {
    "hideCode": false,
    "hidePrompt": false
   },
   "source": [
    "<a id='1.2'></a>\n",
    "### 1.2. Situation Assessment"
   ]
  },
  {
   "cell_type": "markdown",
   "metadata": {
    "hideCode": false,
    "hidePrompt": false
   },
   "source": [
    "#### Inventory of resources"
   ]
  },
  {
   "cell_type": "markdown",
   "metadata": {
    "hideCode": false,
    "hidePrompt": false
   },
   "source": [
    "- Computer\n",
    "- Dataset\n",
    "- Jupyter Notebooks"
   ]
  },
  {
   "cell_type": "markdown",
   "metadata": {
    "hideCode": false,
    "hidePrompt": false
   },
   "source": [
    "#### Requirements, assumptions, and constraints"
   ]
  },
  {
   "cell_type": "markdown",
   "metadata": {
    "hideCode": false,
    "hidePrompt": false
   },
   "source": [
    "Completion by: 09/08/21"
   ]
  },
  {
   "cell_type": "markdown",
   "metadata": {
    "hideCode": false,
    "hidePrompt": false
   },
   "source": [
    "#### Risks and contingencies"
   ]
  },
  {
   "cell_type": "markdown",
   "metadata": {
    "hideCode": false,
    "hidePrompt": false
   },
   "source": [
    "- **Risk:** major changes in notebook.\n",
    "- **Contingency:** Regular version uploads to GitHub."
   ]
  },
  {
   "cell_type": "markdown",
   "metadata": {
    "hideCode": false,
    "hidePrompt": false
   },
   "source": [
    "#### Terminology"
   ]
  },
  {
   "cell_type": "markdown",
   "metadata": {
    "hideCode": false,
    "hidePrompt": false
   },
   "source": [
    "Create a list here of business terms and data-mining terms that are relevant to our project and write them down in a glossary with definitions (and perhaps examples), so that everyone involved in the project can have a common understanding of those terms."
   ]
  },
  {
   "cell_type": "markdown",
   "metadata": {
    "hideCode": false,
    "hidePrompt": false
   },
   "source": [
    "#### Costs and benefits"
   ]
  },
  {
   "cell_type": "markdown",
   "metadata": {
    "hideCode": false,
    "hidePrompt": false
   },
   "source": [
    "Cost benefits will be documented here if data allows."
   ]
  },
  {
   "cell_type": "markdown",
   "metadata": {
    "hideCode": false,
    "hidePrompt": false
   },
   "source": [
    "<a id='1.3'></a>\n",
    "### 1.3. Project Goals"
   ]
  },
  {
   "cell_type": "markdown",
   "metadata": {
    "hideCode": false,
    "hidePrompt": false
   },
   "source": [
    "- Create a ML model to predict if a customer will respond to an offer."
   ]
  },
  {
   "cell_type": "markdown",
   "metadata": {
    "hideCode": false,
    "hidePrompt": false
   },
   "source": [
    "<a id='1.4'></a>\n",
    "### 1.4. Project Plan"
   ]
  },
  {
   "cell_type": "markdown",
   "metadata": {
    "hideCode": false,
    "hidePrompt": false
   },
   "source": [
    "#### Step 1"
   ]
  },
  {
   "cell_type": "markdown",
   "metadata": {
    "hideCode": false,
    "hidePrompt": false
   },
   "source": [
    "The plan is to build a machine learning model which predicts if a customer will respond to an offer or not. I believe the best strategy is to combine the data from the `portfolio`, `profile` and `transaction` datasets. From this created DataFrame, we will have various observations of each customer, offer, and transaction data. This will help me determine which attributes may affect if the customer will be successful completing an offer or not."
   ]
  },
  {
   "cell_type": "markdown",
   "metadata": {
    "hideCode": false,
    "hidePrompt": false
   },
   "source": [
    "#### Step 2"
   ]
  },
  {
   "cell_type": "markdown",
   "metadata": {
    "hideCode": false,
    "hidePrompt": false
   },
   "source": [
    "Create visualisations for important columns such as how `gender`, `income` or when a user became a member. We can use this data to give us an idea of what data to keep or remove from the dataset."
   ]
  },
  {
   "cell_type": "markdown",
   "metadata": {
    "hideCode": false,
    "hidePrompt": false
   },
   "source": [
    "#### Step 3"
   ]
  },
  {
   "cell_type": "markdown",
   "metadata": {
    "hideCode": false,
    "hidePrompt": false
   },
   "source": [
    "We an next create a **naive model** that assumes all offers were successful. From there, we will evaluate the **accuracy** and **F1-score** of the model to use a baseline to compare other models against. The **accuracy** is a measurement of how well our model correctly predicts if a offer is successful but it is not useful if the score is low. In the event the **accuracy** is low, we will need to use **precision** and **recall** to measure model performance since it's a weighted average of the **F1-score**."
   ]
  },
  {
   "cell_type": "markdown",
   "metadata": {
    "hideCode": false,
    "hidePrompt": false
   },
   "source": [
    "#### Step 4"
   ]
  },
  {
   "cell_type": "markdown",
   "metadata": {
    "hideCode": false,
    "hidePrompt": false
   },
   "source": [
    "The **Naive Model** we created may not have the best performance with our data, so we must compare different models to see which one performs best. We can compare:\n",
    "- **Logistic Regression.**\n",
    "- **Random Forest.**\n",
    "\n",
    "From here, we can fine tune the parameters of the model with the highest **accuracy** and **F1-score**."
   ]
  },
  {
   "cell_type": "markdown",
   "metadata": {
    "hideCode": false,
    "hidePrompt": false
   },
   "source": [
    "#### Step 5"
   ]
  },
  {
   "cell_type": "markdown",
   "metadata": {
    "hideCode": false,
    "hidePrompt": false
   },
   "source": [
    "We can finish by concluding our findings in a debrief at the end."
   ]
  },
  {
   "cell_type": "markdown",
   "metadata": {
    "hideCode": false,
    "hidePrompt": false
   },
   "source": [
    "<a id='2'></a>\n",
    "## 2. Data Understanding"
   ]
  },
  {
   "cell_type": "markdown",
   "metadata": {
    "hideCode": false,
    "hidePrompt": false
   },
   "source": [
    "The data is contained in three files:\n",
    "\n",
    "* portfolio.json - containing offer ids and meta data about each offer (duration, type, etc.)\n",
    "* profile.json - demographic data for each customer\n",
    "* transcript.json - records for transactions, offers received, offers viewed, and offers completed\n",
    "\n",
    "Here is the schema and explanation of each variable in the files:\n",
    "\n",
    "**portfolio.json**\n",
    "* id (string) - offer id\n",
    "* offer_type (string) - type of offer ie BOGO, discount, informational\n",
    "* difficulty (int) - minimum required spend to complete an offer\n",
    "* reward (int) - reward given for completing an offer\n",
    "* duration (int) - time for offer to be open, in days\n",
    "* channels (list of strings)\n",
    "\n",
    "**profile.json**\n",
    "* age (int) - age of the customer \n",
    "* became_member_on (int) - date when customer created an app account\n",
    "* gender (str) - gender of the customer (note some entries contain 'O' for other rather than M or F)\n",
    "* id (str) - customer id\n",
    "* income (float) - customer's income\n",
    "\n",
    "**transcript.json**\n",
    "* event (str) - record description (ie transaction, offer received, offer viewed, etc.)\n",
    "* person (str) - customer id\n",
    "* time (int) - time in hours since start of test. The data begins at time t=0\n",
    "!* value - (dict of strings) - either an offer id or transaction amount depending on the record"
   ]
  },
  {
   "cell_type": "code",
   "execution_count": 296,
   "metadata": {},
   "outputs": [
    {
     "name": "stderr",
     "output_type": "stream",
     "text": [
      "ERROR: Could not find a version that satisfies the requirement cf_matrix (from versions: none)\n",
      "ERROR: No matching distribution found for cf_matrix\n"
     ]
    }
   ],
   "source": [
    "!pip install cf_matrix"
   ]
  },
  {
   "cell_type": "markdown",
   "metadata": {
    "hideCode": false,
    "hidePrompt": false
   },
   "source": [
    "<a id='2.1'></a>\n",
    "### 2.1. Import Packages"
   ]
  },
  {
   "cell_type": "code",
   "execution_count": 297,
   "metadata": {
    "hideCode": false,
    "hidePrompt": false
   },
   "outputs": [
    {
     "name": "stdout",
     "output_type": "stream",
     "text": [
      "Pandas Version: 1.0.2\n",
      "NumPy Version: 1.19.5\n",
      "Seaborn Version: 0.10.0\n",
      "Matplotlib Version: 3.1.3\n"
     ]
    }
   ],
   "source": [
    "# Import\n",
    "import pandas as pd\n",
    "import numpy as np\n",
    "import math\n",
    "import json\n",
    "import pickle\n",
    "from datetime import datetime, date\n",
    "import seaborn as sns\n",
    "import matplotlib\n",
    "import matplotlib.pyplot as plt\n",
    "from matplotlib import rcParams\n",
    "%matplotlib inline\n",
    "import os\n",
    "from joblib import dump, load\n",
    "from tqdm import tqdm\n",
    "import re\n",
    "from re import search\n",
    "import time\n",
    "import logging\n",
    "\n",
    "# ML Libraries\n",
    "from sklearn.model_selection import train_test_split\n",
    "from sklearn.model_selection import GridSearchCV\n",
    "from sklearn.model_selection import RandomizedSearchCV\n",
    "from sklearn.preprocessing import LabelBinarizer\n",
    "from sklearn.preprocessing import MinMaxScaler\n",
    "from sklearn.metrics import accuracy_score, f1_score\n",
    "from sklearn.metrics import fbeta_score, make_scorer\n",
    "from sklearn.ensemble import GradientBoostingClassifier\n",
    "from sklearn.ensemble import RandomForestClassifier\n",
    "from sklearn.linear_model import LogisticRegression\n",
    "from sklearn.neighbors import KNeighborsClassifier\n",
    "from sklearn.svm import SVC\n",
    "from sklearn.naive_bayes import GaussianNB\n",
    "from xgboost import XGBClassifier\n",
    "from sklearn import model_selection\n",
    "from sklearn.utils import class_weight\n",
    "from sklearn.metrics import classification_report\n",
    "from sklearn.metrics import confusion_matrix\n",
    "\n",
    "# Import custom modules\n",
    "#from cf_matrix import make_confusion_matrix\n",
    "\n",
    "# Display options\n",
    "pd.set_option('display.max_rows', None, 'display.max_columns', None)\n",
    "\n",
    "# Check module versions\n",
    "print('Pandas Version:', pd.__version__)\n",
    "print('NumPy Version:', np.__version__)\n",
    "print('Seaborn Version:', sns.__version__)\n",
    "print('Matplotlib Version:', matplotlib.__version__)"
   ]
  },
  {
   "cell_type": "markdown",
   "metadata": {
    "hideCode": false,
    "hidePrompt": false
   },
   "source": [
    "#### Preparing Seaborn and other Functions"
   ]
  },
  {
   "cell_type": "code",
   "execution_count": 298,
   "metadata": {
    "hideCode": false,
    "hidePrompt": false
   },
   "outputs": [],
   "source": [
    "# Function for formatting 1 plot seaborn chart\n",
    "def style_sns_1(title, xlabel, ylabel):\n",
    "    '''This function styles seaborn charts with 2 subplots.\n",
    "    \n",
    "    INPUT:\n",
    "    title - seaborn plot title (string)\n",
    "    _label - seaborn plot label (string or list)\n",
    "    \n",
    "    OUTPUT:\n",
    "    None.\n",
    "    '''\n",
    "    \n",
    "    # Titles\n",
    "    plt.title(title, weight='bold', fontsize=15)\n",
    "\n",
    "    # Labels\n",
    "    plt.xlabel(xlabel, weight='bold', fontsize=13)\n",
    "    plt.ylabel(ylabel, weight='bold', fontsize=13)\n",
    "\n",
    "    # Design\n",
    "    plt.xticks(size=13); plt.yticks(size=13)\n",
    "    \n",
    "    # Show plot\n",
    "    plt.show()\n",
    "    \n",
    "# Function for formatting 2 plot seaborn chart\n",
    "def style_sns_2(title_1, title_2, xlabel_1, ylabel_1, xlabel_2, ylabel_2):\n",
    "    '''This function styles seaborn charts with 2 subplots.\n",
    "    \n",
    "    INPUT:\n",
    "    title_n - seaborn plot title on axis n (string)\n",
    "    label_n - seaborn plot label on axis n (string or list)\n",
    "    \n",
    "    OUTPUT:\n",
    "    None.\n",
    "    '''\n",
    "\n",
    "    # Titles\n",
    "    axes[0].set_title(title_1, weight='bold', fontsize=15)\n",
    "    axes[1].set_title(title_2, weight='bold', fontsize=15)\n",
    "\n",
    "    # Labels\n",
    "    ax1.set_xlabel(xlabel_1, weight='bold', fontsize=13)\n",
    "    ax1.set_ylabel(ylabel_1, weight='bold', fontsize=13)\n",
    "    ax2.set_xlabel(xlabel_2, weight='bold', fontsize=13)\n",
    "    ax2.set_ylabel(ylabel_2, weight='bold', fontsize=13)\n",
    "\n",
    "    # Design\n",
    "    ax1.tick_params(labelsize=13); ax2.tick_params(labelsize=13)\n",
    "    \n",
    "    # Show plot\n",
    "    plt.show()\n",
    "    \n",
    "# Function for formatting 3 plot seaborn chart\n",
    "def style_sns_3(title_1, title_2, title_3, xlabel_1, ylabel_1, xlabel_2, ylabel_2, xlabel_3, ylabel_3):\n",
    "    '''This function styles seaborn charts with 2 subplots.\n",
    "    \n",
    "    INPUT:\n",
    "    title_n - seaborn plot title on axis n (string)\n",
    "    label_n - seaborn plot label on axis n (string or list)\n",
    "    \n",
    "    OUTPUT:\n",
    "    None.\n",
    "    '''\n",
    "\n",
    "    # Titles\n",
    "    axes[0].set_title(title_1, weight='bold', fontsize=15)\n",
    "    axes[1].set_title(title_2, weight='bold', fontsize=15)\n",
    "    axes[2].set_title(title_3, weight='bold', fontsize=15)\n",
    "\n",
    "    # Labels\n",
    "    ax1.set_xlabel(xlabel_1, weight='bold', fontsize=13)\n",
    "    ax1.set_ylabel(ylabel_1, weight='bold', fontsize=13)\n",
    "    ax2.set_xlabel(xlabel_2, weight='bold', fontsize=13)\n",
    "    ax2.set_ylabel(ylabel_2, weight='bold', fontsize=13)\n",
    "    ax3.set_xlabel(xlabel_3, weight='bold', fontsize=13)\n",
    "    ax3.set_ylabel(ylabel_3, weight='bold', fontsize=13)\n",
    "\n",
    "    # Design\n",
    "    ax1.tick_params(labelsize=13); ax2.tick_params(labelsize=13); ax3.tick_params(labelsize=13)\n",
    "    \n",
    "    # Show plot\n",
    "    plt.show()\n",
    "    \n",
    "# Function for formatting 4 plot seaborn chart\n",
    "def style_sns_4(title_1, title_2, title_3, title_4, \n",
    "                xlabel_1, ylabel_1, xlabel_2, ylabel_2, \n",
    "                xlabel_3, ylabel_3, xlabel_4, ylabel_4):\n",
    "    '''This function styles seaborn charts with 2 subplots.\n",
    "    \n",
    "    INPUT:\n",
    "    title_n - seaborn plot title on axis n (string)\n",
    "    label_n - seaborn plot label on axis n (string or list)\n",
    "    \n",
    "    OUTPUT:\n",
    "    None.\n",
    "    '''\n",
    "\n",
    "    # Titles\n",
    "    axes[0,0].set_title(title_1, weight='bold', fontsize=15)\n",
    "    axes[0,1].set_title(title_2, weight='bold', fontsize=15)\n",
    "    axes[1,0].set_title(title_3, weight='bold', fontsize=15)\n",
    "    axes[1,1].set_title(title_4, weight='bold', fontsize=15)\n",
    "\n",
    "    # Labels\n",
    "    axes[0,0].set_xlabel(xlabel_1, weight='bold', fontsize=13)\n",
    "    axes[0,0].set_ylabel(ylabel_1, weight='bold', fontsize=13)\n",
    "    axes[0,1].set_xlabel(xlabel_2, weight='bold', fontsize=13)\n",
    "    axes[0,1].set_ylabel(ylabel_2, weight='bold', fontsize=13)\n",
    "    axes[1,0].set_xlabel(xlabel_3, weight='bold', fontsize=13)\n",
    "    axes[1,0].set_ylabel(ylabel_3, weight='bold', fontsize=13)\n",
    "    axes[1,1].set_xlabel(xlabel_4, weight='bold', fontsize=13)\n",
    "    axes[1,1].set_ylabel(ylabel_4, weight='bold', fontsize=13)\n",
    "\n",
    "    # Design\n",
    "    #ax1.tick_params(labelsize=13); ax2.tick_params(labelsize=13); \n",
    "    #ax3.tick_params(labelsize=13); ax4.tick_params(labelsize=13)\n",
    "    \n",
    "    # Show plot\n",
    "    plt.show()    \n",
    "    \n",
    "# Function for formatting a pie chart\n",
    "def style_pie_1(title, labels, data):\n",
    "    '''This function styles matplotlib pie charts\n",
    "    \n",
    "    INPUT:\n",
    "    title - pie chart title (string)\n",
    "    labels - pie chart plot label (string or list)\n",
    "    data - df \n",
    "    \n",
    "    OUTPUT:\n",
    "    None.\n",
    "    '''\n",
    "    \n",
    "    # Set default plt font size\n",
    "    plt.rcParams['font.size'] = 15\n",
    "\n",
    "    # Init plot\n",
    "    pie, ax = plt.subplots(figsize=[10,6])\n",
    "    exp_n = len(labels)\n",
    "\n",
    "    # Title\n",
    "    plt.title(title, weight='bold', fontsize=15);\n",
    "\n",
    "    # Plot\n",
    "    plt.pie(x=data, labels=labels, autopct=\"%.1f%%\", explode=[0.05]*exp_n, pctdistance=0.5)\n",
    "    plt.show()"
   ]
  },
  {
   "cell_type": "code",
   "execution_count": 299,
   "metadata": {},
   "outputs": [],
   "source": [
    "# Print bold text\n",
    "class style:\n",
    "   BOLD = '\\033[1m'\n",
    "   END = '\\033[0m'"
   ]
  },
  {
   "cell_type": "markdown",
   "metadata": {
    "hideCode": false,
    "hidePrompt": false
   },
   "source": [
    "<a id='2.2'></a>\n",
    "### 2.2. Gather Data"
   ]
  },
  {
   "cell_type": "markdown",
   "metadata": {
    "hideCode": false,
    "hidePrompt": false
   },
   "source": [
    "**Gather necessary data to answer our questions:**<br>\n",
    "We have imported the libraries we need above. We will gather data provided to us from Udacity in the form of json files. The next step is to use `pd.read_json()` to import our data into pandas as dataframes."
   ]
  },
  {
   "cell_type": "code",
   "execution_count": 300,
   "metadata": {
    "hideCode": false,
    "hidePrompt": false
   },
   "outputs": [],
   "source": [
    "# Read in the json files\n",
    "portfolio = pd.read_json('portfolio.json', orient='records', lines=True)\n",
    "profile = pd.read_json('profile.json', orient='records', lines=True)\n",
    "transcript = pd.read_json('transcript.json', orient='records', lines=True)"
   ]
  },
  {
   "cell_type": "markdown",
   "metadata": {
    "hideCode": false,
    "hidePrompt": false
   },
   "source": [
    "<a id='2.21'></a>\n",
    "### 2.21 `Portfolio` Data EDA"
   ]
  },
  {
   "cell_type": "markdown",
   "metadata": {
    "hideCode": false,
    "hidePrompt": false
   },
   "source": [
    "**`Portfolio` Data Info**"
   ]
  },
  {
   "cell_type": "markdown",
   "metadata": {
    "hideCode": false,
    "hidePrompt": false
   },
   "source": [
    "This dataset holds data on the different offer campaigns used in the Starbucks app."
   ]
  },
  {
   "cell_type": "code",
   "execution_count": 301,
   "metadata": {
    "hideCode": false,
    "hidePrompt": false
   },
   "outputs": [
    {
     "data": {
      "text/html": [
       "<div>\n",
       "<style scoped>\n",
       "    .dataframe tbody tr th:only-of-type {\n",
       "        vertical-align: middle;\n",
       "    }\n",
       "\n",
       "    .dataframe tbody tr th {\n",
       "        vertical-align: top;\n",
       "    }\n",
       "\n",
       "    .dataframe thead th {\n",
       "        text-align: right;\n",
       "    }\n",
       "</style>\n",
       "<table border=\"1\" class=\"dataframe\">\n",
       "  <thead>\n",
       "    <tr style=\"text-align: right;\">\n",
       "      <th></th>\n",
       "      <th>reward</th>\n",
       "      <th>channels</th>\n",
       "      <th>difficulty</th>\n",
       "      <th>duration</th>\n",
       "      <th>offer_type</th>\n",
       "      <th>id</th>\n",
       "    </tr>\n",
       "  </thead>\n",
       "  <tbody>\n",
       "    <tr>\n",
       "      <th>0</th>\n",
       "      <td>10</td>\n",
       "      <td>[email, mobile, social]</td>\n",
       "      <td>10</td>\n",
       "      <td>7</td>\n",
       "      <td>bogo</td>\n",
       "      <td>ae264e3637204a6fb9bb56bc8210ddfd</td>\n",
       "    </tr>\n",
       "    <tr>\n",
       "      <th>1</th>\n",
       "      <td>10</td>\n",
       "      <td>[web, email, mobile, social]</td>\n",
       "      <td>10</td>\n",
       "      <td>5</td>\n",
       "      <td>bogo</td>\n",
       "      <td>4d5c57ea9a6940dd891ad53e9dbe8da0</td>\n",
       "    </tr>\n",
       "    <tr>\n",
       "      <th>2</th>\n",
       "      <td>0</td>\n",
       "      <td>[web, email, mobile]</td>\n",
       "      <td>0</td>\n",
       "      <td>4</td>\n",
       "      <td>informational</td>\n",
       "      <td>3f207df678b143eea3cee63160fa8bed</td>\n",
       "    </tr>\n",
       "    <tr>\n",
       "      <th>3</th>\n",
       "      <td>5</td>\n",
       "      <td>[web, email, mobile]</td>\n",
       "      <td>5</td>\n",
       "      <td>7</td>\n",
       "      <td>bogo</td>\n",
       "      <td>9b98b8c7a33c4b65b9aebfe6a799e6d9</td>\n",
       "    </tr>\n",
       "    <tr>\n",
       "      <th>4</th>\n",
       "      <td>5</td>\n",
       "      <td>[web, email]</td>\n",
       "      <td>20</td>\n",
       "      <td>10</td>\n",
       "      <td>discount</td>\n",
       "      <td>0b1e1539f2cc45b7b9fa7c272da2e1d7</td>\n",
       "    </tr>\n",
       "    <tr>\n",
       "      <th>5</th>\n",
       "      <td>3</td>\n",
       "      <td>[web, email, mobile, social]</td>\n",
       "      <td>7</td>\n",
       "      <td>7</td>\n",
       "      <td>discount</td>\n",
       "      <td>2298d6c36e964ae4a3e7e9706d1fb8c2</td>\n",
       "    </tr>\n",
       "    <tr>\n",
       "      <th>6</th>\n",
       "      <td>2</td>\n",
       "      <td>[web, email, mobile, social]</td>\n",
       "      <td>10</td>\n",
       "      <td>10</td>\n",
       "      <td>discount</td>\n",
       "      <td>fafdcd668e3743c1bb461111dcafc2a4</td>\n",
       "    </tr>\n",
       "    <tr>\n",
       "      <th>7</th>\n",
       "      <td>0</td>\n",
       "      <td>[email, mobile, social]</td>\n",
       "      <td>0</td>\n",
       "      <td>3</td>\n",
       "      <td>informational</td>\n",
       "      <td>5a8bc65990b245e5a138643cd4eb9837</td>\n",
       "    </tr>\n",
       "    <tr>\n",
       "      <th>8</th>\n",
       "      <td>5</td>\n",
       "      <td>[web, email, mobile, social]</td>\n",
       "      <td>5</td>\n",
       "      <td>5</td>\n",
       "      <td>bogo</td>\n",
       "      <td>f19421c1d4aa40978ebb69ca19b0e20d</td>\n",
       "    </tr>\n",
       "    <tr>\n",
       "      <th>9</th>\n",
       "      <td>2</td>\n",
       "      <td>[web, email, mobile]</td>\n",
       "      <td>10</td>\n",
       "      <td>7</td>\n",
       "      <td>discount</td>\n",
       "      <td>2906b810c7d4411798c6938adc9daaa5</td>\n",
       "    </tr>\n",
       "  </tbody>\n",
       "</table>\n",
       "</div>"
      ],
      "text/plain": [
       "   reward                      channels  difficulty  duration     offer_type  \\\n",
       "0      10       [email, mobile, social]          10         7           bogo   \n",
       "1      10  [web, email, mobile, social]          10         5           bogo   \n",
       "2       0          [web, email, mobile]           0         4  informational   \n",
       "3       5          [web, email, mobile]           5         7           bogo   \n",
       "4       5                  [web, email]          20        10       discount   \n",
       "5       3  [web, email, mobile, social]           7         7       discount   \n",
       "6       2  [web, email, mobile, social]          10        10       discount   \n",
       "7       0       [email, mobile, social]           0         3  informational   \n",
       "8       5  [web, email, mobile, social]           5         5           bogo   \n",
       "9       2          [web, email, mobile]          10         7       discount   \n",
       "\n",
       "                                 id  \n",
       "0  ae264e3637204a6fb9bb56bc8210ddfd  \n",
       "1  4d5c57ea9a6940dd891ad53e9dbe8da0  \n",
       "2  3f207df678b143eea3cee63160fa8bed  \n",
       "3  9b98b8c7a33c4b65b9aebfe6a799e6d9  \n",
       "4  0b1e1539f2cc45b7b9fa7c272da2e1d7  \n",
       "5  2298d6c36e964ae4a3e7e9706d1fb8c2  \n",
       "6  fafdcd668e3743c1bb461111dcafc2a4  \n",
       "7  5a8bc65990b245e5a138643cd4eb9837  \n",
       "8  f19421c1d4aa40978ebb69ca19b0e20d  \n",
       "9  2906b810c7d4411798c6938adc9daaa5  "
      ]
     },
     "execution_count": 301,
     "metadata": {},
     "output_type": "execute_result"
    }
   ],
   "source": [
    "portfolio.head(10)"
   ]
  },
  {
   "cell_type": "code",
   "execution_count": 302,
   "metadata": {
    "hideCode": false,
    "hidePrompt": false,
    "scrolled": true
   },
   "outputs": [
    {
     "name": "stdout",
     "output_type": "stream",
     "text": [
      "<class 'pandas.core.frame.DataFrame'>\n",
      "RangeIndex: 10 entries, 0 to 9\n",
      "Data columns (total 6 columns):\n",
      " #   Column      Non-Null Count  Dtype \n",
      "---  ------      --------------  ----- \n",
      " 0   reward      10 non-null     int64 \n",
      " 1   channels    10 non-null     object\n",
      " 2   difficulty  10 non-null     int64 \n",
      " 3   duration    10 non-null     int64 \n",
      " 4   offer_type  10 non-null     object\n",
      " 5   id          10 non-null     object\n",
      "dtypes: int64(3), object(3)\n",
      "memory usage: 608.0+ bytes\n"
     ]
    }
   ],
   "source": [
    "portfolio.info()"
   ]
  },
  {
   "cell_type": "code",
   "execution_count": 303,
   "metadata": {
    "hideCode": false,
    "hidePrompt": false
   },
   "outputs": [
    {
     "data": {
      "text/plain": [
       "reward        0\n",
       "channels      0\n",
       "difficulty    0\n",
       "duration      0\n",
       "offer_type    0\n",
       "id            0\n",
       "dtype: int64"
      ]
     },
     "execution_count": 303,
     "metadata": {},
     "output_type": "execute_result"
    }
   ],
   "source": [
    "portfolio.isnull().sum()"
   ]
  },
  {
   "cell_type": "markdown",
   "metadata": {
    "hideCode": false,
    "hidePrompt": false
   },
   "source": [
    "**`Portfolio` Offer Type Distribution**"
   ]
  },
  {
   "cell_type": "code",
   "execution_count": 144,
   "metadata": {
    "hideCode": false,
    "hidePrompt": false
   },
   "outputs": [
    {
     "data": {
      "text/plain": [
       "['bogo', 'informational', 'discount']"
      ]
     },
     "execution_count": 144,
     "metadata": {},
     "output_type": "execute_result"
    }
   ],
   "source": [
    "[*portfolio['offer_type'].unique()]"
   ]
  },
  {
   "cell_type": "code",
   "execution_count": 145,
   "metadata": {
    "hideCode": false,
    "hidePrompt": false
   },
   "outputs": [
    {
     "data": {
      "image/png": "[encoded data removed]",
      "text/plain": [
       "<Figure size 720x432 with 1 Axes>"
      ]
     },
     "metadata": {},
     "output_type": "display_data"
    }
   ],
   "source": [
    "style_pie_1(title='Offer Type Distribution', labels=[*portfolio['offer_type'].dropna().unique()],\n",
    "            data=portfolio['offer_type'].value_counts())"
   ]
  },
  {
   "cell_type": "markdown",
   "metadata": {
    "hideCode": false,
    "hidePrompt": false
   },
   "source": [
    "**`Portfolio Data` Observations:** \n",
    "- There are three types of offer including BOGO, information, discount offers\n",
    "- There are 10 different offers in total. 4 of them are discounts, 4 are BOGO (Buy One Get One Free), and 2 of them are informational (advertisments).\n",
    "- The `reward` and `difficulty` columns are in USD (US Dollars) units.\n",
    "- The `duration` column is measured in `days`\n",
    "- The `channel`, `offer_type`, and `id` columns are categorical\n",
    "- There are no null values"
   ]
  },
  {
   "cell_type": "markdown",
   "metadata": {
    "hideCode": false,
    "hidePrompt": false
   },
   "source": [
    "<a id='2.22'></a>\n",
    "### 2.22 `Profile` Data EDA"
   ]
  },
  {
   "cell_type": "markdown",
   "metadata": {
    "hideCode": false,
    "hidePrompt": false
   },
   "source": [
    "**`Profile` Data Info**"
   ]
  },
  {
   "cell_type": "markdown",
   "metadata": {
    "hideCode": false,
    "hidePrompt": false
   },
   "source": [
    "This dataset holds data on the demographics of users on the Starbucks app."
   ]
  },
  {
   "cell_type": "code",
   "execution_count": 146,
   "metadata": {
    "hideCode": false,
    "hidePrompt": false
   },
   "outputs": [
    {
     "data": {
      "text/html": [
       "<div>\n",
       "<style scoped>\n",
       "    .dataframe tbody tr th:only-of-type {\n",
       "        vertical-align: middle;\n",
       "    }\n",
       "\n",
       "    .dataframe tbody tr th {\n",
       "        vertical-align: top;\n",
       "    }\n",
       "\n",
       "    .dataframe thead th {\n",
       "        text-align: right;\n",
       "    }\n",
       "</style>\n",
       "<table border=\"1\" class=\"dataframe\">\n",
       "  <thead>\n",
       "    <tr style=\"text-align: right;\">\n",
       "      <th></th>\n",
       "      <th>gender</th>\n",
       "      <th>age</th>\n",
       "      <th>id</th>\n",
       "      <th>became_member_on</th>\n",
       "      <th>income</th>\n",
       "    </tr>\n",
       "  </thead>\n",
       "  <tbody>\n",
       "    <tr>\n",
       "      <th>0</th>\n",
       "      <td>None</td>\n",
       "      <td>118</td>\n",
       "      <td>68be06ca386d4c31939f3a4f0e3dd783</td>\n",
       "      <td>20170212</td>\n",
       "      <td>NaN</td>\n",
       "    </tr>\n",
       "    <tr>\n",
       "      <th>1</th>\n",
       "      <td>F</td>\n",
       "      <td>55</td>\n",
       "      <td>0610b486422d4921ae7d2bf64640c50b</td>\n",
       "      <td>20170715</td>\n",
       "      <td>112000.0</td>\n",
       "    </tr>\n",
       "    <tr>\n",
       "      <th>2</th>\n",
       "      <td>None</td>\n",
       "      <td>118</td>\n",
       "      <td>38fe809add3b4fcf9315a9694bb96ff5</td>\n",
       "      <td>20180712</td>\n",
       "      <td>NaN</td>\n",
       "    </tr>\n",
       "    <tr>\n",
       "      <th>3</th>\n",
       "      <td>F</td>\n",
       "      <td>75</td>\n",
       "      <td>78afa995795e4d85b5d9ceeca43f5fef</td>\n",
       "      <td>20170509</td>\n",
       "      <td>100000.0</td>\n",
       "    </tr>\n",
       "    <tr>\n",
       "      <th>4</th>\n",
       "      <td>None</td>\n",
       "      <td>118</td>\n",
       "      <td>a03223e636434f42ac4c3df47e8bac43</td>\n",
       "      <td>20170804</td>\n",
       "      <td>NaN</td>\n",
       "    </tr>\n",
       "  </tbody>\n",
       "</table>\n",
       "</div>"
      ],
      "text/plain": [
       "  gender  age                                id  became_member_on    income\n",
       "0   None  118  68be06ca386d4c31939f3a4f0e3dd783          20170212       NaN\n",
       "1      F   55  0610b486422d4921ae7d2bf64640c50b          20170715  112000.0\n",
       "2   None  118  38fe809add3b4fcf9315a9694bb96ff5          20180712       NaN\n",
       "3      F   75  78afa995795e4d85b5d9ceeca43f5fef          20170509  100000.0\n",
       "4   None  118  a03223e636434f42ac4c3df47e8bac43          20170804       NaN"
      ]
     },
     "execution_count": 146,
     "metadata": {},
     "output_type": "execute_result"
    }
   ],
   "source": [
    "profile.head()"
   ]
  },
  {
   "cell_type": "code",
   "execution_count": 147,
   "metadata": {
    "hideCode": false,
    "hidePrompt": false
   },
   "outputs": [
    {
     "name": "stdout",
     "output_type": "stream",
     "text": [
      "<class 'pandas.core.frame.DataFrame'>\n",
      "RangeIndex: 17000 entries, 0 to 16999\n",
      "Data columns (total 5 columns):\n",
      " #   Column            Non-Null Count  Dtype  \n",
      "---  ------            --------------  -----  \n",
      " 0   gender            14825 non-null  object \n",
      " 1   age               17000 non-null  int64  \n",
      " 2   id                17000 non-null  object \n",
      " 3   became_member_on  17000 non-null  int64  \n",
      " 4   income            14825 non-null  float64\n",
      "dtypes: float64(1), int64(2), object(2)\n",
      "memory usage: 664.2+ KB\n"
     ]
    }
   ],
   "source": [
    "profile.info()"
   ]
  },
  {
   "cell_type": "code",
   "execution_count": 148,
   "metadata": {
    "hideCode": false,
    "hidePrompt": false
   },
   "outputs": [
    {
     "data": {
      "text/plain": [
       "gender              2175\n",
       "age                    0\n",
       "id                     0\n",
       "became_member_on       0\n",
       "income              2175\n",
       "dtype: int64"
      ]
     },
     "execution_count": 148,
     "metadata": {},
     "output_type": "execute_result"
    }
   ],
   "source": [
    "profile.isnull().sum()"
   ]
  },
  {
   "cell_type": "code",
   "execution_count": 149,
   "metadata": {
    "hideCode": false,
    "hidePrompt": false,
    "scrolled": true
   },
   "outputs": [
    {
     "data": {
      "text/html": [
       "<div>\n",
       "<style scoped>\n",
       "    .dataframe tbody tr th:only-of-type {\n",
       "        vertical-align: middle;\n",
       "    }\n",
       "\n",
       "    .dataframe tbody tr th {\n",
       "        vertical-align: top;\n",
       "    }\n",
       "\n",
       "    .dataframe thead th {\n",
       "        text-align: right;\n",
       "    }\n",
       "</style>\n",
       "<table border=\"1\" class=\"dataframe\">\n",
       "  <thead>\n",
       "    <tr style=\"text-align: right;\">\n",
       "      <th></th>\n",
       "      <th>age</th>\n",
       "      <th>became_member_on</th>\n",
       "      <th>income</th>\n",
       "    </tr>\n",
       "  </thead>\n",
       "  <tbody>\n",
       "    <tr>\n",
       "      <th>count</th>\n",
       "      <td>17000.000000</td>\n",
       "      <td>1.700000e+04</td>\n",
       "      <td>14825.000000</td>\n",
       "    </tr>\n",
       "    <tr>\n",
       "      <th>mean</th>\n",
       "      <td>62.531412</td>\n",
       "      <td>2.016703e+07</td>\n",
       "      <td>65404.991568</td>\n",
       "    </tr>\n",
       "    <tr>\n",
       "      <th>std</th>\n",
       "      <td>26.738580</td>\n",
       "      <td>1.167750e+04</td>\n",
       "      <td>21598.299410</td>\n",
       "    </tr>\n",
       "    <tr>\n",
       "      <th>min</th>\n",
       "      <td>18.000000</td>\n",
       "      <td>2.013073e+07</td>\n",
       "      <td>30000.000000</td>\n",
       "    </tr>\n",
       "    <tr>\n",
       "      <th>25%</th>\n",
       "      <td>45.000000</td>\n",
       "      <td>2.016053e+07</td>\n",
       "      <td>49000.000000</td>\n",
       "    </tr>\n",
       "    <tr>\n",
       "      <th>50%</th>\n",
       "      <td>58.000000</td>\n",
       "      <td>2.017080e+07</td>\n",
       "      <td>64000.000000</td>\n",
       "    </tr>\n",
       "    <tr>\n",
       "      <th>75%</th>\n",
       "      <td>73.000000</td>\n",
       "      <td>2.017123e+07</td>\n",
       "      <td>80000.000000</td>\n",
       "    </tr>\n",
       "    <tr>\n",
       "      <th>max</th>\n",
       "      <td>118.000000</td>\n",
       "      <td>2.018073e+07</td>\n",
       "      <td>120000.000000</td>\n",
       "    </tr>\n",
       "  </tbody>\n",
       "</table>\n",
       "</div>"
      ],
      "text/plain": [
       "                age  became_member_on         income\n",
       "count  17000.000000      1.700000e+04   14825.000000\n",
       "mean      62.531412      2.016703e+07   65404.991568\n",
       "std       26.738580      1.167750e+04   21598.299410\n",
       "min       18.000000      2.013073e+07   30000.000000\n",
       "25%       45.000000      2.016053e+07   49000.000000\n",
       "50%       58.000000      2.017080e+07   64000.000000\n",
       "75%       73.000000      2.017123e+07   80000.000000\n",
       "max      118.000000      2.018073e+07  120000.000000"
      ]
     },
     "execution_count": 149,
     "metadata": {},
     "output_type": "execute_result"
    }
   ],
   "source": [
    "# Looking for outliers\n",
    "profile.describe()"
   ]
  },
  {
   "cell_type": "markdown",
   "metadata": {
    "hideCode": false,
    "hidePrompt": false
   },
   "source": [
    "**`Profile` Age and Income Distribution**"
   ]
  },
  {
   "cell_type": "code",
   "execution_count": 150,
   "metadata": {
    "hideCode": false,
    "hidePrompt": false,
    "scrolled": true
   },
   "outputs": [
    {
     "data": {
      "text/plain": [
       "age          62.531412\n",
       "income    65404.991568\n",
       "dtype: float64"
      ]
     },
     "execution_count": 150,
     "metadata": {},
     "output_type": "execute_result"
    }
   ],
   "source": [
    "profile[['age', 'income']].mean()"
   ]
  },
  {
   "cell_type": "markdown",
   "metadata": {
    "hideCode": false,
    "hidePrompt": false
   },
   "source": [
    "**`Profile` Age and Income Distribution by Gender**"
   ]
  },
  {
   "cell_type": "code",
   "execution_count": 151,
   "metadata": {
    "hideCode": false,
    "hidePrompt": false
   },
   "outputs": [
    {
     "data": {
      "image/png": "[encoded data removed]",
      "text/plain": [
       "<Figure size 1080x360 with 2 Axes>"
      ]
     },
     "metadata": {
      "needs_background": "light"
     },
     "output_type": "display_data"
    }
   ],
   "source": [
    "# Looking for age and income outliers in profile using boxplot\n",
    "fig, axes = plt.subplots(1, 2, figsize=(15,5))\n",
    "\n",
    "# Plots\n",
    "ax1 = sns.boxplot(ax=axes[0], data=profile, x='age')\n",
    "ax2 = sns.boxplot(ax=axes[1], data=profile, x='income')\n",
    "\n",
    "# Style plot\n",
    "style_sns_2('Age Outliers', 'Income Outliers', 'Age', 'Count', 'Income', 'Count')"
   ]
  },
  {
   "cell_type": "markdown",
   "metadata": {
    "hideCode": false,
    "hidePrompt": false
   },
   "source": [
    "**`Profile` Age Groups Distribution**"
   ]
  },
  {
   "cell_type": "code",
   "execution_count": 153,
   "metadata": {
    "hideCode": false,
    "hidePrompt": false
   },
   "outputs": [
    {
     "name": "stdout",
     "output_type": "stream",
     "text": [
      "Minimum age: 18\n",
      "Maximum age: 118\n"
     ]
    }
   ],
   "source": [
    "print('Minimum age:', profile['age'].min())\n",
    "print('Maximum age:', profile['age'].max())"
   ]
  },
  {
   "cell_type": "code",
   "execution_count": 154,
   "metadata": {
    "hideCode": false,
    "hidePrompt": false
   },
   "outputs": [],
   "source": [
    "# Create age groups\n",
    "age_ranges = profile.drop(columns=['id', 'became_member_on', 'income']).copy()\n",
    "a = age_ranges['age']\n",
    "age_ranges['age_group'] = a\n",
    "\n",
    "# Filter age ranges, then replace income integer with strings\n",
    "age_ranges.loc[a.between(18, 24), 'age_group'] = '18-24'\n",
    "age_ranges.loc[a.between(25, 34), 'age_group'] = '25-34'\n",
    "age_ranges.loc[a.between(35, 44), 'age_group'] = '35-44'\n",
    "age_ranges.loc[a.between(45, 54), 'age_group'] = '45-54'\n",
    "age_ranges.loc[a.between(55, 64), 'age_group'] = '55-64'\n",
    "age_ranges.loc[a.between(65, 74), 'age_group'] = '65-74'\n",
    "age_ranges.loc[a.between(75, 84), 'age_group'] = '75-84'\n",
    "age_ranges.loc[a.between(66, 94), 'age_group'] = '85-94'\n",
    "age_ranges.loc[a.between(95, 104), 'age_group'] = '95-104'\n",
    "age_ranges.loc[a.between(105, 119), 'age_group'] = '105+'\n",
    "\n",
    "# Null data age ranges\n",
    "null_ranges = age_ranges.loc[a.between(105, 118)]"
   ]
  },
  {
   "cell_type": "code",
   "execution_count": 155,
   "metadata": {
    "hideCode": false,
    "hidePrompt": false,
    "scrolled": false
   },
   "outputs": [],
   "source": [
    "# Formatting data for grouped bar plot\n",
    "age_ranges = age_ranges.groupby(['age_group', 'gender'])['age'].count().reset_index().rename(columns={'age':'count'})\n",
    "age_ranges['gender'] = age_ranges['gender'].replace({'F':'Female', 'M':'Male', 'O':'Other'})"
   ]
  },
  {
   "cell_type": "code",
   "execution_count": 156,
   "metadata": {
    "hideCode": false,
    "hidePrompt": false
   },
   "outputs": [
    {
     "data": {
      "text/html": [
       "<div>\n",
       "<style scoped>\n",
       "    .dataframe tbody tr th:only-of-type {\n",
       "        vertical-align: middle;\n",
       "    }\n",
       "\n",
       "    .dataframe tbody tr th {\n",
       "        vertical-align: top;\n",
       "    }\n",
       "\n",
       "    .dataframe thead th {\n",
       "        text-align: right;\n",
       "    }\n",
       "</style>\n",
       "<table border=\"1\" class=\"dataframe\">\n",
       "  <thead>\n",
       "    <tr style=\"text-align: right;\">\n",
       "      <th></th>\n",
       "      <th>age_group</th>\n",
       "      <th>gender</th>\n",
       "      <th>count</th>\n",
       "    </tr>\n",
       "  </thead>\n",
       "  <tbody>\n",
       "    <tr>\n",
       "      <th>0</th>\n",
       "      <td>18-24</td>\n",
       "      <td>Female</td>\n",
       "      <td>238</td>\n",
       "    </tr>\n",
       "    <tr>\n",
       "      <th>1</th>\n",
       "      <td>18-24</td>\n",
       "      <td>Male</td>\n",
       "      <td>629</td>\n",
       "    </tr>\n",
       "    <tr>\n",
       "      <th>2</th>\n",
       "      <td>18-24</td>\n",
       "      <td>Other</td>\n",
       "      <td>9</td>\n",
       "    </tr>\n",
       "    <tr>\n",
       "      <th>3</th>\n",
       "      <td>25-34</td>\n",
       "      <td>Female</td>\n",
       "      <td>407</td>\n",
       "    </tr>\n",
       "    <tr>\n",
       "      <th>4</th>\n",
       "      <td>25-34</td>\n",
       "      <td>Male</td>\n",
       "      <td>955</td>\n",
       "    </tr>\n",
       "    <tr>\n",
       "      <th>5</th>\n",
       "      <td>25-34</td>\n",
       "      <td>Other</td>\n",
       "      <td>18</td>\n",
       "    </tr>\n",
       "    <tr>\n",
       "      <th>6</th>\n",
       "      <td>35-44</td>\n",
       "      <td>Female</td>\n",
       "      <td>622</td>\n",
       "    </tr>\n",
       "    <tr>\n",
       "      <th>7</th>\n",
       "      <td>35-44</td>\n",
       "      <td>Male</td>\n",
       "      <td>1218</td>\n",
       "    </tr>\n",
       "    <tr>\n",
       "      <th>8</th>\n",
       "      <td>35-44</td>\n",
       "      <td>Other</td>\n",
       "      <td>29</td>\n",
       "    </tr>\n",
       "    <tr>\n",
       "      <th>9</th>\n",
       "      <td>45-54</td>\n",
       "      <td>Female</td>\n",
       "      <td>1247</td>\n",
       "    </tr>\n",
       "    <tr>\n",
       "      <th>10</th>\n",
       "      <td>45-54</td>\n",
       "      <td>Male</td>\n",
       "      <td>1718</td>\n",
       "    </tr>\n",
       "    <tr>\n",
       "      <th>11</th>\n",
       "      <td>45-54</td>\n",
       "      <td>Other</td>\n",
       "      <td>48</td>\n",
       "    </tr>\n",
       "    <tr>\n",
       "      <th>12</th>\n",
       "      <td>55-64</td>\n",
       "      <td>Female</td>\n",
       "      <td>1549</td>\n",
       "    </tr>\n",
       "    <tr>\n",
       "      <th>13</th>\n",
       "      <td>55-64</td>\n",
       "      <td>Male</td>\n",
       "      <td>1821</td>\n",
       "    </tr>\n",
       "    <tr>\n",
       "      <th>14</th>\n",
       "      <td>55-64</td>\n",
       "      <td>Other</td>\n",
       "      <td>51</td>\n",
       "    </tr>\n",
       "    <tr>\n",
       "      <th>15</th>\n",
       "      <td>65-74</td>\n",
       "      <td>Female</td>\n",
       "      <td>134</td>\n",
       "    </tr>\n",
       "    <tr>\n",
       "      <th>16</th>\n",
       "      <td>65-74</td>\n",
       "      <td>Male</td>\n",
       "      <td>145</td>\n",
       "    </tr>\n",
       "    <tr>\n",
       "      <th>17</th>\n",
       "      <td>65-74</td>\n",
       "      <td>Other</td>\n",
       "      <td>1</td>\n",
       "    </tr>\n",
       "    <tr>\n",
       "      <th>18</th>\n",
       "      <td>85-94</td>\n",
       "      <td>Female</td>\n",
       "      <td>1883</td>\n",
       "    </tr>\n",
       "    <tr>\n",
       "      <th>19</th>\n",
       "      <td>85-94</td>\n",
       "      <td>Male</td>\n",
       "      <td>1978</td>\n",
       "    </tr>\n",
       "    <tr>\n",
       "      <th>20</th>\n",
       "      <td>85-94</td>\n",
       "      <td>Other</td>\n",
       "      <td>55</td>\n",
       "    </tr>\n",
       "    <tr>\n",
       "      <th>21</th>\n",
       "      <td>95-104</td>\n",
       "      <td>Female</td>\n",
       "      <td>49</td>\n",
       "    </tr>\n",
       "    <tr>\n",
       "      <th>22</th>\n",
       "      <td>95-104</td>\n",
       "      <td>Male</td>\n",
       "      <td>20</td>\n",
       "    </tr>\n",
       "    <tr>\n",
       "      <th>23</th>\n",
       "      <td>95-104</td>\n",
       "      <td>Other</td>\n",
       "      <td>1</td>\n",
       "    </tr>\n",
       "  </tbody>\n",
       "</table>\n",
       "</div>"
      ],
      "text/plain": [
       "   age_group  gender  count\n",
       "0      18-24  Female    238\n",
       "1      18-24    Male    629\n",
       "2      18-24   Other      9\n",
       "3      25-34  Female    407\n",
       "4      25-34    Male    955\n",
       "5      25-34   Other     18\n",
       "6      35-44  Female    622\n",
       "7      35-44    Male   1218\n",
       "8      35-44   Other     29\n",
       "9      45-54  Female   1247\n",
       "10     45-54    Male   1718\n",
       "11     45-54   Other     48\n",
       "12     55-64  Female   1549\n",
       "13     55-64    Male   1821\n",
       "14     55-64   Other     51\n",
       "15     65-74  Female    134\n",
       "16     65-74    Male    145\n",
       "17     65-74   Other      1\n",
       "18     85-94  Female   1883\n",
       "19     85-94    Male   1978\n",
       "20     85-94   Other     55\n",
       "21    95-104  Female     49\n",
       "22    95-104    Male     20\n",
       "23    95-104   Other      1"
      ]
     },
     "execution_count": 156,
     "metadata": {},
     "output_type": "execute_result"
    }
   ],
   "source": [
    "age_ranges"
   ]
  },
  {
   "cell_type": "code",
   "execution_count": 157,
   "metadata": {
    "hideCode": false,
    "hidePrompt": false
   },
   "outputs": [
    {
     "data": {
      "image/png": "[encoded data removed]",
      "text/plain": [
       "<Figure size 432x288 with 1 Axes>"
      ]
     },
     "metadata": {
      "needs_background": "light"
     },
     "output_type": "display_data"
    }
   ],
   "source": [
    "# Plot\n",
    "sns.barplot(x='age_group', y='count', hue='gender', data=age_ranges).legend(title='Gender')\n",
    "\n",
    "# Styling\n",
    "style_sns_1(title='Distribution of Age Groups', xlabel='Age Range', ylabel='Count')"
   ]
  },
  {
   "cell_type": "markdown",
   "metadata": {
    "hideCode": false,
    "hidePrompt": false
   },
   "source": [
    "**Note:** None gender ages are omitted from the bar plot due to missing data."
   ]
  },
  {
   "cell_type": "code",
   "execution_count": 158,
   "metadata": {
    "hideCode": false,
    "hidePrompt": false
   },
   "outputs": [
    {
     "data": {
      "text/html": [
       "<div>\n",
       "<style scoped>\n",
       "    .dataframe tbody tr th:only-of-type {\n",
       "        vertical-align: middle;\n",
       "    }\n",
       "\n",
       "    .dataframe tbody tr th {\n",
       "        vertical-align: top;\n",
       "    }\n",
       "\n",
       "    .dataframe thead th {\n",
       "        text-align: right;\n",
       "    }\n",
       "</style>\n",
       "<table border=\"1\" class=\"dataframe\">\n",
       "  <thead>\n",
       "    <tr style=\"text-align: right;\">\n",
       "      <th></th>\n",
       "      <th>gender</th>\n",
       "      <th>age</th>\n",
       "      <th>age_group</th>\n",
       "    </tr>\n",
       "  </thead>\n",
       "  <tbody>\n",
       "    <tr>\n",
       "      <th>0</th>\n",
       "      <td>None</td>\n",
       "      <td>118</td>\n",
       "      <td>105+</td>\n",
       "    </tr>\n",
       "    <tr>\n",
       "      <th>2</th>\n",
       "      <td>None</td>\n",
       "      <td>118</td>\n",
       "      <td>105+</td>\n",
       "    </tr>\n",
       "    <tr>\n",
       "      <th>4</th>\n",
       "      <td>None</td>\n",
       "      <td>118</td>\n",
       "      <td>105+</td>\n",
       "    </tr>\n",
       "    <tr>\n",
       "      <th>6</th>\n",
       "      <td>None</td>\n",
       "      <td>118</td>\n",
       "      <td>105+</td>\n",
       "    </tr>\n",
       "    <tr>\n",
       "      <th>7</th>\n",
       "      <td>None</td>\n",
       "      <td>118</td>\n",
       "      <td>105+</td>\n",
       "    </tr>\n",
       "  </tbody>\n",
       "</table>\n",
       "</div>"
      ],
      "text/plain": [
       "  gender  age age_group\n",
       "0   None  118      105+\n",
       "2   None  118      105+\n",
       "4   None  118      105+\n",
       "6   None  118      105+\n",
       "7   None  118      105+"
      ]
     },
     "execution_count": 158,
     "metadata": {},
     "output_type": "execute_result"
    }
   ],
   "source": [
    "# Sample of age ranges with null gender values\n",
    "null_ranges.head()"
   ]
  },
  {
   "cell_type": "code",
   "execution_count": 159,
   "metadata": {
    "hideCode": false,
    "hidePrompt": false
   },
   "outputs": [
    {
     "name": "stdout",
     "output_type": "stream",
     "text": [
      "Age outlier count: 2175\n",
      "Age outlier percentage: 12.79 %\n"
     ]
    }
   ],
   "source": [
    "# Total count of ages over 115\n",
    "print('Age outlier count:', profile['age'][profile['age'] > 115].count())\n",
    "\n",
    "# Finding percentage of outliers in age\n",
    "outliers = profile['age'][profile['age'] > 115].count()\n",
    "all_age_counts = profile ['age'].count()\n",
    "print('Age outlier percentage:', round(outliers/all_age_counts*100, 2), '%')"
   ]
  },
  {
   "cell_type": "markdown",
   "metadata": {
    "hideCode": false,
    "hidePrompt": false
   },
   "source": [
    "We can see a large number of outliers here in the age column showing around 120 years of age. We could just use the median age to fill their values but the dataset would be imbalanced with most datapoints coming from the median age range. Since we only found 2175 ages over 115, we can safely delete them. We also found a pattern that all ages of 118 have a gender of `none` and income of `NaN`. This suggests to me there is an error with the data being input so it is useless to us even if we decided to impute the values."
   ]
  },
  {
   "cell_type": "markdown",
   "metadata": {
    "hideCode": false,
    "hidePrompt": false
   },
   "source": [
    "**`Profile` Gender Distribution**"
   ]
  },
  {
   "cell_type": "code",
   "execution_count": 160,
   "metadata": {
    "hideCode": false,
    "hidePrompt": false
   },
   "outputs": [
    {
     "data": {
      "text/plain": [
       "M    8484\n",
       "F    6129\n",
       "O     212\n",
       "Name: gender, dtype: int64"
      ]
     },
     "execution_count": 160,
     "metadata": {},
     "output_type": "execute_result"
    }
   ],
   "source": [
    "profile['gender'].value_counts()"
   ]
  },
  {
   "cell_type": "code",
   "execution_count": 161,
   "metadata": {
    "hideCode": false,
    "hidePrompt": false
   },
   "outputs": [
    {
     "data": {
      "image/png": "[encoded data removed]",
      "text/plain": [
       "<Figure size 360x360 with 1 Axes>"
      ]
     },
     "metadata": {
      "needs_background": "light"
     },
     "output_type": "display_data"
    }
   ],
   "source": [
    "# Gender distribution\n",
    "sns.catplot(x='gender', kind='count', data=profile)\n",
    "\n",
    "# Style plot\n",
    "style_sns_1('Gender Distribution', 'Gender', 'Count')"
   ]
  },
  {
   "cell_type": "code",
   "execution_count": 162,
   "metadata": {
    "hideCode": false,
    "hidePrompt": false
   },
   "outputs": [
    {
     "data": {
      "image/png": "[encoded data removed]",
      "text/plain": [
       "<Figure size 720x432 with 1 Axes>"
      ]
     },
     "metadata": {},
     "output_type": "display_data"
    }
   ],
   "source": [
    "style_pie_1(title='Gender Distribution', labels=[*profile['gender'].dropna().unique()],\n",
    "            data=profile['gender'].value_counts())"
   ]
  },
  {
   "cell_type": "markdown",
   "metadata": {
    "hideCode": false,
    "hidePrompt": false
   },
   "source": [
    "**`Profile` Distribution of when customer became a rewards member**"
   ]
  },
  {
   "cell_type": "code",
   "execution_count": 163,
   "metadata": {
    "hideCode": false,
    "hidePrompt": false
   },
   "outputs": [
    {
     "data": {
      "text/plain": [
       "2017    38.052941\n",
       "2018    24.694118\n",
       "2016    20.741176\n",
       "2015    10.764706\n",
       "2014     4.064706\n",
       "2013     1.682353\n",
       "Name: became_member_on, dtype: float64"
      ]
     },
     "execution_count": 163,
     "metadata": {},
     "output_type": "execute_result"
    }
   ],
   "source": [
    "# Percentage of years users became members on\n",
    "became_member_on = pd.to_datetime(profile['became_member_on'], format='%Y%m%d')\n",
    "became_member_year = became_member_on.dt.year.value_counts()\n",
    "became_member_year *= 100 / became_member_year.sum()\n",
    "became_member_year"
   ]
  },
  {
   "cell_type": "code",
   "execution_count": 164,
   "metadata": {
    "hideCode": false,
    "hidePrompt": false
   },
   "outputs": [
    {
     "data": {
      "text/plain": [
       "8     9.470588\n",
       "10    9.223529\n",
       "12    9.152941\n",
       "1     8.970588\n",
       "9     8.911765\n",
       "11    8.523529\n",
       "7     7.994118\n",
       "3     7.817647\n",
       "4     7.735294\n",
       "5     7.688235\n",
       "6     7.441176\n",
       "2     7.070588\n",
       "Name: became_member_on, dtype: float64"
      ]
     },
     "execution_count": 164,
     "metadata": {},
     "output_type": "execute_result"
    }
   ],
   "source": [
    "# Percentage of years users became members on\n",
    "became_member_on = pd.to_datetime(profile['became_member_on'], format='%Y%m%d')\n",
    "became_member_month = became_member_on.dt.month.value_counts()\n",
    "became_member_month *= 100 / became_member_month.sum()\n",
    "became_member_month"
   ]
  },
  {
   "cell_type": "code",
   "execution_count": 165,
   "metadata": {
    "hideCode": false,
    "hidePrompt": false
   },
   "outputs": [
    {
     "data": {
      "text/html": [
       "<div>\n",
       "<style scoped>\n",
       "    .dataframe tbody tr th:only-of-type {\n",
       "        vertical-align: middle;\n",
       "    }\n",
       "\n",
       "    .dataframe tbody tr th {\n",
       "        vertical-align: top;\n",
       "    }\n",
       "\n",
       "    .dataframe thead th {\n",
       "        text-align: right;\n",
       "    }\n",
       "</style>\n",
       "<table border=\"1\" class=\"dataframe\">\n",
       "  <thead>\n",
       "    <tr style=\"text-align: right;\">\n",
       "      <th></th>\n",
       "      <th>year</th>\n",
       "      <th>gender</th>\n",
       "      <th>count</th>\n",
       "    </tr>\n",
       "  </thead>\n",
       "  <tbody>\n",
       "    <tr>\n",
       "      <th>0</th>\n",
       "      <td>2013</td>\n",
       "      <td>Female</td>\n",
       "      <td>74</td>\n",
       "    </tr>\n",
       "    <tr>\n",
       "      <th>1</th>\n",
       "      <td>2013</td>\n",
       "      <td>Male</td>\n",
       "      <td>197</td>\n",
       "    </tr>\n",
       "    <tr>\n",
       "      <th>2</th>\n",
       "      <td>2013</td>\n",
       "      <td>Other</td>\n",
       "      <td>3</td>\n",
       "    </tr>\n",
       "    <tr>\n",
       "      <th>3</th>\n",
       "      <td>2014</td>\n",
       "      <td>Female</td>\n",
       "      <td>138</td>\n",
       "    </tr>\n",
       "    <tr>\n",
       "      <th>4</th>\n",
       "      <td>2014</td>\n",
       "      <td>Male</td>\n",
       "      <td>520</td>\n",
       "    </tr>\n",
       "    <tr>\n",
       "      <th>5</th>\n",
       "      <td>2014</td>\n",
       "      <td>Other</td>\n",
       "      <td>4</td>\n",
       "    </tr>\n",
       "    <tr>\n",
       "      <th>6</th>\n",
       "      <td>2015</td>\n",
       "      <td>Female</td>\n",
       "      <td>663</td>\n",
       "    </tr>\n",
       "    <tr>\n",
       "      <th>7</th>\n",
       "      <td>2015</td>\n",
       "      <td>Male</td>\n",
       "      <td>905</td>\n",
       "    </tr>\n",
       "    <tr>\n",
       "      <th>8</th>\n",
       "      <td>2015</td>\n",
       "      <td>Other</td>\n",
       "      <td>29</td>\n",
       "    </tr>\n",
       "    <tr>\n",
       "      <th>9</th>\n",
       "      <td>2016</td>\n",
       "      <td>Female</td>\n",
       "      <td>1509</td>\n",
       "    </tr>\n",
       "    <tr>\n",
       "      <th>10</th>\n",
       "      <td>2016</td>\n",
       "      <td>Male</td>\n",
       "      <td>1483</td>\n",
       "    </tr>\n",
       "    <tr>\n",
       "      <th>11</th>\n",
       "      <td>2016</td>\n",
       "      <td>Other</td>\n",
       "      <td>32</td>\n",
       "    </tr>\n",
       "    <tr>\n",
       "      <th>12</th>\n",
       "      <td>2017</td>\n",
       "      <td>Female</td>\n",
       "      <td>2443</td>\n",
       "    </tr>\n",
       "    <tr>\n",
       "      <th>13</th>\n",
       "      <td>2017</td>\n",
       "      <td>Male</td>\n",
       "      <td>3067</td>\n",
       "    </tr>\n",
       "    <tr>\n",
       "      <th>14</th>\n",
       "      <td>2017</td>\n",
       "      <td>Other</td>\n",
       "      <td>89</td>\n",
       "    </tr>\n",
       "    <tr>\n",
       "      <th>15</th>\n",
       "      <td>2018</td>\n",
       "      <td>Female</td>\n",
       "      <td>1302</td>\n",
       "    </tr>\n",
       "    <tr>\n",
       "      <th>16</th>\n",
       "      <td>2018</td>\n",
       "      <td>Male</td>\n",
       "      <td>2312</td>\n",
       "    </tr>\n",
       "    <tr>\n",
       "      <th>17</th>\n",
       "      <td>2018</td>\n",
       "      <td>Other</td>\n",
       "      <td>55</td>\n",
       "    </tr>\n",
       "  </tbody>\n",
       "</table>\n",
       "</div>"
      ],
      "text/plain": [
       "    year  gender  count\n",
       "0   2013  Female     74\n",
       "1   2013    Male    197\n",
       "2   2013   Other      3\n",
       "3   2014  Female    138\n",
       "4   2014    Male    520\n",
       "5   2014   Other      4\n",
       "6   2015  Female    663\n",
       "7   2015    Male    905\n",
       "8   2015   Other     29\n",
       "9   2016  Female   1509\n",
       "10  2016    Male   1483\n",
       "11  2016   Other     32\n",
       "12  2017  Female   2443\n",
       "13  2017    Male   3067\n",
       "14  2017   Other     89\n",
       "15  2018  Female   1302\n",
       "16  2018    Male   2312\n",
       "17  2018   Other     55"
      ]
     },
     "execution_count": 165,
     "metadata": {},
     "output_type": "execute_result"
    }
   ],
   "source": [
    "# Prepare data for bar plot\n",
    "profile_members = profile[['became_member_on', 'gender']].copy()\n",
    "profile_members['year'] = pd.to_datetime(profile['became_member_on'], format='%Y%m%d').dt.year\n",
    "profile_members['gender'] = profile_members['gender'].replace({'F':'Female', 'M':'Male', 'O':'Other'})\n",
    "member_date = profile_members.groupby(['year','gender']).count().reset_index().iloc[:,:3].rename(\n",
    "    columns={'became_member_on':'count'})\n",
    "\n",
    "member_date"
   ]
  },
  {
   "cell_type": "code",
   "execution_count": 166,
   "metadata": {
    "hideCode": false,
    "hidePrompt": false
   },
   "outputs": [
    {
     "data": {
      "image/png": "[encoded data removed]",
      "text/plain": [
       "<Figure size 432x288 with 1 Axes>"
      ]
     },
     "metadata": {
      "needs_background": "light"
     },
     "output_type": "display_data"
    }
   ],
   "source": [
    "# Plot\n",
    "sns.barplot(x='year', y='count', hue='gender', data=member_date).legend(title='Gender')\n",
    "\n",
    "# Styling\n",
    "style_sns_1(title='Membership Year by Gender', xlabel='Year', ylabel='Count')"
   ]
  },
  {
   "cell_type": "markdown",
   "metadata": {
    "hideCode": false,
    "hidePrompt": false
   },
   "source": [
    "**`Profile Data` Observations:** \n",
    "- The meadian and mean age of users is around 55 years old\n",
    "- The maximum age is 118 which is an error, but the minimum age is 18\n",
    "- Observations with age as 118 seem to be bad data since only the `id` hash is provided\n",
    "- The income seems to have the most users between 50,000 to 70,000 USD which shows our demographic is mainly older, wealthier individuals\n",
    "- The maximum income is 120,000 USD, but the minimum is 30,000 USD\n",
    "- `id` column contains verbose hashes that can be converted to integers to make them easier to navigate\n",
    "- The hashes should be mapped to the `Transcript` DataFrame since we can match the `id` values\n",
    "- Females account for 57.2% of the dataset, males account for 41.3% and other only 1.4%. The gender distribution could create some imbalance later"
   ]
  },
  {
   "cell_type": "markdown",
   "metadata": {
    "hideCode": false,
    "hidePrompt": false
   },
   "source": [
    "<a id='2.23'></a>\n",
    "### 2.23 `Transcript` Data EDA"
   ]
  },
  {
   "cell_type": "markdown",
   "metadata": {
    "hideCode": false,
    "hidePrompt": false
   },
   "source": [
    "**`Transcript` Data Info**"
   ]
  },
  {
   "cell_type": "markdown",
   "metadata": {
    "hideCode": false,
    "hidePrompt": false
   },
   "source": [
    "This dataset holds the transaction data including records for transactions, offers received, offers viewed, and offers completed."
   ]
  },
  {
   "cell_type": "code",
   "execution_count": 167,
   "metadata": {
    "hideCode": false,
    "hidePrompt": false,
    "scrolled": true
   },
   "outputs": [
    {
     "data": {
      "text/html": [
       "<div>\n",
       "<style scoped>\n",
       "    .dataframe tbody tr th:only-of-type {\n",
       "        vertical-align: middle;\n",
       "    }\n",
       "\n",
       "    .dataframe tbody tr th {\n",
       "        vertical-align: top;\n",
       "    }\n",
       "\n",
       "    .dataframe thead th {\n",
       "        text-align: right;\n",
       "    }\n",
       "</style>\n",
       "<table border=\"1\" class=\"dataframe\">\n",
       "  <thead>\n",
       "    <tr style=\"text-align: right;\">\n",
       "      <th></th>\n",
       "      <th>person</th>\n",
       "      <th>event</th>\n",
       "      <th>value</th>\n",
       "      <th>time</th>\n",
       "    </tr>\n",
       "  </thead>\n",
       "  <tbody>\n",
       "    <tr>\n",
       "      <th>0</th>\n",
       "      <td>78afa995795e4d85b5d9ceeca43f5fef</td>\n",
       "      <td>offer received</td>\n",
       "      <td>{'offer id': '9b98b8c7a33c4b65b9aebfe6a799e6d9'}</td>\n",
       "      <td>0</td>\n",
       "    </tr>\n",
       "    <tr>\n",
       "      <th>1</th>\n",
       "      <td>a03223e636434f42ac4c3df47e8bac43</td>\n",
       "      <td>offer received</td>\n",
       "      <td>{'offer id': '0b1e1539f2cc45b7b9fa7c272da2e1d7'}</td>\n",
       "      <td>0</td>\n",
       "    </tr>\n",
       "    <tr>\n",
       "      <th>2</th>\n",
       "      <td>e2127556f4f64592b11af22de27a7932</td>\n",
       "      <td>offer received</td>\n",
       "      <td>{'offer id': '2906b810c7d4411798c6938adc9daaa5'}</td>\n",
       "      <td>0</td>\n",
       "    </tr>\n",
       "    <tr>\n",
       "      <th>3</th>\n",
       "      <td>8ec6ce2a7e7949b1bf142def7d0e0586</td>\n",
       "      <td>offer received</td>\n",
       "      <td>{'offer id': 'fafdcd668e3743c1bb461111dcafc2a4'}</td>\n",
       "      <td>0</td>\n",
       "    </tr>\n",
       "    <tr>\n",
       "      <th>4</th>\n",
       "      <td>68617ca6246f4fbc85e91a2a49552598</td>\n",
       "      <td>offer received</td>\n",
       "      <td>{'offer id': '4d5c57ea9a6940dd891ad53e9dbe8da0'}</td>\n",
       "      <td>0</td>\n",
       "    </tr>\n",
       "  </tbody>\n",
       "</table>\n",
       "</div>"
      ],
      "text/plain": [
       "                             person           event  \\\n",
       "0  78afa995795e4d85b5d9ceeca43f5fef  offer received   \n",
       "1  a03223e636434f42ac4c3df47e8bac43  offer received   \n",
       "2  e2127556f4f64592b11af22de27a7932  offer received   \n",
       "3  8ec6ce2a7e7949b1bf142def7d0e0586  offer received   \n",
       "4  68617ca6246f4fbc85e91a2a49552598  offer received   \n",
       "\n",
       "                                              value  time  \n",
       "0  {'offer id': '9b98b8c7a33c4b65b9aebfe6a799e6d9'}     0  \n",
       "1  {'offer id': '0b1e1539f2cc45b7b9fa7c272da2e1d7'}     0  \n",
       "2  {'offer id': '2906b810c7d4411798c6938adc9daaa5'}     0  \n",
       "3  {'offer id': 'fafdcd668e3743c1bb461111dcafc2a4'}     0  \n",
       "4  {'offer id': '4d5c57ea9a6940dd891ad53e9dbe8da0'}     0  "
      ]
     },
     "execution_count": 167,
     "metadata": {},
     "output_type": "execute_result"
    }
   ],
   "source": [
    "transcript.head()"
   ]
  },
  {
   "cell_type": "code",
   "execution_count": 168,
   "metadata": {
    "hideCode": false,
    "hidePrompt": false,
    "scrolled": true
   },
   "outputs": [
    {
     "name": "stdout",
     "output_type": "stream",
     "text": [
      "<class 'pandas.core.frame.DataFrame'>\n",
      "RangeIndex: 306534 entries, 0 to 306533\n",
      "Data columns (total 4 columns):\n",
      " #   Column  Non-Null Count   Dtype \n",
      "---  ------  --------------   ----- \n",
      " 0   person  306534 non-null  object\n",
      " 1   event   306534 non-null  object\n",
      " 2   value   306534 non-null  object\n",
      " 3   time    306534 non-null  int64 \n",
      "dtypes: int64(1), object(3)\n",
      "memory usage: 9.4+ MB\n"
     ]
    }
   ],
   "source": [
    "transcript.info()"
   ]
  },
  {
   "cell_type": "code",
   "execution_count": 169,
   "metadata": {
    "hideCode": false,
    "hidePrompt": false
   },
   "outputs": [
    {
     "data": {
      "text/plain": [
       "person    0\n",
       "event     0\n",
       "value     0\n",
       "time      0\n",
       "dtype: int64"
      ]
     },
     "execution_count": 169,
     "metadata": {},
     "output_type": "execute_result"
    }
   ],
   "source": [
    "transcript.isnull().sum()"
   ]
  },
  {
   "cell_type": "code",
   "execution_count": 170,
   "metadata": {
    "hideCode": false,
    "hidePrompt": false
   },
   "outputs": [
    {
     "data": {
      "text/plain": [
       "transaction        138953\n",
       "offer received      76277\n",
       "offer viewed        57725\n",
       "offer completed     33579\n",
       "Name: event, dtype: int64"
      ]
     },
     "execution_count": 170,
     "metadata": {},
     "output_type": "execute_result"
    }
   ],
   "source": [
    "transcript['event'].value_counts()"
   ]
  },
  {
   "cell_type": "code",
   "execution_count": 171,
   "metadata": {
    "hideCode": false,
    "hidePrompt": false,
    "scrolled": true
   },
   "outputs": [
    {
     "data": {
      "text/plain": [
       "17000"
      ]
     },
     "execution_count": 171,
     "metadata": {},
     "output_type": "execute_result"
    }
   ],
   "source": [
    "transcript['person'].nunique()"
   ]
  },
  {
   "cell_type": "code",
   "execution_count": 172,
   "metadata": {
    "hideCode": false,
    "hidePrompt": false
   },
   "outputs": [
    {
     "data": {
      "text/plain": [
       "{'offer id': '9b98b8c7a33c4b65b9aebfe6a799e6d9'}"
      ]
     },
     "execution_count": 172,
     "metadata": {},
     "output_type": "execute_result"
    }
   ],
   "source": [
    "# Exploring the dictionaries\n",
    "transcript['value'][0]"
   ]
  },
  {
   "cell_type": "code",
   "execution_count": 173,
   "metadata": {
    "hideCode": false,
    "hidePrompt": false
   },
   "outputs": [
    {
     "data": {
      "text/plain": [
       "dict"
      ]
     },
     "execution_count": 173,
     "metadata": {},
     "output_type": "execute_result"
    }
   ],
   "source": [
    "type(transcript['value'][0])"
   ]
  },
  {
   "cell_type": "code",
   "execution_count": 174,
   "metadata": {
    "hideCode": false,
    "hidePrompt": false
   },
   "outputs": [
    {
     "data": {
      "text/plain": [
       "dict_keys(['offer id'])"
      ]
     },
     "execution_count": 174,
     "metadata": {},
     "output_type": "execute_result"
    }
   ],
   "source": [
    "transcript['value'][0].keys()"
   ]
  },
  {
   "cell_type": "code",
   "execution_count": 175,
   "metadata": {
    "hideCode": false,
    "hidePrompt": false
   },
   "outputs": [],
   "source": [
    "# Iterate through the keys in value_col and append to list\n",
    "value_col = transcript['value']\n",
    "dict_counter = []\n",
    "for x in value_col:\n",
    "    try:\n",
    "        dict_counter.append([*x.keys()]) # *unpacks the dict to reveal each string value\n",
    "    except:\n",
    "        dict_counter.extend([*x.keys()]) # if two values or more cause error then extend list\n",
    "\n",
    "# File name        \n",
    "file_name = \"dict_counter.pkl\"\n",
    "\n",
    "# Save dict as pkl\n",
    "open_file = open(file_name, \"wb\")\n",
    "pickle.dump(dict_counter, open_file)\n",
    "open_file.close()"
   ]
  },
  {
   "cell_type": "code",
   "execution_count": 176,
   "metadata": {
    "hideCode": false,
    "hidePrompt": false
   },
   "outputs": [],
   "source": [
    "# Load dict strings from pkl\n",
    "open_file = open(file_name, \"rb\")\n",
    "loaded_list = pickle.load(open_file)\n",
    "open_file.close()"
   ]
  },
  {
   "cell_type": "code",
   "execution_count": 177,
   "metadata": {
    "hideCode": false,
    "hidePrompt": false
   },
   "outputs": [
    {
     "data": {
      "text/plain": [
       "array([list(['amount']), list(['offer id']), list(['offer_id', 'reward'])],\n",
       "      dtype=object)"
      ]
     },
     "execution_count": 177,
     "metadata": {},
     "output_type": "execute_result"
    }
   ],
   "source": [
    "# Unique values\n",
    "loaded = np.array(loaded_list, dtype=object)\n",
    "np.unique(loaded)"
   ]
  },
  {
   "cell_type": "raw",
   "metadata": {
    "hideCode": false,
    "hidePrompt": false,
    "scrolled": true
   },
   "source": [
    "# Print unique values in 'value' column\n",
    "try:\n",
    "    print(transcript['value'].value_counts())\n",
    "except TypeError:\n",
    "    pass"
   ]
  },
  {
   "cell_type": "markdown",
   "metadata": {
    "hideCode": false,
    "hidePrompt": false
   },
   "source": [
    "**`Transcript Data` Observations:** \n",
    "- Found nested dicts in the transcript `value` column from the json which need to be unpacked/flattened to fix the issue\n",
    "- There are no null values in the dataset\n",
    "- Categorical columns found are `person`, `value`, `event`"
   ]
  },
  {
   "cell_type": "markdown",
   "metadata": {
    "hideCode": false,
    "hidePrompt": false
   },
   "source": [
    "**Note:** Portfolio data looks clean, no changes need to be made at the moment apart from renaming some columns to match the other dataframes."
   ]
  },
  {
   "cell_type": "markdown",
   "metadata": {
    "hideCode": false,
    "hidePrompt": false
   },
   "source": [
    "<a id='2.3'></a>\n",
    "### 2.3. Assess Data"
   ]
  },
  {
   "cell_type": "markdown",
   "metadata": {
    "hideCode": false,
    "hidePrompt": false
   },
   "source": [
    "<blockquote> \n",
    "<b>Quality:</b> issues with content. Low quality data is also known as dirty data. <br>\n",
    "<b>Tidiness:</b> issues with structure that prevent easy analysis. Untidy data is also known as messy data.<br>\n",
    "    <b>Tidy data requirements:</b>\n",
    "Each variable forms a column.\n",
    "Each observation forms a row.\n",
    "Each type of observational unit forms a table.\n",
    "</blockquote>"
   ]
  },
  {
   "cell_type": "markdown",
   "metadata": {
    "hideCode": false,
    "hidePrompt": false
   },
   "source": [
    "#### 1. Assess `Portfolio`"
   ]
  },
  {
   "cell_type": "markdown",
   "metadata": {
    "hideCode": false,
    "hidePrompt": false
   },
   "source": [
    "#### Quality issues"
   ]
  },
  {
   "cell_type": "markdown",
   "metadata": {
    "hideCode": false,
    "hidePrompt": false
   },
   "source": [
    "None."
   ]
  },
  {
   "cell_type": "markdown",
   "metadata": {
    "hideCode": false,
    "hidePrompt": false
   },
   "source": [
    "#### Tidiness issues"
   ]
  },
  {
   "cell_type": "markdown",
   "metadata": {
    "hideCode": false,
    "hidePrompt": false
   },
   "source": [
    "1. Unpack lists in `channels` column then split categorical columns into dummies then drop their parent columns\n",
    "2. Rename `id` column to `offer_id`\n",
    "3. Map each offer hash to in `id` to an integer"
   ]
  },
  {
   "cell_type": "markdown",
   "metadata": {
    "hideCode": false,
    "hidePrompt": false
   },
   "source": [
    "#### 2. Assess `Profile`"
   ]
  },
  {
   "cell_type": "markdown",
   "metadata": {
    "hideCode": false,
    "hidePrompt": false
   },
   "source": [
    "#### Quality issues"
   ]
  },
  {
   "cell_type": "markdown",
   "metadata": {
    "hideCode": false,
    "hidePrompt": false
   },
   "source": [
    "**Note:** These issues should only be addressed after all datasets have been merged in order to retain each `id` hash"
   ]
  },
  {
   "cell_type": "markdown",
   "metadata": {
    "hideCode": false,
    "hidePrompt": false
   },
   "source": [
    "1. Missing data such as `None` in `gender` column\n",
    "2. Missing data such as `NaN` in `income` column\n",
    "3. Incorrect values such as `118` years old in `age` column"
   ]
  },
  {
   "cell_type": "markdown",
   "metadata": {
    "hideCode": false,
    "hidePrompt": false
   },
   "source": [
    "#### Tidiness issues"
   ]
  },
  {
   "cell_type": "markdown",
   "metadata": {
    "hideCode": false,
    "hidePrompt": false
   },
   "source": [
    "1. Format `became_member_on` as a datetime object then create `became_member_year` with just the year the user joined\n",
    "2. Rename `id` column to `user_id`\n",
    "3. Map each offer hash to in `id` to an integer\n",
    "4. Split the `income` by quantiles for creating 5 equal income groups as strings\n",
    "5. Split the `age` by ranges as strings"
   ]
  },
  {
   "cell_type": "markdown",
   "metadata": {
    "hideCode": false,
    "hidePrompt": false
   },
   "source": [
    "#### 3. Assess `Transcript`"
   ]
  },
  {
   "cell_type": "markdown",
   "metadata": {
    "hideCode": false,
    "hidePrompt": false
   },
   "source": [
    "#### Quality issues"
   ]
  },
  {
   "cell_type": "markdown",
   "metadata": {
    "hideCode": false,
    "hidePrompt": false
   },
   "source": [
    "None."
   ]
  },
  {
   "cell_type": "markdown",
   "metadata": {
    "hideCode": false,
    "hidePrompt": false
   },
   "source": [
    "#### Tidiness issues"
   ]
  },
  {
   "cell_type": "markdown",
   "metadata": {
    "hideCode": false,
    "hidePrompt": false
   },
   "source": [
    "1. Rename `person` column to `user_id`\n",
    "2. Unpack dict from `value` column to their own columns then drop `value` column\n",
    "3. Map each offer hash to in `user_id` and `offer_id` to an integer"
   ]
  },
  {
   "cell_type": "markdown",
   "metadata": {
    "hideCode": false,
    "hidePrompt": false
   },
   "source": [
    "<a id='3'></a>\n",
    "## 3. Data Preparation"
   ]
  },
  {
   "cell_type": "markdown",
   "metadata": {
    "hideCode": false,
    "hidePrompt": false
   },
   "source": [
    "To prepare our data we must clean our data then pre-process it in order to build a more accurate model. We also need to pay attention the total numbers of the selected variables. Selecting too few variables may not achieve high accuracy, while selecting too many variables may cause overfitting. In this section, we will select the top numerical variables with a high correlation to our response variable to use for our predictions. Dummy variables will be created for the selected categorical variables with 0, 1 encodings. A number of dummy variables with the highest correlations will be obtained to be used for the initial modeling.\n",
    "\n",
    "**Reference:** https://towardsdatascience.com/introduction-to-data-preprocessing-in-machine-learning-a9fa83a5dc9d"
   ]
  },
  {
   "cell_type": "markdown",
   "metadata": {
    "hideCode": false,
    "hidePrompt": false
   },
   "source": [
    "<a id='3.1'></a>\n",
    "### 3.1. Clean Data"
   ]
  },
  {
   "cell_type": "code",
   "execution_count": 178,
   "metadata": {
    "hideCode": false,
    "hidePrompt": false
   },
   "outputs": [],
   "source": [
    "# Copy dataframes\n",
    "portfolio_new = portfolio.copy()\n",
    "profile_new = profile.copy()\n",
    "transcript_new = transcript.copy()"
   ]
  },
  {
   "cell_type": "markdown",
   "metadata": {
    "hideCode": false,
    "hidePrompt": false
   },
   "source": [
    "#### 1. Clean `portfolio_new`"
   ]
  },
  {
   "cell_type": "markdown",
   "metadata": {
    "hideCode": false,
    "hidePrompt": false
   },
   "source": [
    "#### Define"
   ]
  },
  {
   "cell_type": "markdown",
   "metadata": {
    "hideCode": false,
    "hidePrompt": false
   },
   "source": [
    "1. Unpack lists in `channels` column then split categorical columns into dummies then drop their parent columns\n",
    "2. Rename `id` column to `offer_id`\n",
    "3. Map each offer hash to in `id` to an integer"
   ]
  },
  {
   "cell_type": "code",
   "execution_count": 179,
   "metadata": {},
   "outputs": [
    {
     "data": {
      "text/plain": [
       "10"
      ]
     },
     "execution_count": 179,
     "metadata": {},
     "output_type": "execute_result"
    }
   ],
   "source": [
    "portfolio_new['id'].nunique()"
   ]
  },
  {
   "cell_type": "markdown",
   "metadata": {
    "hideCode": false,
    "hidePrompt": false
   },
   "source": [
    "#### Code 1"
   ]
  },
  {
   "cell_type": "code",
   "execution_count": 180,
   "metadata": {
    "hideCode": false,
    "hidePrompt": false
   },
   "outputs": [
    {
     "data": {
      "text/html": [
       "<div>\n",
       "<style scoped>\n",
       "    .dataframe tbody tr th:only-of-type {\n",
       "        vertical-align: middle;\n",
       "    }\n",
       "\n",
       "    .dataframe tbody tr th {\n",
       "        vertical-align: top;\n",
       "    }\n",
       "\n",
       "    .dataframe thead th {\n",
       "        text-align: right;\n",
       "    }\n",
       "</style>\n",
       "<table border=\"1\" class=\"dataframe\">\n",
       "  <thead>\n",
       "    <tr style=\"text-align: right;\">\n",
       "      <th></th>\n",
       "      <th>email</th>\n",
       "      <th>mobile</th>\n",
       "      <th>social</th>\n",
       "      <th>web</th>\n",
       "    </tr>\n",
       "  </thead>\n",
       "  <tbody>\n",
       "    <tr>\n",
       "      <th>0</th>\n",
       "      <td>1</td>\n",
       "      <td>1</td>\n",
       "      <td>1</td>\n",
       "      <td>0</td>\n",
       "    </tr>\n",
       "    <tr>\n",
       "      <th>1</th>\n",
       "      <td>1</td>\n",
       "      <td>1</td>\n",
       "      <td>1</td>\n",
       "      <td>1</td>\n",
       "    </tr>\n",
       "    <tr>\n",
       "      <th>2</th>\n",
       "      <td>1</td>\n",
       "      <td>1</td>\n",
       "      <td>0</td>\n",
       "      <td>1</td>\n",
       "    </tr>\n",
       "    <tr>\n",
       "      <th>3</th>\n",
       "      <td>1</td>\n",
       "      <td>1</td>\n",
       "      <td>0</td>\n",
       "      <td>1</td>\n",
       "    </tr>\n",
       "    <tr>\n",
       "      <th>4</th>\n",
       "      <td>1</td>\n",
       "      <td>0</td>\n",
       "      <td>0</td>\n",
       "      <td>1</td>\n",
       "    </tr>\n",
       "    <tr>\n",
       "      <th>5</th>\n",
       "      <td>1</td>\n",
       "      <td>1</td>\n",
       "      <td>1</td>\n",
       "      <td>1</td>\n",
       "    </tr>\n",
       "    <tr>\n",
       "      <th>6</th>\n",
       "      <td>1</td>\n",
       "      <td>1</td>\n",
       "      <td>1</td>\n",
       "      <td>1</td>\n",
       "    </tr>\n",
       "    <tr>\n",
       "      <th>7</th>\n",
       "      <td>1</td>\n",
       "      <td>1</td>\n",
       "      <td>1</td>\n",
       "      <td>0</td>\n",
       "    </tr>\n",
       "    <tr>\n",
       "      <th>8</th>\n",
       "      <td>1</td>\n",
       "      <td>1</td>\n",
       "      <td>1</td>\n",
       "      <td>1</td>\n",
       "    </tr>\n",
       "    <tr>\n",
       "      <th>9</th>\n",
       "      <td>1</td>\n",
       "      <td>1</td>\n",
       "      <td>0</td>\n",
       "      <td>1</td>\n",
       "    </tr>\n",
       "  </tbody>\n",
       "</table>\n",
       "</div>"
      ],
      "text/plain": [
       "   email  mobile  social  web\n",
       "0      1       1       1    0\n",
       "1      1       1       1    1\n",
       "2      1       1       0    1\n",
       "3      1       1       0    1\n",
       "4      1       0       0    1\n",
       "5      1       1       1    1\n",
       "6      1       1       1    1\n",
       "7      1       1       1    0\n",
       "8      1       1       1    1\n",
       "9      1       1       0    1"
      ]
     },
     "execution_count": 180,
     "metadata": {},
     "output_type": "execute_result"
    }
   ],
   "source": [
    "# Unpack list to strings to prepare for dummies\n",
    "portfolio_new['channels'] = portfolio_new['channels'].str.join(',')\n",
    "\n",
    "# Use dummies to split at commas\n",
    "channel_dummies = portfolio_new['channels'].str.get_dummies(',')\n",
    "\n",
    "# Show dummies\n",
    "channel_dummies"
   ]
  },
  {
   "cell_type": "code",
   "execution_count": 181,
   "metadata": {
    "hideCode": false,
    "hidePrompt": false
   },
   "outputs": [],
   "source": [
    "# Get dummies from offer_type column\n",
    "offer_dummies = pd.get_dummies(portfolio_new['offer_type'], prefix=None)"
   ]
  },
  {
   "cell_type": "code",
   "execution_count": 182,
   "metadata": {
    "hideCode": false,
    "hidePrompt": false
   },
   "outputs": [],
   "source": [
    "# Append dummies to portfolio then drop parent columns\n",
    "portfolio_new = pd.concat([portfolio_new, offer_dummies], axis=1).drop(columns=['offer_type'])\n",
    "portfolio_new = pd.concat([portfolio_new, channel_dummies], axis=1).drop(columns=['channels'])"
   ]
  },
  {
   "cell_type": "code",
   "execution_count": 183,
   "metadata": {},
   "outputs": [
    {
     "data": {
      "text/html": [
       "<div>\n",
       "<style scoped>\n",
       "    .dataframe tbody tr th:only-of-type {\n",
       "        vertical-align: middle;\n",
       "    }\n",
       "\n",
       "    .dataframe tbody tr th {\n",
       "        vertical-align: top;\n",
       "    }\n",
       "\n",
       "    .dataframe thead th {\n",
       "        text-align: right;\n",
       "    }\n",
       "</style>\n",
       "<table border=\"1\" class=\"dataframe\">\n",
       "  <thead>\n",
       "    <tr style=\"text-align: right;\">\n",
       "      <th></th>\n",
       "      <th>reward</th>\n",
       "      <th>difficulty</th>\n",
       "      <th>duration</th>\n",
       "      <th>id</th>\n",
       "      <th>bogo</th>\n",
       "      <th>discount</th>\n",
       "      <th>informational</th>\n",
       "      <th>email</th>\n",
       "      <th>mobile</th>\n",
       "      <th>social</th>\n",
       "      <th>web</th>\n",
       "    </tr>\n",
       "  </thead>\n",
       "  <tbody>\n",
       "    <tr>\n",
       "      <th>0</th>\n",
       "      <td>10</td>\n",
       "      <td>10</td>\n",
       "      <td>7</td>\n",
       "      <td>ae264e3637204a6fb9bb56bc8210ddfd</td>\n",
       "      <td>1</td>\n",
       "      <td>0</td>\n",
       "      <td>0</td>\n",
       "      <td>1</td>\n",
       "      <td>1</td>\n",
       "      <td>1</td>\n",
       "      <td>0</td>\n",
       "    </tr>\n",
       "    <tr>\n",
       "      <th>1</th>\n",
       "      <td>10</td>\n",
       "      <td>10</td>\n",
       "      <td>5</td>\n",
       "      <td>4d5c57ea9a6940dd891ad53e9dbe8da0</td>\n",
       "      <td>1</td>\n",
       "      <td>0</td>\n",
       "      <td>0</td>\n",
       "      <td>1</td>\n",
       "      <td>1</td>\n",
       "      <td>1</td>\n",
       "      <td>1</td>\n",
       "    </tr>\n",
       "    <tr>\n",
       "      <th>2</th>\n",
       "      <td>0</td>\n",
       "      <td>0</td>\n",
       "      <td>4</td>\n",
       "      <td>3f207df678b143eea3cee63160fa8bed</td>\n",
       "      <td>0</td>\n",
       "      <td>0</td>\n",
       "      <td>1</td>\n",
       "      <td>1</td>\n",
       "      <td>1</td>\n",
       "      <td>0</td>\n",
       "      <td>1</td>\n",
       "    </tr>\n",
       "    <tr>\n",
       "      <th>3</th>\n",
       "      <td>5</td>\n",
       "      <td>5</td>\n",
       "      <td>7</td>\n",
       "      <td>9b98b8c7a33c4b65b9aebfe6a799e6d9</td>\n",
       "      <td>1</td>\n",
       "      <td>0</td>\n",
       "      <td>0</td>\n",
       "      <td>1</td>\n",
       "      <td>1</td>\n",
       "      <td>0</td>\n",
       "      <td>1</td>\n",
       "    </tr>\n",
       "    <tr>\n",
       "      <th>4</th>\n",
       "      <td>5</td>\n",
       "      <td>20</td>\n",
       "      <td>10</td>\n",
       "      <td>0b1e1539f2cc45b7b9fa7c272da2e1d7</td>\n",
       "      <td>0</td>\n",
       "      <td>1</td>\n",
       "      <td>0</td>\n",
       "      <td>1</td>\n",
       "      <td>0</td>\n",
       "      <td>0</td>\n",
       "      <td>1</td>\n",
       "    </tr>\n",
       "    <tr>\n",
       "      <th>5</th>\n",
       "      <td>3</td>\n",
       "      <td>7</td>\n",
       "      <td>7</td>\n",
       "      <td>2298d6c36e964ae4a3e7e9706d1fb8c2</td>\n",
       "      <td>0</td>\n",
       "      <td>1</td>\n",
       "      <td>0</td>\n",
       "      <td>1</td>\n",
       "      <td>1</td>\n",
       "      <td>1</td>\n",
       "      <td>1</td>\n",
       "    </tr>\n",
       "    <tr>\n",
       "      <th>6</th>\n",
       "      <td>2</td>\n",
       "      <td>10</td>\n",
       "      <td>10</td>\n",
       "      <td>fafdcd668e3743c1bb461111dcafc2a4</td>\n",
       "      <td>0</td>\n",
       "      <td>1</td>\n",
       "      <td>0</td>\n",
       "      <td>1</td>\n",
       "      <td>1</td>\n",
       "      <td>1</td>\n",
       "      <td>1</td>\n",
       "    </tr>\n",
       "    <tr>\n",
       "      <th>7</th>\n",
       "      <td>0</td>\n",
       "      <td>0</td>\n",
       "      <td>3</td>\n",
       "      <td>5a8bc65990b245e5a138643cd4eb9837</td>\n",
       "      <td>0</td>\n",
       "      <td>0</td>\n",
       "      <td>1</td>\n",
       "      <td>1</td>\n",
       "      <td>1</td>\n",
       "      <td>1</td>\n",
       "      <td>0</td>\n",
       "    </tr>\n",
       "    <tr>\n",
       "      <th>8</th>\n",
       "      <td>5</td>\n",
       "      <td>5</td>\n",
       "      <td>5</td>\n",
       "      <td>f19421c1d4aa40978ebb69ca19b0e20d</td>\n",
       "      <td>1</td>\n",
       "      <td>0</td>\n",
       "      <td>0</td>\n",
       "      <td>1</td>\n",
       "      <td>1</td>\n",
       "      <td>1</td>\n",
       "      <td>1</td>\n",
       "    </tr>\n",
       "    <tr>\n",
       "      <th>9</th>\n",
       "      <td>2</td>\n",
       "      <td>10</td>\n",
       "      <td>7</td>\n",
       "      <td>2906b810c7d4411798c6938adc9daaa5</td>\n",
       "      <td>0</td>\n",
       "      <td>1</td>\n",
       "      <td>0</td>\n",
       "      <td>1</td>\n",
       "      <td>1</td>\n",
       "      <td>0</td>\n",
       "      <td>1</td>\n",
       "    </tr>\n",
       "  </tbody>\n",
       "</table>\n",
       "</div>"
      ],
      "text/plain": [
       "   reward  difficulty  duration                                id  bogo  \\\n",
       "0      10          10         7  ae264e3637204a6fb9bb56bc8210ddfd     1   \n",
       "1      10          10         5  4d5c57ea9a6940dd891ad53e9dbe8da0     1   \n",
       "2       0           0         4  3f207df678b143eea3cee63160fa8bed     0   \n",
       "3       5           5         7  9b98b8c7a33c4b65b9aebfe6a799e6d9     1   \n",
       "4       5          20        10  0b1e1539f2cc45b7b9fa7c272da2e1d7     0   \n",
       "5       3           7         7  2298d6c36e964ae4a3e7e9706d1fb8c2     0   \n",
       "6       2          10        10  fafdcd668e3743c1bb461111dcafc2a4     0   \n",
       "7       0           0         3  5a8bc65990b245e5a138643cd4eb9837     0   \n",
       "8       5           5         5  f19421c1d4aa40978ebb69ca19b0e20d     1   \n",
       "9       2          10         7  2906b810c7d4411798c6938adc9daaa5     0   \n",
       "\n",
       "   discount  informational  email  mobile  social  web  \n",
       "0         0              0      1       1       1    0  \n",
       "1         0              0      1       1       1    1  \n",
       "2         0              1      1       1       0    1  \n",
       "3         0              0      1       1       0    1  \n",
       "4         1              0      1       0       0    1  \n",
       "5         1              0      1       1       1    1  \n",
       "6         1              0      1       1       1    1  \n",
       "7         0              1      1       1       1    0  \n",
       "8         0              0      1       1       1    1  \n",
       "9         1              0      1       1       0    1  "
      ]
     },
     "execution_count": 183,
     "metadata": {},
     "output_type": "execute_result"
    }
   ],
   "source": [
    "portfolio_new"
   ]
  },
  {
   "cell_type": "code",
   "execution_count": 184,
   "metadata": {},
   "outputs": [
    {
     "data": {
      "text/html": [
       "<div>\n",
       "<style scoped>\n",
       "    .dataframe tbody tr th:only-of-type {\n",
       "        vertical-align: middle;\n",
       "    }\n",
       "\n",
       "    .dataframe tbody tr th {\n",
       "        vertical-align: top;\n",
       "    }\n",
       "\n",
       "    .dataframe thead th {\n",
       "        text-align: right;\n",
       "    }\n",
       "</style>\n",
       "<table border=\"1\" class=\"dataframe\">\n",
       "  <thead>\n",
       "    <tr style=\"text-align: right;\">\n",
       "      <th></th>\n",
       "      <th>reward</th>\n",
       "      <th>channels</th>\n",
       "      <th>difficulty</th>\n",
       "      <th>duration</th>\n",
       "      <th>offer_type</th>\n",
       "      <th>id</th>\n",
       "    </tr>\n",
       "  </thead>\n",
       "  <tbody>\n",
       "    <tr>\n",
       "      <th>0</th>\n",
       "      <td>10</td>\n",
       "      <td>[email, mobile, social]</td>\n",
       "      <td>10</td>\n",
       "      <td>7</td>\n",
       "      <td>bogo</td>\n",
       "      <td>ae264e3637204a6fb9bb56bc8210ddfd</td>\n",
       "    </tr>\n",
       "    <tr>\n",
       "      <th>1</th>\n",
       "      <td>10</td>\n",
       "      <td>[web, email, mobile, social]</td>\n",
       "      <td>10</td>\n",
       "      <td>5</td>\n",
       "      <td>bogo</td>\n",
       "      <td>4d5c57ea9a6940dd891ad53e9dbe8da0</td>\n",
       "    </tr>\n",
       "    <tr>\n",
       "      <th>2</th>\n",
       "      <td>0</td>\n",
       "      <td>[web, email, mobile]</td>\n",
       "      <td>0</td>\n",
       "      <td>4</td>\n",
       "      <td>informational</td>\n",
       "      <td>3f207df678b143eea3cee63160fa8bed</td>\n",
       "    </tr>\n",
       "    <tr>\n",
       "      <th>3</th>\n",
       "      <td>5</td>\n",
       "      <td>[web, email, mobile]</td>\n",
       "      <td>5</td>\n",
       "      <td>7</td>\n",
       "      <td>bogo</td>\n",
       "      <td>9b98b8c7a33c4b65b9aebfe6a799e6d9</td>\n",
       "    </tr>\n",
       "    <tr>\n",
       "      <th>4</th>\n",
       "      <td>5</td>\n",
       "      <td>[web, email]</td>\n",
       "      <td>20</td>\n",
       "      <td>10</td>\n",
       "      <td>discount</td>\n",
       "      <td>0b1e1539f2cc45b7b9fa7c272da2e1d7</td>\n",
       "    </tr>\n",
       "    <tr>\n",
       "      <th>5</th>\n",
       "      <td>3</td>\n",
       "      <td>[web, email, mobile, social]</td>\n",
       "      <td>7</td>\n",
       "      <td>7</td>\n",
       "      <td>discount</td>\n",
       "      <td>2298d6c36e964ae4a3e7e9706d1fb8c2</td>\n",
       "    </tr>\n",
       "    <tr>\n",
       "      <th>6</th>\n",
       "      <td>2</td>\n",
       "      <td>[web, email, mobile, social]</td>\n",
       "      <td>10</td>\n",
       "      <td>10</td>\n",
       "      <td>discount</td>\n",
       "      <td>fafdcd668e3743c1bb461111dcafc2a4</td>\n",
       "    </tr>\n",
       "    <tr>\n",
       "      <th>7</th>\n",
       "      <td>0</td>\n",
       "      <td>[email, mobile, social]</td>\n",
       "      <td>0</td>\n",
       "      <td>3</td>\n",
       "      <td>informational</td>\n",
       "      <td>5a8bc65990b245e5a138643cd4eb9837</td>\n",
       "    </tr>\n",
       "    <tr>\n",
       "      <th>8</th>\n",
       "      <td>5</td>\n",
       "      <td>[web, email, mobile, social]</td>\n",
       "      <td>5</td>\n",
       "      <td>5</td>\n",
       "      <td>bogo</td>\n",
       "      <td>f19421c1d4aa40978ebb69ca19b0e20d</td>\n",
       "    </tr>\n",
       "    <tr>\n",
       "      <th>9</th>\n",
       "      <td>2</td>\n",
       "      <td>[web, email, mobile]</td>\n",
       "      <td>10</td>\n",
       "      <td>7</td>\n",
       "      <td>discount</td>\n",
       "      <td>2906b810c7d4411798c6938adc9daaa5</td>\n",
       "    </tr>\n",
       "  </tbody>\n",
       "</table>\n",
       "</div>"
      ],
      "text/plain": [
       "   reward                      channels  difficulty  duration     offer_type  \\\n",
       "0      10       [email, mobile, social]          10         7           bogo   \n",
       "1      10  [web, email, mobile, social]          10         5           bogo   \n",
       "2       0          [web, email, mobile]           0         4  informational   \n",
       "3       5          [web, email, mobile]           5         7           bogo   \n",
       "4       5                  [web, email]          20        10       discount   \n",
       "5       3  [web, email, mobile, social]           7         7       discount   \n",
       "6       2  [web, email, mobile, social]          10        10       discount   \n",
       "7       0       [email, mobile, social]           0         3  informational   \n",
       "8       5  [web, email, mobile, social]           5         5           bogo   \n",
       "9       2          [web, email, mobile]          10         7       discount   \n",
       "\n",
       "                                 id  \n",
       "0  ae264e3637204a6fb9bb56bc8210ddfd  \n",
       "1  4d5c57ea9a6940dd891ad53e9dbe8da0  \n",
       "2  3f207df678b143eea3cee63160fa8bed  \n",
       "3  9b98b8c7a33c4b65b9aebfe6a799e6d9  \n",
       "4  0b1e1539f2cc45b7b9fa7c272da2e1d7  \n",
       "5  2298d6c36e964ae4a3e7e9706d1fb8c2  \n",
       "6  fafdcd668e3743c1bb461111dcafc2a4  \n",
       "7  5a8bc65990b245e5a138643cd4eb9837  \n",
       "8  f19421c1d4aa40978ebb69ca19b0e20d  \n",
       "9  2906b810c7d4411798c6938adc9daaa5  "
      ]
     },
     "execution_count": 184,
     "metadata": {},
     "output_type": "execute_result"
    }
   ],
   "source": [
    "portfolio"
   ]
  },
  {
   "cell_type": "markdown",
   "metadata": {
    "hideCode": false,
    "hidePrompt": false
   },
   "source": [
    "#### Code 2"
   ]
  },
  {
   "cell_type": "code",
   "execution_count": 185,
   "metadata": {
    "hideCode": false,
    "hidePrompt": false
   },
   "outputs": [],
   "source": [
    "# Rename portfolio columns\n",
    "portfolio_new = portfolio_new.rename(columns={'id':'offer_id'})"
   ]
  },
  {
   "cell_type": "markdown",
   "metadata": {
    "hideCode": false,
    "hidePrompt": false
   },
   "source": [
    "#### Code 3"
   ]
  },
  {
   "cell_type": "code",
   "execution_count": 186,
   "metadata": {
    "hideCode": false,
    "hidePrompt": false
   },
   "outputs": [
    {
     "data": {
      "text/plain": [
       "array(['ae264e3637204a6fb9bb56bc8210ddfd',\n",
       "       '4d5c57ea9a6940dd891ad53e9dbe8da0',\n",
       "       '3f207df678b143eea3cee63160fa8bed',\n",
       "       '9b98b8c7a33c4b65b9aebfe6a799e6d9',\n",
       "       '0b1e1539f2cc45b7b9fa7c272da2e1d7',\n",
       "       '2298d6c36e964ae4a3e7e9706d1fb8c2',\n",
       "       'fafdcd668e3743c1bb461111dcafc2a4',\n",
       "       '5a8bc65990b245e5a138643cd4eb9837',\n",
       "       'f19421c1d4aa40978ebb69ca19b0e20d',\n",
       "       '2906b810c7d4411798c6938adc9daaa5'], dtype=object)"
      ]
     },
     "execution_count": 186,
     "metadata": {},
     "output_type": "execute_result"
    }
   ],
   "source": [
    "# Store copy for future use as offer_id hash map\n",
    "portfolio_hash = portfolio_new.copy() \n",
    "\n",
    "# Take the unique hashes from offer_id\n",
    "offer_id = portfolio_new['offer_id'].unique()\n",
    "offer_id"
   ]
  },
  {
   "cell_type": "code",
   "execution_count": 187,
   "metadata": {
    "hideCode": false,
    "hidePrompt": false
   },
   "outputs": [
    {
     "data": {
      "text/plain": [
       "{0: 'ae264e3637204a6fb9bb56bc8210ddfd',\n",
       " 1: '4d5c57ea9a6940dd891ad53e9dbe8da0',\n",
       " 2: '3f207df678b143eea3cee63160fa8bed',\n",
       " 3: '9b98b8c7a33c4b65b9aebfe6a799e6d9',\n",
       " 4: '0b1e1539f2cc45b7b9fa7c272da2e1d7',\n",
       " 5: '2298d6c36e964ae4a3e7e9706d1fb8c2',\n",
       " 6: 'fafdcd668e3743c1bb461111dcafc2a4',\n",
       " 7: '5a8bc65990b245e5a138643cd4eb9837',\n",
       " 8: 'f19421c1d4aa40978ebb69ca19b0e20d',\n",
       " 9: '2906b810c7d4411798c6938adc9daaa5'}"
      ]
     },
     "execution_count": 187,
     "metadata": {},
     "output_type": "execute_result"
    }
   ],
   "source": [
    "# Add dict to each hash\n",
    "offer_dict = portfolio_new['offer_id'].to_dict()\n",
    "offer_dict"
   ]
  },
  {
   "cell_type": "code",
   "execution_count": 188,
   "metadata": {
    "hideCode": false,
    "hidePrompt": false
   },
   "outputs": [
    {
     "data": {
      "text/plain": [
       "{'ae264e3637204a6fb9bb56bc8210ddfd': 1,\n",
       " '4d5c57ea9a6940dd891ad53e9dbe8da0': 2,\n",
       " '3f207df678b143eea3cee63160fa8bed': 3,\n",
       " '9b98b8c7a33c4b65b9aebfe6a799e6d9': 4,\n",
       " '0b1e1539f2cc45b7b9fa7c272da2e1d7': 5,\n",
       " '2298d6c36e964ae4a3e7e9706d1fb8c2': 6,\n",
       " 'fafdcd668e3743c1bb461111dcafc2a4': 7,\n",
       " '5a8bc65990b245e5a138643cd4eb9837': 8,\n",
       " 'f19421c1d4aa40978ebb69ca19b0e20d': 9,\n",
       " '2906b810c7d4411798c6938adc9daaa5': 10}"
      ]
     },
     "execution_count": 188,
     "metadata": {},
     "output_type": "execute_result"
    }
   ],
   "source": [
    "# Swap keys and hash values and start dict from 1 instead of 0\n",
    "offer_dict = dict([(value, key) for key, value in offer_dict.items()])\n",
    "offer_dict = dict([(key, value +1) for key, value in offer_dict.items()])\n",
    "\n",
    "offer_dict"
   ]
  },
  {
   "cell_type": "code",
   "execution_count": 189,
   "metadata": {
    "hideCode": false,
    "hidePrompt": false
   },
   "outputs": [],
   "source": [
    "# Map keys to hash in portfolio df\n",
    "portfolio_new['offer_id'] = portfolio_new['offer_id'].map(offer_dict)"
   ]
  },
  {
   "cell_type": "code",
   "execution_count": 190,
   "metadata": {
    "hideCode": false,
    "hidePrompt": false
   },
   "outputs": [],
   "source": [
    "# Create a function for future mapping int to dict\n",
    "def hash_map(df, col):\n",
    "    '''This function replaces hashes with integers.\n",
    "    \n",
    "    INPUT:\n",
    "    df - dataframe 'variable'\n",
    "    col - column in dataframe containing the hashes 'string'\n",
    "    \n",
    "    \n",
    "    OUTPUT:\n",
    "    none.\n",
    "    '''\n",
    "    x_id = df[col].unique()\n",
    "    x_dict = pd.Series(x_id).to_dict()\n",
    "    x_dict = dict([(value, key) for key, value in x_dict.items()])\n",
    "    x_dict = dict([(key, value +1) for key, value in x_dict.items()])\n",
    "    df[col] = df[col].map(x_dict)\n",
    "    \n",
    "# Create a function for future mapping int to dict\n",
    "def hash_map_offer(df_1, col_1, df_2, col_2):\n",
    "    '''This function replaces hashes with integers.\n",
    "    \n",
    "    INPUT:\n",
    "    df - dataframe 'variable'\n",
    "    col - column in dataframe containing the hashes 'string'\n",
    "    var - variable for column\n",
    "    \n",
    "    \n",
    "    OUTPUT:\n",
    "    none.\n",
    "    '''\n",
    "    # Input 1\n",
    "    x_id = df_1[col_1].unique()\n",
    "    x_dict = pd.Series(x_id).to_dict()\n",
    "    x_dict = dict([(value, key) for key, value in x_dict.items()])\n",
    "    x_dict = dict([(key, value +1) for key, value in x_dict.items()])\n",
    "    \n",
    "    # Input 2\n",
    "    y_id = df_2[col_2].unique()\n",
    "    y_dict = pd.Series(y_id).to_dict()\n",
    "    y_dict = dict([(value, key) for key, value in y_dict.items()])\n",
    "    y_dict = dict([(key, value +1) for key, value in y_dict.items()])\n",
    "    df_1[col_1] = df_1[col_1].map(y_dict)"
   ]
  },
  {
   "cell_type": "code",
   "execution_count": 191,
   "metadata": {},
   "outputs": [
    {
     "data": {
      "text/html": [
       "<div>\n",
       "<style scoped>\n",
       "    .dataframe tbody tr th:only-of-type {\n",
       "        vertical-align: middle;\n",
       "    }\n",
       "\n",
       "    .dataframe tbody tr th {\n",
       "        vertical-align: top;\n",
       "    }\n",
       "\n",
       "    .dataframe thead th {\n",
       "        text-align: right;\n",
       "    }\n",
       "</style>\n",
       "<table border=\"1\" class=\"dataframe\">\n",
       "  <thead>\n",
       "    <tr style=\"text-align: right;\">\n",
       "      <th></th>\n",
       "      <th>reward</th>\n",
       "      <th>difficulty</th>\n",
       "      <th>duration</th>\n",
       "      <th>offer_id</th>\n",
       "      <th>bogo</th>\n",
       "      <th>discount</th>\n",
       "      <th>informational</th>\n",
       "      <th>email</th>\n",
       "      <th>mobile</th>\n",
       "      <th>social</th>\n",
       "      <th>web</th>\n",
       "    </tr>\n",
       "  </thead>\n",
       "  <tbody>\n",
       "    <tr>\n",
       "      <th>0</th>\n",
       "      <td>10</td>\n",
       "      <td>10</td>\n",
       "      <td>7</td>\n",
       "      <td>1</td>\n",
       "      <td>1</td>\n",
       "      <td>0</td>\n",
       "      <td>0</td>\n",
       "      <td>1</td>\n",
       "      <td>1</td>\n",
       "      <td>1</td>\n",
       "      <td>0</td>\n",
       "    </tr>\n",
       "    <tr>\n",
       "      <th>1</th>\n",
       "      <td>10</td>\n",
       "      <td>10</td>\n",
       "      <td>5</td>\n",
       "      <td>2</td>\n",
       "      <td>1</td>\n",
       "      <td>0</td>\n",
       "      <td>0</td>\n",
       "      <td>1</td>\n",
       "      <td>1</td>\n",
       "      <td>1</td>\n",
       "      <td>1</td>\n",
       "    </tr>\n",
       "    <tr>\n",
       "      <th>2</th>\n",
       "      <td>0</td>\n",
       "      <td>0</td>\n",
       "      <td>4</td>\n",
       "      <td>3</td>\n",
       "      <td>0</td>\n",
       "      <td>0</td>\n",
       "      <td>1</td>\n",
       "      <td>1</td>\n",
       "      <td>1</td>\n",
       "      <td>0</td>\n",
       "      <td>1</td>\n",
       "    </tr>\n",
       "    <tr>\n",
       "      <th>3</th>\n",
       "      <td>5</td>\n",
       "      <td>5</td>\n",
       "      <td>7</td>\n",
       "      <td>4</td>\n",
       "      <td>1</td>\n",
       "      <td>0</td>\n",
       "      <td>0</td>\n",
       "      <td>1</td>\n",
       "      <td>1</td>\n",
       "      <td>0</td>\n",
       "      <td>1</td>\n",
       "    </tr>\n",
       "    <tr>\n",
       "      <th>4</th>\n",
       "      <td>5</td>\n",
       "      <td>20</td>\n",
       "      <td>10</td>\n",
       "      <td>5</td>\n",
       "      <td>0</td>\n",
       "      <td>1</td>\n",
       "      <td>0</td>\n",
       "      <td>1</td>\n",
       "      <td>0</td>\n",
       "      <td>0</td>\n",
       "      <td>1</td>\n",
       "    </tr>\n",
       "    <tr>\n",
       "      <th>5</th>\n",
       "      <td>3</td>\n",
       "      <td>7</td>\n",
       "      <td>7</td>\n",
       "      <td>6</td>\n",
       "      <td>0</td>\n",
       "      <td>1</td>\n",
       "      <td>0</td>\n",
       "      <td>1</td>\n",
       "      <td>1</td>\n",
       "      <td>1</td>\n",
       "      <td>1</td>\n",
       "    </tr>\n",
       "    <tr>\n",
       "      <th>6</th>\n",
       "      <td>2</td>\n",
       "      <td>10</td>\n",
       "      <td>10</td>\n",
       "      <td>7</td>\n",
       "      <td>0</td>\n",
       "      <td>1</td>\n",
       "      <td>0</td>\n",
       "      <td>1</td>\n",
       "      <td>1</td>\n",
       "      <td>1</td>\n",
       "      <td>1</td>\n",
       "    </tr>\n",
       "    <tr>\n",
       "      <th>7</th>\n",
       "      <td>0</td>\n",
       "      <td>0</td>\n",
       "      <td>3</td>\n",
       "      <td>8</td>\n",
       "      <td>0</td>\n",
       "      <td>0</td>\n",
       "      <td>1</td>\n",
       "      <td>1</td>\n",
       "      <td>1</td>\n",
       "      <td>1</td>\n",
       "      <td>0</td>\n",
       "    </tr>\n",
       "    <tr>\n",
       "      <th>8</th>\n",
       "      <td>5</td>\n",
       "      <td>5</td>\n",
       "      <td>5</td>\n",
       "      <td>9</td>\n",
       "      <td>1</td>\n",
       "      <td>0</td>\n",
       "      <td>0</td>\n",
       "      <td>1</td>\n",
       "      <td>1</td>\n",
       "      <td>1</td>\n",
       "      <td>1</td>\n",
       "    </tr>\n",
       "    <tr>\n",
       "      <th>9</th>\n",
       "      <td>2</td>\n",
       "      <td>10</td>\n",
       "      <td>7</td>\n",
       "      <td>10</td>\n",
       "      <td>0</td>\n",
       "      <td>1</td>\n",
       "      <td>0</td>\n",
       "      <td>1</td>\n",
       "      <td>1</td>\n",
       "      <td>0</td>\n",
       "      <td>1</td>\n",
       "    </tr>\n",
       "  </tbody>\n",
       "</table>\n",
       "</div>"
      ],
      "text/plain": [
       "   reward  difficulty  duration  offer_id  bogo  discount  informational  \\\n",
       "0      10          10         7         1     1         0              0   \n",
       "1      10          10         5         2     1         0              0   \n",
       "2       0           0         4         3     0         0              1   \n",
       "3       5           5         7         4     1         0              0   \n",
       "4       5          20        10         5     0         1              0   \n",
       "5       3           7         7         6     0         1              0   \n",
       "6       2          10        10         7     0         1              0   \n",
       "7       0           0         3         8     0         0              1   \n",
       "8       5           5         5         9     1         0              0   \n",
       "9       2          10         7        10     0         1              0   \n",
       "\n",
       "   email  mobile  social  web  \n",
       "0      1       1       1    0  \n",
       "1      1       1       1    1  \n",
       "2      1       1       0    1  \n",
       "3      1       1       0    1  \n",
       "4      1       0       0    1  \n",
       "5      1       1       1    1  \n",
       "6      1       1       1    1  \n",
       "7      1       1       1    0  \n",
       "8      1       1       1    1  \n",
       "9      1       1       0    1  "
      ]
     },
     "execution_count": 191,
     "metadata": {},
     "output_type": "execute_result"
    }
   ],
   "source": [
    "portfolio_new"
   ]
  },
  {
   "cell_type": "markdown",
   "metadata": {
    "hideCode": false,
    "hidePrompt": false
   },
   "source": [
    "#### Test"
   ]
  },
  {
   "cell_type": "code",
   "execution_count": 192,
   "metadata": {
    "hideCode": false,
    "hidePrompt": false
   },
   "outputs": [],
   "source": [
    "# Sort columns\n",
    "portfolio_new.insert(0, 'offer_id', portfolio_new.pop('offer_id'))\n",
    "portfolio_new.insert(3, 'reward', portfolio_new.pop('reward'))"
   ]
  },
  {
   "cell_type": "code",
   "execution_count": 193,
   "metadata": {
    "hideCode": false,
    "hidePrompt": false
   },
   "outputs": [
    {
     "data": {
      "text/html": [
       "<div>\n",
       "<style scoped>\n",
       "    .dataframe tbody tr th:only-of-type {\n",
       "        vertical-align: middle;\n",
       "    }\n",
       "\n",
       "    .dataframe tbody tr th {\n",
       "        vertical-align: top;\n",
       "    }\n",
       "\n",
       "    .dataframe thead th {\n",
       "        text-align: right;\n",
       "    }\n",
       "</style>\n",
       "<table border=\"1\" class=\"dataframe\">\n",
       "  <thead>\n",
       "    <tr style=\"text-align: right;\">\n",
       "      <th></th>\n",
       "      <th>offer_id</th>\n",
       "      <th>difficulty</th>\n",
       "      <th>duration</th>\n",
       "      <th>reward</th>\n",
       "      <th>bogo</th>\n",
       "      <th>discount</th>\n",
       "      <th>informational</th>\n",
       "      <th>email</th>\n",
       "      <th>mobile</th>\n",
       "      <th>social</th>\n",
       "      <th>web</th>\n",
       "    </tr>\n",
       "  </thead>\n",
       "  <tbody>\n",
       "    <tr>\n",
       "      <th>0</th>\n",
       "      <td>1</td>\n",
       "      <td>10</td>\n",
       "      <td>7</td>\n",
       "      <td>10</td>\n",
       "      <td>1</td>\n",
       "      <td>0</td>\n",
       "      <td>0</td>\n",
       "      <td>1</td>\n",
       "      <td>1</td>\n",
       "      <td>1</td>\n",
       "      <td>0</td>\n",
       "    </tr>\n",
       "    <tr>\n",
       "      <th>1</th>\n",
       "      <td>2</td>\n",
       "      <td>10</td>\n",
       "      <td>5</td>\n",
       "      <td>10</td>\n",
       "      <td>1</td>\n",
       "      <td>0</td>\n",
       "      <td>0</td>\n",
       "      <td>1</td>\n",
       "      <td>1</td>\n",
       "      <td>1</td>\n",
       "      <td>1</td>\n",
       "    </tr>\n",
       "    <tr>\n",
       "      <th>2</th>\n",
       "      <td>3</td>\n",
       "      <td>0</td>\n",
       "      <td>4</td>\n",
       "      <td>0</td>\n",
       "      <td>0</td>\n",
       "      <td>0</td>\n",
       "      <td>1</td>\n",
       "      <td>1</td>\n",
       "      <td>1</td>\n",
       "      <td>0</td>\n",
       "      <td>1</td>\n",
       "    </tr>\n",
       "    <tr>\n",
       "      <th>3</th>\n",
       "      <td>4</td>\n",
       "      <td>5</td>\n",
       "      <td>7</td>\n",
       "      <td>5</td>\n",
       "      <td>1</td>\n",
       "      <td>0</td>\n",
       "      <td>0</td>\n",
       "      <td>1</td>\n",
       "      <td>1</td>\n",
       "      <td>0</td>\n",
       "      <td>1</td>\n",
       "    </tr>\n",
       "    <tr>\n",
       "      <th>4</th>\n",
       "      <td>5</td>\n",
       "      <td>20</td>\n",
       "      <td>10</td>\n",
       "      <td>5</td>\n",
       "      <td>0</td>\n",
       "      <td>1</td>\n",
       "      <td>0</td>\n",
       "      <td>1</td>\n",
       "      <td>0</td>\n",
       "      <td>0</td>\n",
       "      <td>1</td>\n",
       "    </tr>\n",
       "    <tr>\n",
       "      <th>5</th>\n",
       "      <td>6</td>\n",
       "      <td>7</td>\n",
       "      <td>7</td>\n",
       "      <td>3</td>\n",
       "      <td>0</td>\n",
       "      <td>1</td>\n",
       "      <td>0</td>\n",
       "      <td>1</td>\n",
       "      <td>1</td>\n",
       "      <td>1</td>\n",
       "      <td>1</td>\n",
       "    </tr>\n",
       "    <tr>\n",
       "      <th>6</th>\n",
       "      <td>7</td>\n",
       "      <td>10</td>\n",
       "      <td>10</td>\n",
       "      <td>2</td>\n",
       "      <td>0</td>\n",
       "      <td>1</td>\n",
       "      <td>0</td>\n",
       "      <td>1</td>\n",
       "      <td>1</td>\n",
       "      <td>1</td>\n",
       "      <td>1</td>\n",
       "    </tr>\n",
       "    <tr>\n",
       "      <th>7</th>\n",
       "      <td>8</td>\n",
       "      <td>0</td>\n",
       "      <td>3</td>\n",
       "      <td>0</td>\n",
       "      <td>0</td>\n",
       "      <td>0</td>\n",
       "      <td>1</td>\n",
       "      <td>1</td>\n",
       "      <td>1</td>\n",
       "      <td>1</td>\n",
       "      <td>0</td>\n",
       "    </tr>\n",
       "    <tr>\n",
       "      <th>8</th>\n",
       "      <td>9</td>\n",
       "      <td>5</td>\n",
       "      <td>5</td>\n",
       "      <td>5</td>\n",
       "      <td>1</td>\n",
       "      <td>0</td>\n",
       "      <td>0</td>\n",
       "      <td>1</td>\n",
       "      <td>1</td>\n",
       "      <td>1</td>\n",
       "      <td>1</td>\n",
       "    </tr>\n",
       "    <tr>\n",
       "      <th>9</th>\n",
       "      <td>10</td>\n",
       "      <td>10</td>\n",
       "      <td>7</td>\n",
       "      <td>2</td>\n",
       "      <td>0</td>\n",
       "      <td>1</td>\n",
       "      <td>0</td>\n",
       "      <td>1</td>\n",
       "      <td>1</td>\n",
       "      <td>0</td>\n",
       "      <td>1</td>\n",
       "    </tr>\n",
       "  </tbody>\n",
       "</table>\n",
       "</div>"
      ],
      "text/plain": [
       "   offer_id  difficulty  duration  reward  bogo  discount  informational  \\\n",
       "0         1          10         7      10     1         0              0   \n",
       "1         2          10         5      10     1         0              0   \n",
       "2         3           0         4       0     0         0              1   \n",
       "3         4           5         7       5     1         0              0   \n",
       "4         5          20        10       5     0         1              0   \n",
       "5         6           7         7       3     0         1              0   \n",
       "6         7          10        10       2     0         1              0   \n",
       "7         8           0         3       0     0         0              1   \n",
       "8         9           5         5       5     1         0              0   \n",
       "9        10          10         7       2     0         1              0   \n",
       "\n",
       "   email  mobile  social  web  \n",
       "0      1       1       1    0  \n",
       "1      1       1       1    1  \n",
       "2      1       1       0    1  \n",
       "3      1       1       0    1  \n",
       "4      1       0       0    1  \n",
       "5      1       1       1    1  \n",
       "6      1       1       1    1  \n",
       "7      1       1       1    0  \n",
       "8      1       1       1    1  \n",
       "9      1       1       0    1  "
      ]
     },
     "execution_count": 193,
     "metadata": {},
     "output_type": "execute_result"
    }
   ],
   "source": [
    "portfolio_new"
   ]
  },
  {
   "cell_type": "markdown",
   "metadata": {
    "hideCode": false,
    "hidePrompt": false
   },
   "source": [
    "#### 2. Clean `profile_new`"
   ]
  },
  {
   "cell_type": "markdown",
   "metadata": {
    "hideCode": false,
    "hidePrompt": false
   },
   "source": [
    "#### Define"
   ]
  },
  {
   "cell_type": "markdown",
   "metadata": {
    "hideCode": false,
    "hidePrompt": false
   },
   "source": [
    "1. Drop missing data from `profile_new`\n",
    "2. Format `became_member_on` as a datetime object then create `became_member_year` dummies\n",
    "3. Rename `id` column to `user_id`\n",
    "4. Map each offer hash to in `id` to an integer\n",
    "5. Split the `income` by quantiles for creating 5 equal income groups as strings then get dummies\n",
    "6. Split the `age` by ranges as strings then get dummies of each\n",
    "7. Get `gender` dummies\n",
    "8. Concatenate dummy columns"
   ]
  },
  {
   "cell_type": "code",
   "execution_count": 194,
   "metadata": {
    "hideCode": false,
    "hidePrompt": false
   },
   "outputs": [],
   "source": [
    "# Function to move column order\n",
    "def move_column(df, col, pos):\n",
    "    '''This function moves the selected column order.\n",
    "    \n",
    "    INPUT:\n",
    "    df - dataframe 'variable'\n",
    "    col - column in dataframe 'string'\n",
    "    pos - index position to place col in dataframe 'integer'\n",
    "    \n",
    "    OUTPUT:\n",
    "    none.\n",
    "    '''\n",
    "    df.insert(pos, col, df.pop(col))"
   ]
  },
  {
   "cell_type": "markdown",
   "metadata": {
    "hideCode": false,
    "hidePrompt": false
   },
   "source": [
    "#### Code 1"
   ]
  },
  {
   "cell_type": "code",
   "execution_count": 195,
   "metadata": {
    "hideCode": false,
    "hidePrompt": false
   },
   "outputs": [],
   "source": [
    "# Drop all missing data\n",
    "profile_new = profile_new.dropna()"
   ]
  },
  {
   "cell_type": "markdown",
   "metadata": {
    "hideCode": false,
    "hidePrompt": false
   },
   "source": [
    "#### Code 2"
   ]
  },
  {
   "cell_type": "code",
   "execution_count": 196,
   "metadata": {
    "hideCode": false,
    "hidePrompt": false,
    "scrolled": true
   },
   "outputs": [],
   "source": [
    "# Convert became_member_on to datatime year object\n",
    "profile_new['became_member_year'] = pd.to_datetime(profile_new['became_member_on'], format='%Y%m%d').dt.year\n",
    "\n",
    "# Get dummies of member year\n",
    "year_dummies = pd.get_dummies(profile_new['became_member_year'])"
   ]
  },
  {
   "cell_type": "code",
   "execution_count": 197,
   "metadata": {},
   "outputs": [],
   "source": [
    "# Create memeber_time column\n",
    "profile_new['member_days'] = pd.to_datetime(profile_new['became_member_on'], format='%Y%m%d')\n",
    "profile_new['member_days'] = (datetime.now() - profile_new['member_days']).dt.days"
   ]
  },
  {
   "cell_type": "markdown",
   "metadata": {},
   "source": [
    "**Reference:** https://www.geeksforgeeks.org/how-to-move-a-column-to-first-position-in-pandas-dataframe/"
   ]
  },
  {
   "cell_type": "code",
   "execution_count": 198,
   "metadata": {
    "hideCode": false,
    "hidePrompt": false
   },
   "outputs": [],
   "source": [
    "# Drop dummy parent columns\n",
    "profile_new.drop(columns=['became_member_on', 'became_member_year'], inplace=True)"
   ]
  },
  {
   "cell_type": "markdown",
   "metadata": {
    "hideCode": false,
    "hidePrompt": false
   },
   "source": [
    "#### Code 3"
   ]
  },
  {
   "cell_type": "code",
   "execution_count": 199,
   "metadata": {
    "hideCode": false,
    "hidePrompt": false
   },
   "outputs": [],
   "source": [
    "# Rename portfolio columns\n",
    "profile_new = profile_new.rename(columns={'id':'user_id'})"
   ]
  },
  {
   "cell_type": "markdown",
   "metadata": {
    "hideCode": false,
    "hidePrompt": false
   },
   "source": [
    "#### Code 4"
   ]
  },
  {
   "cell_type": "code",
   "execution_count": 200,
   "metadata": {
    "hideCode": false,
    "hidePrompt": false
   },
   "outputs": [],
   "source": [
    "# Using hash_map function to turn hashes into integers\n",
    "hash_map(profile_new, 'user_id')"
   ]
  },
  {
   "cell_type": "markdown",
   "metadata": {
    "hideCode": false,
    "hidePrompt": false
   },
   "source": [
    "#### Code 5"
   ]
  },
  {
   "cell_type": "code",
   "execution_count": 201,
   "metadata": {},
   "outputs": [],
   "source": [
    "# Split the income bands by quantiles for creating 5 equal income groups\n",
    "bins = []\n",
    "group_names = ['income_1', 'income_2', 'income_3', 'income_4', 'income_5']\n",
    "\n",
    "for i in range(0, 12, 2):\n",
    "    \n",
    "    # Create 5 equal income groups using quantiles\n",
    "    bin_values = profile_new['income'].quantile(q=[i/10]).values[0]\n",
    "    bins.append(bin_values)\n",
    "    \n",
    "# Create column with groups    \n",
    "profile_new['income_group'] = pd.cut(profile_new['income'], bins, labels=group_names)"
   ]
  },
  {
   "cell_type": "code",
   "execution_count": 202,
   "metadata": {
    "hideCode": false,
    "hidePrompt": false
   },
   "outputs": [],
   "source": [
    "# Change dtype from float to int as there are no null rows now\n",
    "profile_new['income'] = profile_new['income'].astype(int)\n",
    "\n",
    "# Income group dummies\n",
    "income_dummies = pd.get_dummies(profile_new['income_group'], prefix=None)\n",
    "profile_new = pd.concat([profile_new, income_dummies], axis=1).drop(columns=['income_group'])"
   ]
  },
  {
   "cell_type": "markdown",
   "metadata": {},
   "source": [
    "**Reference:** https://pandas.pydata.org/docs/reference/api/pandas.cut.html"
   ]
  },
  {
   "cell_type": "markdown",
   "metadata": {
    "hideCode": false,
    "hidePrompt": false
   },
   "source": [
    "#### Code 6"
   ]
  },
  {
   "cell_type": "code",
   "execution_count": 203,
   "metadata": {},
   "outputs": [
    {
     "data": {
      "text/html": [
       "<div>\n",
       "<style scoped>\n",
       "    .dataframe tbody tr th:only-of-type {\n",
       "        vertical-align: middle;\n",
       "    }\n",
       "\n",
       "    .dataframe tbody tr th {\n",
       "        vertical-align: top;\n",
       "    }\n",
       "\n",
       "    .dataframe thead th {\n",
       "        text-align: right;\n",
       "    }\n",
       "</style>\n",
       "<table border=\"1\" class=\"dataframe\">\n",
       "  <thead>\n",
       "    <tr style=\"text-align: right;\">\n",
       "      <th></th>\n",
       "      <th>18_24</th>\n",
       "      <th>25_34</th>\n",
       "      <th>35_44</th>\n",
       "      <th>45_54</th>\n",
       "      <th>55_64</th>\n",
       "      <th>65_74</th>\n",
       "      <th>75_84</th>\n",
       "      <th>85_94</th>\n",
       "      <th>95_104</th>\n",
       "    </tr>\n",
       "  </thead>\n",
       "  <tbody>\n",
       "    <tr>\n",
       "      <th>1</th>\n",
       "      <td>0</td>\n",
       "      <td>0</td>\n",
       "      <td>0</td>\n",
       "      <td>0</td>\n",
       "      <td>1</td>\n",
       "      <td>0</td>\n",
       "      <td>0</td>\n",
       "      <td>0</td>\n",
       "      <td>0</td>\n",
       "    </tr>\n",
       "    <tr>\n",
       "      <th>3</th>\n",
       "      <td>0</td>\n",
       "      <td>0</td>\n",
       "      <td>0</td>\n",
       "      <td>0</td>\n",
       "      <td>0</td>\n",
       "      <td>0</td>\n",
       "      <td>1</td>\n",
       "      <td>0</td>\n",
       "      <td>0</td>\n",
       "    </tr>\n",
       "    <tr>\n",
       "      <th>5</th>\n",
       "      <td>0</td>\n",
       "      <td>0</td>\n",
       "      <td>0</td>\n",
       "      <td>0</td>\n",
       "      <td>0</td>\n",
       "      <td>1</td>\n",
       "      <td>0</td>\n",
       "      <td>0</td>\n",
       "      <td>0</td>\n",
       "    </tr>\n",
       "    <tr>\n",
       "      <th>8</th>\n",
       "      <td>0</td>\n",
       "      <td>0</td>\n",
       "      <td>0</td>\n",
       "      <td>0</td>\n",
       "      <td>0</td>\n",
       "      <td>1</td>\n",
       "      <td>0</td>\n",
       "      <td>0</td>\n",
       "      <td>0</td>\n",
       "    </tr>\n",
       "    <tr>\n",
       "      <th>12</th>\n",
       "      <td>0</td>\n",
       "      <td>0</td>\n",
       "      <td>0</td>\n",
       "      <td>0</td>\n",
       "      <td>1</td>\n",
       "      <td>0</td>\n",
       "      <td>0</td>\n",
       "      <td>0</td>\n",
       "      <td>0</td>\n",
       "    </tr>\n",
       "  </tbody>\n",
       "</table>\n",
       "</div>"
      ],
      "text/plain": [
       "    18_24  25_34  35_44  45_54  55_64  65_74  75_84  85_94  95_104\n",
       "1       0      0      0      0      1      0      0      0       0\n",
       "3       0      0      0      0      0      0      1      0       0\n",
       "5       0      0      0      0      0      1      0      0       0\n",
       "8       0      0      0      0      0      1      0      0       0\n",
       "12      0      0      0      0      1      0      0      0       0"
      ]
     },
     "execution_count": 203,
     "metadata": {},
     "output_type": "execute_result"
    }
   ],
   "source": [
    "# Create age groups\n",
    "bins = [18, 24, 25, 34, 35, 44, 45, 54, 55, \n",
    "        64, 65, 74, 75, 84, 85, 94, 95, 104]\n",
    "\n",
    "# Add age 18 to simplify looping\n",
    "bin_edges = [bins[0]] \n",
    "group_names = []\n",
    "\n",
    "# Skip every 2 in list using step\n",
    "for i in range(0, len(bins)-1, 2):\n",
    "    \n",
    "    # Index bins and convert to string for labels\n",
    "    names = str(bins[i]) + '_' + str(bins[i+1])\n",
    "    group_names.append(names)\n",
    "    \n",
    "    # Age values to cut (+1 to skip age 18)\n",
    "    bin_edges.append(bins[i+1])\n",
    "\n",
    "# Create column with groups\n",
    "profile_new['age_group'] = pd.cut(profile_new['age'], bins=bin_edges, labels=group_names)\n",
    "\n",
    "# Turn age_group into dummies then sort columns by ages\n",
    "age_dummies = pd.get_dummies(profile_new['age_group'], prefix=None)\n",
    "age_dummies.head()"
   ]
  },
  {
   "cell_type": "code",
   "execution_count": 204,
   "metadata": {
    "hideCode": false,
    "hidePrompt": false
   },
   "outputs": [],
   "source": [
    "# Join age dummies to profile\n",
    "profile_age = profile_new[['user_id', 'age']].copy()\n",
    "profile_new = pd.concat([profile_new, age_dummies], axis=1).drop(columns=['age', 'age_group'])"
   ]
  },
  {
   "cell_type": "code",
   "execution_count": 205,
   "metadata": {},
   "outputs": [
    {
     "data": {
      "text/html": [
       "<div>\n",
       "<style scoped>\n",
       "    .dataframe tbody tr th:only-of-type {\n",
       "        vertical-align: middle;\n",
       "    }\n",
       "\n",
       "    .dataframe tbody tr th {\n",
       "        vertical-align: top;\n",
       "    }\n",
       "\n",
       "    .dataframe thead th {\n",
       "        text-align: right;\n",
       "    }\n",
       "</style>\n",
       "<table border=\"1\" class=\"dataframe\">\n",
       "  <thead>\n",
       "    <tr style=\"text-align: right;\">\n",
       "      <th></th>\n",
       "      <th>gender</th>\n",
       "      <th>age</th>\n",
       "      <th>id</th>\n",
       "      <th>became_member_on</th>\n",
       "      <th>income</th>\n",
       "    </tr>\n",
       "  </thead>\n",
       "  <tbody>\n",
       "    <tr>\n",
       "      <th>0</th>\n",
       "      <td>None</td>\n",
       "      <td>118</td>\n",
       "      <td>68be06ca386d4c31939f3a4f0e3dd783</td>\n",
       "      <td>20170212</td>\n",
       "      <td>NaN</td>\n",
       "    </tr>\n",
       "    <tr>\n",
       "      <th>1</th>\n",
       "      <td>F</td>\n",
       "      <td>55</td>\n",
       "      <td>0610b486422d4921ae7d2bf64640c50b</td>\n",
       "      <td>20170715</td>\n",
       "      <td>112000.0</td>\n",
       "    </tr>\n",
       "    <tr>\n",
       "      <th>2</th>\n",
       "      <td>None</td>\n",
       "      <td>118</td>\n",
       "      <td>38fe809add3b4fcf9315a9694bb96ff5</td>\n",
       "      <td>20180712</td>\n",
       "      <td>NaN</td>\n",
       "    </tr>\n",
       "    <tr>\n",
       "      <th>3</th>\n",
       "      <td>F</td>\n",
       "      <td>75</td>\n",
       "      <td>78afa995795e4d85b5d9ceeca43f5fef</td>\n",
       "      <td>20170509</td>\n",
       "      <td>100000.0</td>\n",
       "    </tr>\n",
       "    <tr>\n",
       "      <th>4</th>\n",
       "      <td>None</td>\n",
       "      <td>118</td>\n",
       "      <td>a03223e636434f42ac4c3df47e8bac43</td>\n",
       "      <td>20170804</td>\n",
       "      <td>NaN</td>\n",
       "    </tr>\n",
       "  </tbody>\n",
       "</table>\n",
       "</div>"
      ],
      "text/plain": [
       "  gender  age                                id  became_member_on    income\n",
       "0   None  118  68be06ca386d4c31939f3a4f0e3dd783          20170212       NaN\n",
       "1      F   55  0610b486422d4921ae7d2bf64640c50b          20170715  112000.0\n",
       "2   None  118  38fe809add3b4fcf9315a9694bb96ff5          20180712       NaN\n",
       "3      F   75  78afa995795e4d85b5d9ceeca43f5fef          20170509  100000.0\n",
       "4   None  118  a03223e636434f42ac4c3df47e8bac43          20170804       NaN"
      ]
     },
     "execution_count": 205,
     "metadata": {},
     "output_type": "execute_result"
    }
   ],
   "source": [
    "profile.head()"
   ]
  },
  {
   "cell_type": "code",
   "execution_count": 206,
   "metadata": {},
   "outputs": [
    {
     "data": {
      "text/html": [
       "<div>\n",
       "<style scoped>\n",
       "    .dataframe tbody tr th:only-of-type {\n",
       "        vertical-align: middle;\n",
       "    }\n",
       "\n",
       "    .dataframe tbody tr th {\n",
       "        vertical-align: top;\n",
       "    }\n",
       "\n",
       "    .dataframe thead th {\n",
       "        text-align: right;\n",
       "    }\n",
       "</style>\n",
       "<table border=\"1\" class=\"dataframe\">\n",
       "  <thead>\n",
       "    <tr style=\"text-align: right;\">\n",
       "      <th></th>\n",
       "      <th>gender</th>\n",
       "      <th>user_id</th>\n",
       "      <th>income</th>\n",
       "      <th>member_days</th>\n",
       "      <th>income_1</th>\n",
       "      <th>income_2</th>\n",
       "      <th>income_3</th>\n",
       "      <th>income_4</th>\n",
       "      <th>income_5</th>\n",
       "      <th>18_24</th>\n",
       "      <th>25_34</th>\n",
       "      <th>35_44</th>\n",
       "      <th>45_54</th>\n",
       "      <th>55_64</th>\n",
       "      <th>65_74</th>\n",
       "      <th>75_84</th>\n",
       "      <th>85_94</th>\n",
       "      <th>95_104</th>\n",
       "    </tr>\n",
       "  </thead>\n",
       "  <tbody>\n",
       "    <tr>\n",
       "      <th>1</th>\n",
       "      <td>F</td>\n",
       "      <td>1</td>\n",
       "      <td>112000</td>\n",
       "      <td>1510</td>\n",
       "      <td>0</td>\n",
       "      <td>0</td>\n",
       "      <td>0</td>\n",
       "      <td>0</td>\n",
       "      <td>1</td>\n",
       "      <td>0</td>\n",
       "      <td>0</td>\n",
       "      <td>0</td>\n",
       "      <td>0</td>\n",
       "      <td>1</td>\n",
       "      <td>0</td>\n",
       "      <td>0</td>\n",
       "      <td>0</td>\n",
       "      <td>0</td>\n",
       "    </tr>\n",
       "    <tr>\n",
       "      <th>3</th>\n",
       "      <td>F</td>\n",
       "      <td>2</td>\n",
       "      <td>100000</td>\n",
       "      <td>1577</td>\n",
       "      <td>0</td>\n",
       "      <td>0</td>\n",
       "      <td>0</td>\n",
       "      <td>0</td>\n",
       "      <td>1</td>\n",
       "      <td>0</td>\n",
       "      <td>0</td>\n",
       "      <td>0</td>\n",
       "      <td>0</td>\n",
       "      <td>0</td>\n",
       "      <td>0</td>\n",
       "      <td>1</td>\n",
       "      <td>0</td>\n",
       "      <td>0</td>\n",
       "    </tr>\n",
       "    <tr>\n",
       "      <th>5</th>\n",
       "      <td>M</td>\n",
       "      <td>3</td>\n",
       "      <td>70000</td>\n",
       "      <td>1225</td>\n",
       "      <td>0</td>\n",
       "      <td>0</td>\n",
       "      <td>1</td>\n",
       "      <td>0</td>\n",
       "      <td>0</td>\n",
       "      <td>0</td>\n",
       "      <td>0</td>\n",
       "      <td>0</td>\n",
       "      <td>0</td>\n",
       "      <td>0</td>\n",
       "      <td>1</td>\n",
       "      <td>0</td>\n",
       "      <td>0</td>\n",
       "      <td>0</td>\n",
       "    </tr>\n",
       "    <tr>\n",
       "      <th>8</th>\n",
       "      <td>M</td>\n",
       "      <td>4</td>\n",
       "      <td>53000</td>\n",
       "      <td>1301</td>\n",
       "      <td>0</td>\n",
       "      <td>1</td>\n",
       "      <td>0</td>\n",
       "      <td>0</td>\n",
       "      <td>0</td>\n",
       "      <td>0</td>\n",
       "      <td>0</td>\n",
       "      <td>0</td>\n",
       "      <td>0</td>\n",
       "      <td>0</td>\n",
       "      <td>1</td>\n",
       "      <td>0</td>\n",
       "      <td>0</td>\n",
       "      <td>0</td>\n",
       "    </tr>\n",
       "    <tr>\n",
       "      <th>12</th>\n",
       "      <td>M</td>\n",
       "      <td>5</td>\n",
       "      <td>51000</td>\n",
       "      <td>1391</td>\n",
       "      <td>0</td>\n",
       "      <td>1</td>\n",
       "      <td>0</td>\n",
       "      <td>0</td>\n",
       "      <td>0</td>\n",
       "      <td>0</td>\n",
       "      <td>0</td>\n",
       "      <td>0</td>\n",
       "      <td>0</td>\n",
       "      <td>1</td>\n",
       "      <td>0</td>\n",
       "      <td>0</td>\n",
       "      <td>0</td>\n",
       "      <td>0</td>\n",
       "    </tr>\n",
       "  </tbody>\n",
       "</table>\n",
       "</div>"
      ],
      "text/plain": [
       "   gender  user_id  income  member_days  income_1  income_2  income_3  \\\n",
       "1       F        1  112000         1510         0         0         0   \n",
       "3       F        2  100000         1577         0         0         0   \n",
       "5       M        3   70000         1225         0         0         1   \n",
       "8       M        4   53000         1301         0         1         0   \n",
       "12      M        5   51000         1391         0         1         0   \n",
       "\n",
       "    income_4  income_5  18_24  25_34  35_44  45_54  55_64  65_74  75_84  \\\n",
       "1          0         1      0      0      0      0      1      0      0   \n",
       "3          0         1      0      0      0      0      0      0      1   \n",
       "5          0         0      0      0      0      0      0      1      0   \n",
       "8          0         0      0      0      0      0      0      1      0   \n",
       "12         0         0      0      0      0      0      1      0      0   \n",
       "\n",
       "    85_94  95_104  \n",
       "1       0       0  \n",
       "3       0       0  \n",
       "5       0       0  \n",
       "8       0       0  \n",
       "12      0       0  "
      ]
     },
     "execution_count": 206,
     "metadata": {},
     "output_type": "execute_result"
    }
   ],
   "source": [
    "profile_new.head()"
   ]
  },
  {
   "cell_type": "markdown",
   "metadata": {
    "hideCode": false,
    "hidePrompt": false
   },
   "source": [
    "#### Code 7"
   ]
  },
  {
   "cell_type": "code",
   "execution_count": 207,
   "metadata": {
    "hideCode": false,
    "hidePrompt": false
   },
   "outputs": [
    {
     "data": {
      "text/html": [
       "<div>\n",
       "<style scoped>\n",
       "    .dataframe tbody tr th:only-of-type {\n",
       "        vertical-align: middle;\n",
       "    }\n",
       "\n",
       "    .dataframe tbody tr th {\n",
       "        vertical-align: top;\n",
       "    }\n",
       "\n",
       "    .dataframe thead th {\n",
       "        text-align: right;\n",
       "    }\n",
       "</style>\n",
       "<table border=\"1\" class=\"dataframe\">\n",
       "  <thead>\n",
       "    <tr style=\"text-align: right;\">\n",
       "      <th></th>\n",
       "      <th>female</th>\n",
       "      <th>male</th>\n",
       "      <th>other</th>\n",
       "    </tr>\n",
       "  </thead>\n",
       "  <tbody>\n",
       "    <tr>\n",
       "      <th>1</th>\n",
       "      <td>1</td>\n",
       "      <td>0</td>\n",
       "      <td>0</td>\n",
       "    </tr>\n",
       "    <tr>\n",
       "      <th>3</th>\n",
       "      <td>1</td>\n",
       "      <td>0</td>\n",
       "      <td>0</td>\n",
       "    </tr>\n",
       "    <tr>\n",
       "      <th>5</th>\n",
       "      <td>0</td>\n",
       "      <td>1</td>\n",
       "      <td>0</td>\n",
       "    </tr>\n",
       "    <tr>\n",
       "      <th>8</th>\n",
       "      <td>0</td>\n",
       "      <td>1</td>\n",
       "      <td>0</td>\n",
       "    </tr>\n",
       "    <tr>\n",
       "      <th>12</th>\n",
       "      <td>0</td>\n",
       "      <td>1</td>\n",
       "      <td>0</td>\n",
       "    </tr>\n",
       "  </tbody>\n",
       "</table>\n",
       "</div>"
      ],
      "text/plain": [
       "    female  male  other\n",
       "1        1     0      0\n",
       "3        1     0      0\n",
       "5        0     1      0\n",
       "8        0     1      0\n",
       "12       0     1      0"
      ]
     },
     "execution_count": 207,
     "metadata": {},
     "output_type": "execute_result"
    }
   ],
   "source": [
    "# Create gender dummies\n",
    "gender_dummies = pd.get_dummies(profile_new['gender'], prefix=None)\n",
    "gender_dummies = gender_dummies.rename(columns={\n",
    "    'F':'female', 'M':'male', 'O':'other'})\n",
    "\n",
    "# Join dummies to profile\n",
    "profile_new = pd.concat([profile_new, gender_dummies], axis=1).drop(columns=['gender'])\n",
    "\n",
    "gender_dummies.head()"
   ]
  },
  {
   "cell_type": "code",
   "execution_count": 208,
   "metadata": {
    "hideCode": false,
    "hidePrompt": false
   },
   "outputs": [],
   "source": [
    "# Move gender column to start of index\n",
    "move_column(profile_new, 'female', 1) \n",
    "move_column(profile_new, 'male', 2) \n",
    "move_column(profile_new, 'other', 3); "
   ]
  },
  {
   "cell_type": "markdown",
   "metadata": {
    "hideCode": false,
    "hidePrompt": false
   },
   "source": [
    "#### Code 8"
   ]
  },
  {
   "cell_type": "code",
   "execution_count": 209,
   "metadata": {
    "hideCode": false,
    "hidePrompt": false
   },
   "outputs": [],
   "source": [
    "# Concatenate other dummy columns\n",
    "profile_new = pd.concat([profile_new, year_dummies], axis=1)"
   ]
  },
  {
   "cell_type": "markdown",
   "metadata": {
    "hideCode": false,
    "hidePrompt": false
   },
   "source": [
    "#### Test"
   ]
  },
  {
   "cell_type": "code",
   "execution_count": 210,
   "metadata": {},
   "outputs": [],
   "source": [
    "# Move member_days column\n",
    "move_col = profile_new.pop('member_days')\n",
    "profile_new.insert(4, 'member_days', move_col)"
   ]
  },
  {
   "cell_type": "code",
   "execution_count": 211,
   "metadata": {},
   "outputs": [
    {
     "data": {
      "text/html": [
       "<div>\n",
       "<style scoped>\n",
       "    .dataframe tbody tr th:only-of-type {\n",
       "        vertical-align: middle;\n",
       "    }\n",
       "\n",
       "    .dataframe tbody tr th {\n",
       "        vertical-align: top;\n",
       "    }\n",
       "\n",
       "    .dataframe thead th {\n",
       "        text-align: right;\n",
       "    }\n",
       "</style>\n",
       "<table border=\"1\" class=\"dataframe\">\n",
       "  <thead>\n",
       "    <tr style=\"text-align: right;\">\n",
       "      <th></th>\n",
       "      <th>user_id</th>\n",
       "      <th>female</th>\n",
       "      <th>male</th>\n",
       "      <th>other</th>\n",
       "      <th>member_days</th>\n",
       "      <th>income</th>\n",
       "      <th>income_1</th>\n",
       "      <th>income_2</th>\n",
       "      <th>income_3</th>\n",
       "      <th>income_4</th>\n",
       "      <th>income_5</th>\n",
       "      <th>18_24</th>\n",
       "      <th>25_34</th>\n",
       "      <th>35_44</th>\n",
       "      <th>45_54</th>\n",
       "      <th>55_64</th>\n",
       "      <th>65_74</th>\n",
       "      <th>75_84</th>\n",
       "      <th>85_94</th>\n",
       "      <th>95_104</th>\n",
       "      <th>2013</th>\n",
       "      <th>2014</th>\n",
       "      <th>2015</th>\n",
       "      <th>2016</th>\n",
       "      <th>2017</th>\n",
       "      <th>2018</th>\n",
       "    </tr>\n",
       "  </thead>\n",
       "  <tbody>\n",
       "    <tr>\n",
       "      <th>1</th>\n",
       "      <td>1</td>\n",
       "      <td>1</td>\n",
       "      <td>0</td>\n",
       "      <td>0</td>\n",
       "      <td>1510</td>\n",
       "      <td>112000</td>\n",
       "      <td>0</td>\n",
       "      <td>0</td>\n",
       "      <td>0</td>\n",
       "      <td>0</td>\n",
       "      <td>1</td>\n",
       "      <td>0</td>\n",
       "      <td>0</td>\n",
       "      <td>0</td>\n",
       "      <td>0</td>\n",
       "      <td>1</td>\n",
       "      <td>0</td>\n",
       "      <td>0</td>\n",
       "      <td>0</td>\n",
       "      <td>0</td>\n",
       "      <td>0</td>\n",
       "      <td>0</td>\n",
       "      <td>0</td>\n",
       "      <td>0</td>\n",
       "      <td>1</td>\n",
       "      <td>0</td>\n",
       "    </tr>\n",
       "    <tr>\n",
       "      <th>3</th>\n",
       "      <td>2</td>\n",
       "      <td>1</td>\n",
       "      <td>0</td>\n",
       "      <td>0</td>\n",
       "      <td>1577</td>\n",
       "      <td>100000</td>\n",
       "      <td>0</td>\n",
       "      <td>0</td>\n",
       "      <td>0</td>\n",
       "      <td>0</td>\n",
       "      <td>1</td>\n",
       "      <td>0</td>\n",
       "      <td>0</td>\n",
       "      <td>0</td>\n",
       "      <td>0</td>\n",
       "      <td>0</td>\n",
       "      <td>0</td>\n",
       "      <td>1</td>\n",
       "      <td>0</td>\n",
       "      <td>0</td>\n",
       "      <td>0</td>\n",
       "      <td>0</td>\n",
       "      <td>0</td>\n",
       "      <td>0</td>\n",
       "      <td>1</td>\n",
       "      <td>0</td>\n",
       "    </tr>\n",
       "    <tr>\n",
       "      <th>5</th>\n",
       "      <td>3</td>\n",
       "      <td>0</td>\n",
       "      <td>1</td>\n",
       "      <td>0</td>\n",
       "      <td>1225</td>\n",
       "      <td>70000</td>\n",
       "      <td>0</td>\n",
       "      <td>0</td>\n",
       "      <td>1</td>\n",
       "      <td>0</td>\n",
       "      <td>0</td>\n",
       "      <td>0</td>\n",
       "      <td>0</td>\n",
       "      <td>0</td>\n",
       "      <td>0</td>\n",
       "      <td>0</td>\n",
       "      <td>1</td>\n",
       "      <td>0</td>\n",
       "      <td>0</td>\n",
       "      <td>0</td>\n",
       "      <td>0</td>\n",
       "      <td>0</td>\n",
       "      <td>0</td>\n",
       "      <td>0</td>\n",
       "      <td>0</td>\n",
       "      <td>1</td>\n",
       "    </tr>\n",
       "    <tr>\n",
       "      <th>8</th>\n",
       "      <td>4</td>\n",
       "      <td>0</td>\n",
       "      <td>1</td>\n",
       "      <td>0</td>\n",
       "      <td>1301</td>\n",
       "      <td>53000</td>\n",
       "      <td>0</td>\n",
       "      <td>1</td>\n",
       "      <td>0</td>\n",
       "      <td>0</td>\n",
       "      <td>0</td>\n",
       "      <td>0</td>\n",
       "      <td>0</td>\n",
       "      <td>0</td>\n",
       "      <td>0</td>\n",
       "      <td>0</td>\n",
       "      <td>1</td>\n",
       "      <td>0</td>\n",
       "      <td>0</td>\n",
       "      <td>0</td>\n",
       "      <td>0</td>\n",
       "      <td>0</td>\n",
       "      <td>0</td>\n",
       "      <td>0</td>\n",
       "      <td>0</td>\n",
       "      <td>1</td>\n",
       "    </tr>\n",
       "    <tr>\n",
       "      <th>12</th>\n",
       "      <td>5</td>\n",
       "      <td>0</td>\n",
       "      <td>1</td>\n",
       "      <td>0</td>\n",
       "      <td>1391</td>\n",
       "      <td>51000</td>\n",
       "      <td>0</td>\n",
       "      <td>1</td>\n",
       "      <td>0</td>\n",
       "      <td>0</td>\n",
       "      <td>0</td>\n",
       "      <td>0</td>\n",
       "      <td>0</td>\n",
       "      <td>0</td>\n",
       "      <td>0</td>\n",
       "      <td>1</td>\n",
       "      <td>0</td>\n",
       "      <td>0</td>\n",
       "      <td>0</td>\n",
       "      <td>0</td>\n",
       "      <td>0</td>\n",
       "      <td>0</td>\n",
       "      <td>0</td>\n",
       "      <td>0</td>\n",
       "      <td>1</td>\n",
       "      <td>0</td>\n",
       "    </tr>\n",
       "  </tbody>\n",
       "</table>\n",
       "</div>"
      ],
      "text/plain": [
       "    user_id  female  male  other  member_days  income  income_1  income_2  \\\n",
       "1         1       1     0      0         1510  112000         0         0   \n",
       "3         2       1     0      0         1577  100000         0         0   \n",
       "5         3       0     1      0         1225   70000         0         0   \n",
       "8         4       0     1      0         1301   53000         0         1   \n",
       "12        5       0     1      0         1391   51000         0         1   \n",
       "\n",
       "    income_3  income_4  income_5  18_24  25_34  35_44  45_54  55_64  65_74  \\\n",
       "1          0         0         1      0      0      0      0      1      0   \n",
       "3          0         0         1      0      0      0      0      0      0   \n",
       "5          1         0         0      0      0      0      0      0      1   \n",
       "8          0         0         0      0      0      0      0      0      1   \n",
       "12         0         0         0      0      0      0      0      1      0   \n",
       "\n",
       "    75_84  85_94  95_104  2013  2014  2015  2016  2017  2018  \n",
       "1       0      0       0     0     0     0     0     1     0  \n",
       "3       1      0       0     0     0     0     0     1     0  \n",
       "5       0      0       0     0     0     0     0     0     1  \n",
       "8       0      0       0     0     0     0     0     0     1  \n",
       "12      0      0       0     0     0     0     0     1     0  "
      ]
     },
     "execution_count": 211,
     "metadata": {},
     "output_type": "execute_result"
    }
   ],
   "source": [
    "profile_new.head()"
   ]
  },
  {
   "cell_type": "markdown",
   "metadata": {},
   "source": [
    "**Reference:** https://www.geeksforgeeks.org/how-to-move-a-column-to-first-position-in-pandas-dataframe/"
   ]
  },
  {
   "cell_type": "markdown",
   "metadata": {
    "hideCode": false,
    "hidePrompt": false
   },
   "source": [
    "#### 3. Clean `transcript_new`"
   ]
  },
  {
   "cell_type": "markdown",
   "metadata": {
    "hideCode": false,
    "hidePrompt": false
   },
   "source": [
    "#### Define"
   ]
  },
  {
   "cell_type": "markdown",
   "metadata": {
    "hideCode": false,
    "hidePrompt": false
   },
   "source": [
    "1. Rename `person` column to `user_id`\n",
    "2. Convert time from hours to days\n",
    "3. Unpack dict from `value` column to their own columns then drop `value` column\n",
    "4. Map each offer hash to in `user_id` and `offer_id` to an integer\n",
    "5. Create `transaction` df by filtering only `user_id` values in `transcript` and `profile` df\n",
    "    1. Drop null `offer_id` values and remove all columns apart from `user_id`, `time`, and `amount`\n",
    "6. Create `offer_data` df by using dropna `offer_id` then drop columns `transaction`, `amount`"
   ]
  },
  {
   "cell_type": "markdown",
   "metadata": {
    "hideCode": false,
    "hidePrompt": false
   },
   "source": [
    "#### Code 1"
   ]
  },
  {
   "cell_type": "code",
   "execution_count": 212,
   "metadata": {
    "hideCode": false,
    "hidePrompt": false
   },
   "outputs": [],
   "source": [
    "# Rename transcript columns\n",
    "transcript_new = transcript_new.rename(columns={'person':'user_id'})"
   ]
  },
  {
   "cell_type": "markdown",
   "metadata": {
    "hideCode": false,
    "hidePrompt": false
   },
   "source": [
    "#### Code 2"
   ]
  },
  {
   "cell_type": "code",
   "execution_count": 213,
   "metadata": {
    "hideCode": false,
    "hidePrompt": false
   },
   "outputs": [],
   "source": [
    "# Convert time into days (np.floor can accept arrays)\n",
    "transcript_new['time'] = np.floor(transcript_new['time'] / 24).astype(int)"
   ]
  },
  {
   "cell_type": "markdown",
   "metadata": {
    "hideCode": false,
    "hidePrompt": false
   },
   "source": [
    "#### Code 3"
   ]
  },
  {
   "cell_type": "code",
   "execution_count": 214,
   "metadata": {
    "hideCode": false,
    "hidePrompt": false
   },
   "outputs": [],
   "source": [
    "# Extract dict from value column rows in their own columns\n",
    "transcript_new['offer_id'] = [[*i.values()][0]if [*i.keys()][0] in ['offer id','offer_id'] else np.nan for i in transcript_new.value]\n",
    "transcript_new['amount'] = [[*i.values()][0]if [*i.keys()][0] in ['amount','amount'] else np.nan for i in transcript_new.value]\n",
    "\n",
    "# Drop value column\n",
    "transcript_new = transcript_new.drop(columns=['value'])"
   ]
  },
  {
   "cell_type": "markdown",
   "metadata": {
    "hideCode": false,
    "hidePrompt": false
   },
   "source": [
    "#### Code 4"
   ]
  },
  {
   "cell_type": "code",
   "execution_count": 215,
   "metadata": {
    "hideCode": false,
    "hidePrompt": false
   },
   "outputs": [],
   "source": [
    "# Using hash_map function to turn hashes of user and offer_ids into integers\n",
    "hash_map(transcript_new, 'user_id')\n",
    "hash_map_offer(transcript_new, 'offer_id', portfolio_hash, 'offer_id')"
   ]
  },
  {
   "cell_type": "markdown",
   "metadata": {
    "hideCode": false,
    "hidePrompt": false
   },
   "source": [
    "#### Code 5"
   ]
  },
  {
   "cell_type": "code",
   "execution_count": 216,
   "metadata": {
    "hideCode": false,
    "hidePrompt": false
   },
   "outputs": [
    {
     "name": "stdout",
     "output_type": "stream",
     "text": [
      "User count before: 306534\n",
      "User count after: 275506\n"
     ]
    }
   ],
   "source": [
    "# Filter user_ids in (customer) profile df\n",
    "user_count = transcript_new['user_id'].count()\n",
    "transcript_new = transcript_new[transcript_new['user_id'].isin(profile_new['user_id'])]\n",
    "\n",
    "# Print user counts before and after operation\n",
    "print('User count before:', user_count)\n",
    "print('User count after:', transcript_new['user_id'].count())"
   ]
  },
  {
   "cell_type": "code",
   "execution_count": 217,
   "metadata": {
    "hideCode": false,
    "hidePrompt": false
   },
   "outputs": [],
   "source": [
    "# Create transaction df from transcript\n",
    "transaction = transcript_new[transcript_new['offer_id'].isna()]\n",
    "transaction = transaction[['user_id', 'time', 'amount']]"
   ]
  },
  {
   "cell_type": "code",
   "execution_count": 218,
   "metadata": {
    "hideCode": false,
    "hidePrompt": false
   },
   "outputs": [
    {
     "data": {
      "text/html": [
       "<div>\n",
       "<style scoped>\n",
       "    .dataframe tbody tr th:only-of-type {\n",
       "        vertical-align: middle;\n",
       "    }\n",
       "\n",
       "    .dataframe tbody tr th {\n",
       "        vertical-align: top;\n",
       "    }\n",
       "\n",
       "    .dataframe thead th {\n",
       "        text-align: right;\n",
       "    }\n",
       "</style>\n",
       "<table border=\"1\" class=\"dataframe\">\n",
       "  <thead>\n",
       "    <tr style=\"text-align: right;\">\n",
       "      <th></th>\n",
       "      <th>completed</th>\n",
       "      <th>received</th>\n",
       "      <th>viewed</th>\n",
       "      <th>transaction</th>\n",
       "    </tr>\n",
       "  </thead>\n",
       "  <tbody>\n",
       "    <tr>\n",
       "      <th>0</th>\n",
       "      <td>0</td>\n",
       "      <td>1</td>\n",
       "      <td>0</td>\n",
       "      <td>0</td>\n",
       "    </tr>\n",
       "    <tr>\n",
       "      <th>1</th>\n",
       "      <td>0</td>\n",
       "      <td>1</td>\n",
       "      <td>0</td>\n",
       "      <td>0</td>\n",
       "    </tr>\n",
       "    <tr>\n",
       "      <th>2</th>\n",
       "      <td>0</td>\n",
       "      <td>1</td>\n",
       "      <td>0</td>\n",
       "      <td>0</td>\n",
       "    </tr>\n",
       "    <tr>\n",
       "      <th>3</th>\n",
       "      <td>0</td>\n",
       "      <td>1</td>\n",
       "      <td>0</td>\n",
       "      <td>0</td>\n",
       "    </tr>\n",
       "    <tr>\n",
       "      <th>4</th>\n",
       "      <td>0</td>\n",
       "      <td>1</td>\n",
       "      <td>0</td>\n",
       "      <td>0</td>\n",
       "    </tr>\n",
       "  </tbody>\n",
       "</table>\n",
       "</div>"
      ],
      "text/plain": [
       "   completed  received  viewed  transaction\n",
       "0          0         1       0            0\n",
       "1          0         1       0            0\n",
       "2          0         1       0            0\n",
       "3          0         1       0            0\n",
       "4          0         1       0            0"
      ]
     },
     "execution_count": 218,
     "metadata": {},
     "output_type": "execute_result"
    }
   ],
   "source": [
    "# Get evemt dummies\n",
    "event_dummies = pd.get_dummies(transcript_new['event'])\n",
    "\n",
    "# Remove 'offer_' from column name\n",
    "event_dummies.columns = [col.replace('offer ', '') for col in event_dummies.columns] \n",
    "\n",
    "# Join dummies to profile\n",
    "transcript_new = pd.concat([transcript_new, event_dummies], axis=1).drop(columns=['event'])\n",
    "\n",
    "event_dummies.head()"
   ]
  },
  {
   "cell_type": "markdown",
   "metadata": {
    "hideCode": false,
    "hidePrompt": false
   },
   "source": [
    "#### Code 6"
   ]
  },
  {
   "cell_type": "code",
   "execution_count": 219,
   "metadata": {
    "hideCode": false,
    "hidePrompt": false
   },
   "outputs": [],
   "source": [
    "# Create offer data df\n",
    "offer_data = transcript_new.dropna(subset=['offer_id'],axis=0).drop(columns=['transaction', 'amount'])\n",
    "offer_data['offer_id'] = offer_data['offer_id'].astype(int)"
   ]
  },
  {
   "cell_type": "markdown",
   "metadata": {
    "hideCode": false,
    "hidePrompt": false
   },
   "source": [
    "#### Test"
   ]
  },
  {
   "cell_type": "code",
   "execution_count": 220,
   "metadata": {
    "hideCode": false,
    "hidePrompt": false
   },
   "outputs": [
    {
     "name": "stdout",
     "output_type": "stream",
     "text": [
      "<class 'pandas.core.frame.DataFrame'>\n",
      "Int64Index: 125792 entries, 12654 to 306533\n",
      "Data columns (total 3 columns):\n",
      " #   Column   Non-Null Count   Dtype  \n",
      "---  ------   --------------   -----  \n",
      " 0   user_id  125792 non-null  int64  \n",
      " 1   time     125792 non-null  int32  \n",
      " 2   amount   125792 non-null  float64\n",
      "dtypes: float64(1), int32(1), int64(1)\n",
      "memory usage: 3.4 MB\n"
     ]
    }
   ],
   "source": [
    "transaction.info()"
   ]
  },
  {
   "cell_type": "code",
   "execution_count": 221,
   "metadata": {
    "hideCode": false,
    "hidePrompt": false
   },
   "outputs": [
    {
     "name": "stdout",
     "output_type": "stream",
     "text": [
      "<class 'pandas.core.frame.DataFrame'>\n",
      "Int64Index: 149714 entries, 0 to 306527\n",
      "Data columns (total 6 columns):\n",
      " #   Column     Non-Null Count   Dtype\n",
      "---  ------     --------------   -----\n",
      " 0   user_id    149714 non-null  int64\n",
      " 1   time       149714 non-null  int32\n",
      " 2   offer_id   149714 non-null  int32\n",
      " 3   completed  149714 non-null  uint8\n",
      " 4   received   149714 non-null  uint8\n",
      " 5   viewed     149714 non-null  uint8\n",
      "dtypes: int32(2), int64(1), uint8(3)\n",
      "memory usage: 3.9 MB\n"
     ]
    }
   ],
   "source": [
    "offer_data.info()"
   ]
  },
  {
   "cell_type": "code",
   "execution_count": 222,
   "metadata": {
    "hideCode": false,
    "hidePrompt": false
   },
   "outputs": [
    {
     "data": {
      "text/html": [
       "<div>\n",
       "<style scoped>\n",
       "    .dataframe tbody tr th:only-of-type {\n",
       "        vertical-align: middle;\n",
       "    }\n",
       "\n",
       "    .dataframe tbody tr th {\n",
       "        vertical-align: top;\n",
       "    }\n",
       "\n",
       "    .dataframe thead th {\n",
       "        text-align: right;\n",
       "    }\n",
       "</style>\n",
       "<table border=\"1\" class=\"dataframe\">\n",
       "  <thead>\n",
       "    <tr style=\"text-align: right;\">\n",
       "      <th></th>\n",
       "      <th>user_id</th>\n",
       "      <th>time</th>\n",
       "      <th>offer_id</th>\n",
       "      <th>completed</th>\n",
       "      <th>received</th>\n",
       "      <th>viewed</th>\n",
       "    </tr>\n",
       "  </thead>\n",
       "  <tbody>\n",
       "    <tr>\n",
       "      <th>0</th>\n",
       "      <td>1</td>\n",
       "      <td>0</td>\n",
       "      <td>4</td>\n",
       "      <td>0</td>\n",
       "      <td>1</td>\n",
       "      <td>0</td>\n",
       "    </tr>\n",
       "    <tr>\n",
       "      <th>1</th>\n",
       "      <td>2</td>\n",
       "      <td>0</td>\n",
       "      <td>5</td>\n",
       "      <td>0</td>\n",
       "      <td>1</td>\n",
       "      <td>0</td>\n",
       "    </tr>\n",
       "    <tr>\n",
       "      <th>2</th>\n",
       "      <td>3</td>\n",
       "      <td>0</td>\n",
       "      <td>10</td>\n",
       "      <td>0</td>\n",
       "      <td>1</td>\n",
       "      <td>0</td>\n",
       "    </tr>\n",
       "    <tr>\n",
       "      <th>3</th>\n",
       "      <td>4</td>\n",
       "      <td>0</td>\n",
       "      <td>7</td>\n",
       "      <td>0</td>\n",
       "      <td>1</td>\n",
       "      <td>0</td>\n",
       "    </tr>\n",
       "    <tr>\n",
       "      <th>4</th>\n",
       "      <td>5</td>\n",
       "      <td>0</td>\n",
       "      <td>2</td>\n",
       "      <td>0</td>\n",
       "      <td>1</td>\n",
       "      <td>0</td>\n",
       "    </tr>\n",
       "  </tbody>\n",
       "</table>\n",
       "</div>"
      ],
      "text/plain": [
       "   user_id  time  offer_id  completed  received  viewed\n",
       "0        1     0         4          0         1       0\n",
       "1        2     0         5          0         1       0\n",
       "2        3     0        10          0         1       0\n",
       "3        4     0         7          0         1       0\n",
       "4        5     0         2          0         1       0"
      ]
     },
     "execution_count": 222,
     "metadata": {},
     "output_type": "execute_result"
    }
   ],
   "source": [
    "offer_data.head()"
   ]
  },
  {
   "cell_type": "code",
   "execution_count": 223,
   "metadata": {
    "hideCode": false,
    "hidePrompt": false
   },
   "outputs": [
    {
     "data": {
      "text/html": [
       "<div>\n",
       "<style scoped>\n",
       "    .dataframe tbody tr th:only-of-type {\n",
       "        vertical-align: middle;\n",
       "    }\n",
       "\n",
       "    .dataframe tbody tr th {\n",
       "        vertical-align: top;\n",
       "    }\n",
       "\n",
       "    .dataframe thead th {\n",
       "        text-align: right;\n",
       "    }\n",
       "</style>\n",
       "<table border=\"1\" class=\"dataframe\">\n",
       "  <thead>\n",
       "    <tr style=\"text-align: right;\">\n",
       "      <th></th>\n",
       "      <th>user_id</th>\n",
       "      <th>time</th>\n",
       "      <th>offer_id</th>\n",
       "      <th>completed</th>\n",
       "      <th>received</th>\n",
       "      <th>viewed</th>\n",
       "    </tr>\n",
       "  </thead>\n",
       "  <tbody>\n",
       "    <tr>\n",
       "      <th>306490</th>\n",
       "      <td>12315</td>\n",
       "      <td>29</td>\n",
       "      <td>3</td>\n",
       "      <td>0</td>\n",
       "      <td>0</td>\n",
       "      <td>1</td>\n",
       "    </tr>\n",
       "    <tr>\n",
       "      <th>306506</th>\n",
       "      <td>12467</td>\n",
       "      <td>29</td>\n",
       "      <td>7</td>\n",
       "      <td>1</td>\n",
       "      <td>0</td>\n",
       "      <td>0</td>\n",
       "    </tr>\n",
       "    <tr>\n",
       "      <th>306507</th>\n",
       "      <td>12468</td>\n",
       "      <td>29</td>\n",
       "      <td>5</td>\n",
       "      <td>0</td>\n",
       "      <td>0</td>\n",
       "      <td>1</td>\n",
       "    </tr>\n",
       "    <tr>\n",
       "      <th>306509</th>\n",
       "      <td>12470</td>\n",
       "      <td>29</td>\n",
       "      <td>7</td>\n",
       "      <td>1</td>\n",
       "      <td>0</td>\n",
       "      <td>0</td>\n",
       "    </tr>\n",
       "    <tr>\n",
       "      <th>306527</th>\n",
       "      <td>14767</td>\n",
       "      <td>29</td>\n",
       "      <td>7</td>\n",
       "      <td>1</td>\n",
       "      <td>0</td>\n",
       "      <td>0</td>\n",
       "    </tr>\n",
       "  </tbody>\n",
       "</table>\n",
       "</div>"
      ],
      "text/plain": [
       "        user_id  time  offer_id  completed  received  viewed\n",
       "306490    12315    29         3          0         0       1\n",
       "306506    12467    29         7          1         0       0\n",
       "306507    12468    29         5          0         0       1\n",
       "306509    12470    29         7          1         0       0\n",
       "306527    14767    29         7          1         0       0"
      ]
     },
     "execution_count": 223,
     "metadata": {},
     "output_type": "execute_result"
    }
   ],
   "source": [
    "offer_data.tail()"
   ]
  },
  {
   "cell_type": "code",
   "execution_count": 224,
   "metadata": {
    "hideCode": false,
    "hidePrompt": false
   },
   "outputs": [
    {
     "data": {
      "text/html": [
       "<div>\n",
       "<style scoped>\n",
       "    .dataframe tbody tr th:only-of-type {\n",
       "        vertical-align: middle;\n",
       "    }\n",
       "\n",
       "    .dataframe tbody tr th {\n",
       "        vertical-align: top;\n",
       "    }\n",
       "\n",
       "    .dataframe thead th {\n",
       "        text-align: right;\n",
       "    }\n",
       "</style>\n",
       "<table border=\"1\" class=\"dataframe\">\n",
       "  <thead>\n",
       "    <tr style=\"text-align: right;\">\n",
       "      <th></th>\n",
       "      <th>user_id</th>\n",
       "      <th>time</th>\n",
       "      <th>amount</th>\n",
       "    </tr>\n",
       "  </thead>\n",
       "  <tbody>\n",
       "    <tr>\n",
       "      <th>12654</th>\n",
       "      <td>28</td>\n",
       "      <td>0</td>\n",
       "      <td>0.83</td>\n",
       "    </tr>\n",
       "    <tr>\n",
       "      <th>12657</th>\n",
       "      <td>37</td>\n",
       "      <td>0</td>\n",
       "      <td>34.56</td>\n",
       "    </tr>\n",
       "    <tr>\n",
       "      <th>12659</th>\n",
       "      <td>12651</td>\n",
       "      <td>0</td>\n",
       "      <td>13.23</td>\n",
       "    </tr>\n",
       "    <tr>\n",
       "      <th>12670</th>\n",
       "      <td>6658</td>\n",
       "      <td>0</td>\n",
       "      <td>19.51</td>\n",
       "    </tr>\n",
       "    <tr>\n",
       "      <th>12671</th>\n",
       "      <td>108</td>\n",
       "      <td>0</td>\n",
       "      <td>18.97</td>\n",
       "    </tr>\n",
       "  </tbody>\n",
       "</table>\n",
       "</div>"
      ],
      "text/plain": [
       "       user_id  time  amount\n",
       "12654       28     0    0.83\n",
       "12657       37     0   34.56\n",
       "12659    12651     0   13.23\n",
       "12670     6658     0   19.51\n",
       "12671      108     0   18.97"
      ]
     },
     "execution_count": 224,
     "metadata": {},
     "output_type": "execute_result"
    }
   ],
   "source": [
    "transaction.head()"
   ]
  },
  {
   "cell_type": "code",
   "execution_count": 225,
   "metadata": {
    "hideCode": false,
    "hidePrompt": false
   },
   "outputs": [
    {
     "data": {
      "text/html": [
       "<div>\n",
       "<style scoped>\n",
       "    .dataframe tbody tr th:only-of-type {\n",
       "        vertical-align: middle;\n",
       "    }\n",
       "\n",
       "    .dataframe tbody tr th {\n",
       "        vertical-align: top;\n",
       "    }\n",
       "\n",
       "    .dataframe thead th {\n",
       "        text-align: right;\n",
       "    }\n",
       "</style>\n",
       "<table border=\"1\" class=\"dataframe\">\n",
       "  <thead>\n",
       "    <tr style=\"text-align: right;\">\n",
       "      <th></th>\n",
       "      <th>count</th>\n",
       "    </tr>\n",
       "  </thead>\n",
       "  <tbody>\n",
       "    <tr>\n",
       "      <th>transaction</th>\n",
       "      <td>138953</td>\n",
       "    </tr>\n",
       "    <tr>\n",
       "      <th>offer received</th>\n",
       "      <td>76277</td>\n",
       "    </tr>\n",
       "    <tr>\n",
       "      <th>offer viewed</th>\n",
       "      <td>57725</td>\n",
       "    </tr>\n",
       "    <tr>\n",
       "      <th>offer completed</th>\n",
       "      <td>33579</td>\n",
       "    </tr>\n",
       "  </tbody>\n",
       "</table>\n",
       "</div>"
      ],
      "text/plain": [
       "                  count\n",
       "transaction      138953\n",
       "offer received    76277\n",
       "offer viewed      57725\n",
       "offer completed   33579"
      ]
     },
     "execution_count": 225,
     "metadata": {},
     "output_type": "execute_result"
    }
   ],
   "source": [
    "# Count each offer event\n",
    "event_count = transcript['event'].value_counts()\n",
    "event_count = pd.DataFrame(event_count).rename(columns={'event':'count'})\n",
    "event_count"
   ]
  },
  {
   "cell_type": "markdown",
   "metadata": {
    "hideCode": false,
    "hidePrompt": false
   },
   "source": [
    "<a id='3.2'></a>\n",
    "### 3.2. Integrating"
   ]
  },
  {
   "cell_type": "markdown",
   "metadata": {},
   "source": [
    "It is time to merge all the DataFrames into one large DataFrame. A warning though, I have included a script which checks the data folder for a csv document of the `clean_data.csv` file so that it skips creating a new csv each time the notebook is restarted. This can be a problem if we want to see new changes reflected so we have to remember to delete the csv and restart the notebook again to have the changes saved. The `clean_data.csv` file takes aproximately 3 minutes to be created for me but it varies depending on the hardware used."
   ]
  },
  {
   "cell_type": "markdown",
   "metadata": {
    "hideCode": false,
    "hidePrompt": false
   },
   "source": [
    "#### Create `df`"
   ]
  },
  {
   "cell_type": "code",
   "execution_count": 226,
   "metadata": {
    "hideCode": false,
    "hidePrompt": false
   },
   "outputs": [],
   "source": [
    "def create_offer_df(portfolio, profile, transaction, offer_data):\n",
    "    ''' This function creates a DataFrame from:\n",
    "    1. portfolio.json - containing offer ids and meta data about each offer (duration, type, etc.)\n",
    "    2. profile.json - demographic data for each customer\n",
    "    3. transcript.json - records for transactions, offers received, offers viewed, and offers completed\n",
    "    \n",
    "    INPUT:\n",
    "    portfolio - containing offer ids and meta data about each offer (duration, type, etc.)\n",
    "    profile - demographic data for each customer\n",
    "    transaction - records for transactions completed\n",
    "    offer_data - records offers received, offers viewed, and offers completed\n",
    "\n",
    "    OUTPUT:\n",
    "    clean_data - Combined DataFrame showing the success of each offer'''\n",
    "    \n",
    "    # Init empty array\n",
    "    clean_data = []\n",
    "    \n",
    "    # List each user id\n",
    "    user_id_list = offer_data['user_id'].unique()\n",
    "\n",
    "    # Loop\n",
    "    for idx in tqdm(range(len(user_id_list))):\n",
    "        clean_data.extend(combine_data(user_id_list[idx],\n",
    "                                        portfolio_new,\n",
    "                                        profile_new,\n",
    "                                        offer_data,\n",
    "                                        transaction))    \n",
    "    \n",
    "    # Create dataframe\n",
    "    clean_data = pd.DataFrame(clean_data).sort_values('time')\n",
    "    return clean_data.reset_index(drop=True)"
   ]
  },
  {
   "cell_type": "code",
   "execution_count": 227,
   "metadata": {
    "hideCode": false,
    "hidePrompt": false
   },
   "outputs": [],
   "source": [
    "def combine_data(user_id, portfolio, profile, offer_data, transaction):\n",
    "    ''' The function creates a list of dictionaries describing the success of offers\n",
    "    sent to each customer\n",
    "    \n",
    "    INPUT:\n",
    "    user_id - customer user id (integer)\n",
    "    portfolio - containing offer ids and meta data about each offer (duration, type, etc.)\n",
    "    profile - demographic data for each customer\n",
    "    transaction - records for transactions completed\n",
    "    offer_data - records offers viewed, offers viewed, and offers completed\n",
    "    \n",
    "    OUTPUT:\n",
    "    rows - a list of dictionaries describing the success of offers sent to each \n",
    "    customer '''\n",
    "    \n",
    "    # Filter a specific user\n",
    "    get_user = profile[profile['user_id'] == user_id]\n",
    "    \n",
    "    # Filter offer data for a specific user\n",
    "    get_offer_data = offer_data['user_id'] == user_id\n",
    "    user_offer_data = offer_data[get_offer_data]\n",
    "    user_offer_data = user_offer_data \\\n",
    "    .drop(columns='user_id').reset_index(drop=True)\n",
    "    \n",
    "    # Filter transaction data for a specific user\n",
    "    get_transaction = transaction['user_id'] == user_id\n",
    "    user_transaction_data = transaction[get_transaction]\n",
    "    user_transaction_data = user_transaction_data \\\n",
    "    .drop(columns='user_id').reset_index(drop=True)\n",
    "    \n",
    "    \n",
    "    # Create DataFrames for when a customer receives, views, and completes an offer\n",
    "    event_cols = ['received', 'viewed', 'completed']\n",
    "    \n",
    "    # Received offers\n",
    "    offer_received = user_offer_data[user_offer_data['received'] == 1]\n",
    "    offer_received = offer_received.drop(columns=event_cols).reset_index(drop=True)\n",
    "    \n",
    "    # Viewed offers\n",
    "    offer_viewed = user_offer_data[user_offer_data['viewed'] == 1]\n",
    "    offer_viewed = offer_viewed.drop(columns=event_cols).reset_index(drop=True)\n",
    "    \n",
    "    # Completed offers\n",
    "    offer_completed = user_offer_data[user_offer_data['completed'] == 1]\n",
    "    offer_completed = offer_completed.drop(columns=event_cols).reset_index(drop=True)\n",
    "    \n",
    "    # Iterate over each offer a customer receives\n",
    "    rows = []\n",
    "    for idx in range(offer_received.shape[0]):\n",
    "    \n",
    "        # Filter current offer id\n",
    "        get_offer_id = offer_received.iloc[idx]['offer_id']\n",
    "\n",
    "        # Filter portfolio data for current offer\n",
    "        get_offer = portfolio.loc[portfolio['offer_id'] == get_offer_id]\n",
    "        duration = get_offer['duration'].values[0]\n",
    "        \n",
    "        # Init time the offer is valid\n",
    "        get_offer_startime = offer_received.iloc[idx]['time']\n",
    "        get_offer_endtime = offer_received.iloc[idx]['time'] + duration\n",
    "        \n",
    "        # Init boolean array to get transactions within the valid offer time window\n",
    "        get_transaction = np.logical_and(user_transaction_data['time'] >=\n",
    "                                         get_offer_startime,\n",
    "                                         user_transaction_data['time'] <=\n",
    "                                         get_offer_endtime)\n",
    "         \n",
    "        # Init boolean array to find when user completes an offer\n",
    "        get_offer_completed = np.logical_and(offer_completed['time'] >= get_offer_startime,\n",
    "                                             offer_completed['time'] <= get_offer_endtime)\n",
    "        \n",
    "        # Init boolean array to find when user views an offer\n",
    "        get_offer_viewed = np.logical_and(offer_viewed['time'] >= get_offer_startime,\n",
    "                                          offer_viewed['time'] <= get_offer_endtime)\n",
    "        \n",
    "        # Find out if current offer was successful\n",
    "        get_offer_successful = get_offer_completed.sum() > 0 and get_offer_viewed.sum() > 0\n",
    "        \n",
    "        # Get customer transactions occuring within the valid offer time window\n",
    "        get_offer_transactions = user_transaction_data[get_transaction]\n",
    "        \n",
    "        # Init dictionary for description of current customer offer\n",
    "        user_row = {'user_id': user_id,\n",
    "                    'offer_id': get_offer_id,\n",
    "                    'time': get_offer_startime,\n",
    "                    'offer_successful': int(get_offer_successful),\n",
    "                    'total_amount': get_offer_transactions['amount'].sum()}\n",
    "        \n",
    "        # Create dict from 'user_row'\n",
    "        user_row.update(get_offer.iloc[0,1:].to_dict())\n",
    "        user_row.update(get_user.iloc[0,1:].to_dict())\n",
    "        \n",
    "        # Append 'user_row' to 'rows' list\n",
    "        rows.append(user_row)\n",
    "        \n",
    "    return rows"
   ]
  },
  {
   "cell_type": "raw",
   "metadata": {
    "hideCode": false,
    "hidePrompt": false
   },
   "source": [
    "# Test function\n",
    "test_function = create_offer_df(portfolio_new, profile_new, transaction, offer_data)\n",
    "test_function.head()"
   ]
  },
  {
   "cell_type": "code",
   "execution_count": 228,
   "metadata": {
    "hideCode": false,
    "hidePrompt": false,
    "scrolled": true
   },
   "outputs": [
    {
     "data": {
      "text/html": [
       "<div>\n",
       "<style scoped>\n",
       "    .dataframe tbody tr th:only-of-type {\n",
       "        vertical-align: middle;\n",
       "    }\n",
       "\n",
       "    .dataframe tbody tr th {\n",
       "        vertical-align: top;\n",
       "    }\n",
       "\n",
       "    .dataframe thead th {\n",
       "        text-align: right;\n",
       "    }\n",
       "</style>\n",
       "<table border=\"1\" class=\"dataframe\">\n",
       "  <thead>\n",
       "    <tr style=\"text-align: right;\">\n",
       "      <th></th>\n",
       "      <th>user_id</th>\n",
       "      <th>offer_id</th>\n",
       "      <th>time</th>\n",
       "      <th>offer_successful</th>\n",
       "      <th>total_amount</th>\n",
       "      <th>difficulty</th>\n",
       "      <th>duration</th>\n",
       "      <th>reward</th>\n",
       "      <th>bogo</th>\n",
       "      <th>discount</th>\n",
       "      <th>informational</th>\n",
       "      <th>email</th>\n",
       "      <th>mobile</th>\n",
       "      <th>social</th>\n",
       "      <th>web</th>\n",
       "      <th>female</th>\n",
       "      <th>male</th>\n",
       "      <th>other</th>\n",
       "      <th>member_days</th>\n",
       "      <th>income</th>\n",
       "      <th>income_1</th>\n",
       "      <th>income_2</th>\n",
       "      <th>income_3</th>\n",
       "      <th>income_4</th>\n",
       "      <th>income_5</th>\n",
       "      <th>18_24</th>\n",
       "      <th>25_34</th>\n",
       "      <th>35_44</th>\n",
       "      <th>45_54</th>\n",
       "      <th>55_64</th>\n",
       "      <th>65_74</th>\n",
       "      <th>75_84</th>\n",
       "      <th>85_94</th>\n",
       "      <th>95_104</th>\n",
       "      <th>2013</th>\n",
       "      <th>2014</th>\n",
       "      <th>2015</th>\n",
       "      <th>2016</th>\n",
       "      <th>2017</th>\n",
       "      <th>2018</th>\n",
       "    </tr>\n",
       "  </thead>\n",
       "  <tbody>\n",
       "    <tr>\n",
       "      <th>0</th>\n",
       "      <td>1</td>\n",
       "      <td>4</td>\n",
       "      <td>0</td>\n",
       "      <td>1</td>\n",
       "      <td>37.67</td>\n",
       "      <td>5</td>\n",
       "      <td>7</td>\n",
       "      <td>5</td>\n",
       "      <td>1</td>\n",
       "      <td>0</td>\n",
       "      <td>0</td>\n",
       "      <td>1</td>\n",
       "      <td>1</td>\n",
       "      <td>0</td>\n",
       "      <td>1</td>\n",
       "      <td>1</td>\n",
       "      <td>0</td>\n",
       "      <td>0</td>\n",
       "      <td>1510</td>\n",
       "      <td>112000</td>\n",
       "      <td>0</td>\n",
       "      <td>0</td>\n",
       "      <td>0</td>\n",
       "      <td>0</td>\n",
       "      <td>1</td>\n",
       "      <td>0</td>\n",
       "      <td>0</td>\n",
       "      <td>0</td>\n",
       "      <td>0</td>\n",
       "      <td>1</td>\n",
       "      <td>0</td>\n",
       "      <td>0</td>\n",
       "      <td>0</td>\n",
       "      <td>0</td>\n",
       "      <td>0</td>\n",
       "      <td>0</td>\n",
       "      <td>0</td>\n",
       "      <td>0</td>\n",
       "      <td>1</td>\n",
       "      <td>0</td>\n",
       "    </tr>\n",
       "    <tr>\n",
       "      <th>1</th>\n",
       "      <td>8041</td>\n",
       "      <td>8</td>\n",
       "      <td>0</td>\n",
       "      <td>0</td>\n",
       "      <td>0.00</td>\n",
       "      <td>0</td>\n",
       "      <td>3</td>\n",
       "      <td>0</td>\n",
       "      <td>0</td>\n",
       "      <td>0</td>\n",
       "      <td>1</td>\n",
       "      <td>1</td>\n",
       "      <td>1</td>\n",
       "      <td>1</td>\n",
       "      <td>0</td>\n",
       "      <td>1</td>\n",
       "      <td>0</td>\n",
       "      <td>0</td>\n",
       "      <td>2724</td>\n",
       "      <td>62000</td>\n",
       "      <td>0</td>\n",
       "      <td>0</td>\n",
       "      <td>1</td>\n",
       "      <td>0</td>\n",
       "      <td>0</td>\n",
       "      <td>0</td>\n",
       "      <td>0</td>\n",
       "      <td>0</td>\n",
       "      <td>1</td>\n",
       "      <td>0</td>\n",
       "      <td>0</td>\n",
       "      <td>0</td>\n",
       "      <td>0</td>\n",
       "      <td>0</td>\n",
       "      <td>0</td>\n",
       "      <td>1</td>\n",
       "      <td>0</td>\n",
       "      <td>0</td>\n",
       "      <td>0</td>\n",
       "      <td>0</td>\n",
       "    </tr>\n",
       "    <tr>\n",
       "      <th>2</th>\n",
       "      <td>8040</td>\n",
       "      <td>8</td>\n",
       "      <td>0</td>\n",
       "      <td>0</td>\n",
       "      <td>32.90</td>\n",
       "      <td>0</td>\n",
       "      <td>3</td>\n",
       "      <td>0</td>\n",
       "      <td>0</td>\n",
       "      <td>0</td>\n",
       "      <td>1</td>\n",
       "      <td>1</td>\n",
       "      <td>1</td>\n",
       "      <td>1</td>\n",
       "      <td>0</td>\n",
       "      <td>0</td>\n",
       "      <td>1</td>\n",
       "      <td>0</td>\n",
       "      <td>1169</td>\n",
       "      <td>66000</td>\n",
       "      <td>0</td>\n",
       "      <td>0</td>\n",
       "      <td>1</td>\n",
       "      <td>0</td>\n",
       "      <td>0</td>\n",
       "      <td>0</td>\n",
       "      <td>0</td>\n",
       "      <td>0</td>\n",
       "      <td>1</td>\n",
       "      <td>0</td>\n",
       "      <td>0</td>\n",
       "      <td>0</td>\n",
       "      <td>0</td>\n",
       "      <td>0</td>\n",
       "      <td>0</td>\n",
       "      <td>0</td>\n",
       "      <td>0</td>\n",
       "      <td>0</td>\n",
       "      <td>0</td>\n",
       "      <td>1</td>\n",
       "    </tr>\n",
       "    <tr>\n",
       "      <th>3</th>\n",
       "      <td>2593</td>\n",
       "      <td>5</td>\n",
       "      <td>0</td>\n",
       "      <td>0</td>\n",
       "      <td>0.00</td>\n",
       "      <td>20</td>\n",
       "      <td>10</td>\n",
       "      <td>5</td>\n",
       "      <td>0</td>\n",
       "      <td>1</td>\n",
       "      <td>0</td>\n",
       "      <td>1</td>\n",
       "      <td>0</td>\n",
       "      <td>0</td>\n",
       "      <td>1</td>\n",
       "      <td>1</td>\n",
       "      <td>0</td>\n",
       "      <td>0</td>\n",
       "      <td>1192</td>\n",
       "      <td>50000</td>\n",
       "      <td>0</td>\n",
       "      <td>1</td>\n",
       "      <td>0</td>\n",
       "      <td>0</td>\n",
       "      <td>0</td>\n",
       "      <td>0</td>\n",
       "      <td>0</td>\n",
       "      <td>0</td>\n",
       "      <td>0</td>\n",
       "      <td>1</td>\n",
       "      <td>0</td>\n",
       "      <td>0</td>\n",
       "      <td>0</td>\n",
       "      <td>0</td>\n",
       "      <td>0</td>\n",
       "      <td>0</td>\n",
       "      <td>0</td>\n",
       "      <td>0</td>\n",
       "      <td>0</td>\n",
       "      <td>1</td>\n",
       "    </tr>\n",
       "    <tr>\n",
       "      <th>4</th>\n",
       "      <td>8039</td>\n",
       "      <td>8</td>\n",
       "      <td>0</td>\n",
       "      <td>0</td>\n",
       "      <td>0.00</td>\n",
       "      <td>0</td>\n",
       "      <td>3</td>\n",
       "      <td>0</td>\n",
       "      <td>0</td>\n",
       "      <td>0</td>\n",
       "      <td>1</td>\n",
       "      <td>1</td>\n",
       "      <td>1</td>\n",
       "      <td>1</td>\n",
       "      <td>0</td>\n",
       "      <td>0</td>\n",
       "      <td>1</td>\n",
       "      <td>0</td>\n",
       "      <td>1310</td>\n",
       "      <td>94000</td>\n",
       "      <td>0</td>\n",
       "      <td>0</td>\n",
       "      <td>0</td>\n",
       "      <td>0</td>\n",
       "      <td>1</td>\n",
       "      <td>0</td>\n",
       "      <td>0</td>\n",
       "      <td>0</td>\n",
       "      <td>1</td>\n",
       "      <td>0</td>\n",
       "      <td>0</td>\n",
       "      <td>0</td>\n",
       "      <td>0</td>\n",
       "      <td>0</td>\n",
       "      <td>0</td>\n",
       "      <td>0</td>\n",
       "      <td>0</td>\n",
       "      <td>0</td>\n",
       "      <td>0</td>\n",
       "      <td>1</td>\n",
       "    </tr>\n",
       "  </tbody>\n",
       "</table>\n",
       "</div>"
      ],
      "text/plain": [
       "   user_id  offer_id  time  offer_successful  total_amount  difficulty  \\\n",
       "0        1         4     0                 1         37.67           5   \n",
       "1     8041         8     0                 0          0.00           0   \n",
       "2     8040         8     0                 0         32.90           0   \n",
       "3     2593         5     0                 0          0.00          20   \n",
       "4     8039         8     0                 0          0.00           0   \n",
       "\n",
       "   duration  reward  bogo  discount  informational  email  mobile  social  \\\n",
       "0         7       5     1         0              0      1       1       0   \n",
       "1         3       0     0         0              1      1       1       1   \n",
       "2         3       0     0         0              1      1       1       1   \n",
       "3        10       5     0         1              0      1       0       0   \n",
       "4         3       0     0         0              1      1       1       1   \n",
       "\n",
       "   web  female  male  other  member_days  income  income_1  income_2  \\\n",
       "0    1       1     0      0         1510  112000         0         0   \n",
       "1    0       1     0      0         2724   62000         0         0   \n",
       "2    0       0     1      0         1169   66000         0         0   \n",
       "3    1       1     0      0         1192   50000         0         1   \n",
       "4    0       0     1      0         1310   94000         0         0   \n",
       "\n",
       "   income_3  income_4  income_5  18_24  25_34  35_44  45_54  55_64  65_74  \\\n",
       "0         0         0         1      0      0      0      0      1      0   \n",
       "1         1         0         0      0      0      0      1      0      0   \n",
       "2         1         0         0      0      0      0      1      0      0   \n",
       "3         0         0         0      0      0      0      0      1      0   \n",
       "4         0         0         1      0      0      0      1      0      0   \n",
       "\n",
       "   75_84  85_94  95_104  2013  2014  2015  2016  2017  2018  \n",
       "0      0      0       0     0     0     0     0     1     0  \n",
       "1      0      0       0     0     1     0     0     0     0  \n",
       "2      0      0       0     0     0     0     0     0     1  \n",
       "3      0      0       0     0     0     0     0     0     1  \n",
       "4      0      0       0     0     0     0     0     0     1  "
      ]
     },
     "execution_count": 228,
     "metadata": {},
     "output_type": "execute_result"
    }
   ],
   "source": [
    "# Create merged df\n",
    "clean_data_csvfile = \"clean_data.csv\"\n",
    "\n",
    "# Check if csv file already exists. If not, create csv from function.\n",
    "if os.path.exists(clean_data_csvfile):\n",
    "    clean_data = pd.read_csv(clean_data_csvfile)\n",
    "else:\n",
    "    clean_data = create_offer_df(portfolio_new, profile_new, transaction, offer_data)\n",
    "\n",
    "    clean_data.to_csv(clean_data_csvfile, index=False)\n",
    "    \n",
    "clean_data.head()"
   ]
  },
  {
   "cell_type": "code",
   "execution_count": 229,
   "metadata": {},
   "outputs": [],
   "source": [
    " clean_data.to_csv(\"clean_data.csv\", index=False)"
   ]
  },
  {
   "cell_type": "code",
   "execution_count": 230,
   "metadata": {},
   "outputs": [
    {
     "data": {
      "text/html": [
       "<div>\n",
       "<style scoped>\n",
       "    .dataframe tbody tr th:only-of-type {\n",
       "        vertical-align: middle;\n",
       "    }\n",
       "\n",
       "    .dataframe tbody tr th {\n",
       "        vertical-align: top;\n",
       "    }\n",
       "\n",
       "    .dataframe thead th {\n",
       "        text-align: right;\n",
       "    }\n",
       "</style>\n",
       "<table border=\"1\" class=\"dataframe\">\n",
       "  <thead>\n",
       "    <tr style=\"text-align: right;\">\n",
       "      <th></th>\n",
       "      <th>user_id</th>\n",
       "      <th>offer_id</th>\n",
       "      <th>time</th>\n",
       "      <th>offer_successful</th>\n",
       "      <th>total_amount</th>\n",
       "      <th>difficulty</th>\n",
       "      <th>duration</th>\n",
       "      <th>reward</th>\n",
       "      <th>bogo</th>\n",
       "      <th>discount</th>\n",
       "      <th>informational</th>\n",
       "      <th>email</th>\n",
       "      <th>mobile</th>\n",
       "      <th>social</th>\n",
       "      <th>web</th>\n",
       "      <th>female</th>\n",
       "      <th>male</th>\n",
       "      <th>other</th>\n",
       "      <th>member_days</th>\n",
       "      <th>income</th>\n",
       "      <th>income_1</th>\n",
       "      <th>income_2</th>\n",
       "      <th>income_3</th>\n",
       "      <th>income_4</th>\n",
       "      <th>income_5</th>\n",
       "      <th>18_24</th>\n",
       "      <th>25_34</th>\n",
       "      <th>35_44</th>\n",
       "      <th>45_54</th>\n",
       "      <th>55_64</th>\n",
       "      <th>65_74</th>\n",
       "      <th>75_84</th>\n",
       "      <th>85_94</th>\n",
       "      <th>95_104</th>\n",
       "      <th>2013</th>\n",
       "      <th>2014</th>\n",
       "      <th>2015</th>\n",
       "      <th>2016</th>\n",
       "      <th>2017</th>\n",
       "      <th>2018</th>\n",
       "    </tr>\n",
       "  </thead>\n",
       "  <tbody>\n",
       "    <tr>\n",
       "      <th>0</th>\n",
       "      <td>1</td>\n",
       "      <td>4</td>\n",
       "      <td>0</td>\n",
       "      <td>1</td>\n",
       "      <td>37.67</td>\n",
       "      <td>5</td>\n",
       "      <td>7</td>\n",
       "      <td>5</td>\n",
       "      <td>1</td>\n",
       "      <td>0</td>\n",
       "      <td>0</td>\n",
       "      <td>1</td>\n",
       "      <td>1</td>\n",
       "      <td>0</td>\n",
       "      <td>1</td>\n",
       "      <td>1</td>\n",
       "      <td>0</td>\n",
       "      <td>0</td>\n",
       "      <td>1510</td>\n",
       "      <td>112000</td>\n",
       "      <td>0</td>\n",
       "      <td>0</td>\n",
       "      <td>0</td>\n",
       "      <td>0</td>\n",
       "      <td>1</td>\n",
       "      <td>0</td>\n",
       "      <td>0</td>\n",
       "      <td>0</td>\n",
       "      <td>0</td>\n",
       "      <td>1</td>\n",
       "      <td>0</td>\n",
       "      <td>0</td>\n",
       "      <td>0</td>\n",
       "      <td>0</td>\n",
       "      <td>0</td>\n",
       "      <td>0</td>\n",
       "      <td>0</td>\n",
       "      <td>0</td>\n",
       "      <td>1</td>\n",
       "      <td>0</td>\n",
       "    </tr>\n",
       "    <tr>\n",
       "      <th>1</th>\n",
       "      <td>8041</td>\n",
       "      <td>8</td>\n",
       "      <td>0</td>\n",
       "      <td>0</td>\n",
       "      <td>0.00</td>\n",
       "      <td>0</td>\n",
       "      <td>3</td>\n",
       "      <td>0</td>\n",
       "      <td>0</td>\n",
       "      <td>0</td>\n",
       "      <td>1</td>\n",
       "      <td>1</td>\n",
       "      <td>1</td>\n",
       "      <td>1</td>\n",
       "      <td>0</td>\n",
       "      <td>1</td>\n",
       "      <td>0</td>\n",
       "      <td>0</td>\n",
       "      <td>2724</td>\n",
       "      <td>62000</td>\n",
       "      <td>0</td>\n",
       "      <td>0</td>\n",
       "      <td>1</td>\n",
       "      <td>0</td>\n",
       "      <td>0</td>\n",
       "      <td>0</td>\n",
       "      <td>0</td>\n",
       "      <td>0</td>\n",
       "      <td>1</td>\n",
       "      <td>0</td>\n",
       "      <td>0</td>\n",
       "      <td>0</td>\n",
       "      <td>0</td>\n",
       "      <td>0</td>\n",
       "      <td>0</td>\n",
       "      <td>1</td>\n",
       "      <td>0</td>\n",
       "      <td>0</td>\n",
       "      <td>0</td>\n",
       "      <td>0</td>\n",
       "    </tr>\n",
       "    <tr>\n",
       "      <th>2</th>\n",
       "      <td>8040</td>\n",
       "      <td>8</td>\n",
       "      <td>0</td>\n",
       "      <td>0</td>\n",
       "      <td>32.90</td>\n",
       "      <td>0</td>\n",
       "      <td>3</td>\n",
       "      <td>0</td>\n",
       "      <td>0</td>\n",
       "      <td>0</td>\n",
       "      <td>1</td>\n",
       "      <td>1</td>\n",
       "      <td>1</td>\n",
       "      <td>1</td>\n",
       "      <td>0</td>\n",
       "      <td>0</td>\n",
       "      <td>1</td>\n",
       "      <td>0</td>\n",
       "      <td>1169</td>\n",
       "      <td>66000</td>\n",
       "      <td>0</td>\n",
       "      <td>0</td>\n",
       "      <td>1</td>\n",
       "      <td>0</td>\n",
       "      <td>0</td>\n",
       "      <td>0</td>\n",
       "      <td>0</td>\n",
       "      <td>0</td>\n",
       "      <td>1</td>\n",
       "      <td>0</td>\n",
       "      <td>0</td>\n",
       "      <td>0</td>\n",
       "      <td>0</td>\n",
       "      <td>0</td>\n",
       "      <td>0</td>\n",
       "      <td>0</td>\n",
       "      <td>0</td>\n",
       "      <td>0</td>\n",
       "      <td>0</td>\n",
       "      <td>1</td>\n",
       "    </tr>\n",
       "    <tr>\n",
       "      <th>3</th>\n",
       "      <td>2593</td>\n",
       "      <td>5</td>\n",
       "      <td>0</td>\n",
       "      <td>0</td>\n",
       "      <td>0.00</td>\n",
       "      <td>20</td>\n",
       "      <td>10</td>\n",
       "      <td>5</td>\n",
       "      <td>0</td>\n",
       "      <td>1</td>\n",
       "      <td>0</td>\n",
       "      <td>1</td>\n",
       "      <td>0</td>\n",
       "      <td>0</td>\n",
       "      <td>1</td>\n",
       "      <td>1</td>\n",
       "      <td>0</td>\n",
       "      <td>0</td>\n",
       "      <td>1192</td>\n",
       "      <td>50000</td>\n",
       "      <td>0</td>\n",
       "      <td>1</td>\n",
       "      <td>0</td>\n",
       "      <td>0</td>\n",
       "      <td>0</td>\n",
       "      <td>0</td>\n",
       "      <td>0</td>\n",
       "      <td>0</td>\n",
       "      <td>0</td>\n",
       "      <td>1</td>\n",
       "      <td>0</td>\n",
       "      <td>0</td>\n",
       "      <td>0</td>\n",
       "      <td>0</td>\n",
       "      <td>0</td>\n",
       "      <td>0</td>\n",
       "      <td>0</td>\n",
       "      <td>0</td>\n",
       "      <td>0</td>\n",
       "      <td>1</td>\n",
       "    </tr>\n",
       "    <tr>\n",
       "      <th>4</th>\n",
       "      <td>8039</td>\n",
       "      <td>8</td>\n",
       "      <td>0</td>\n",
       "      <td>0</td>\n",
       "      <td>0.00</td>\n",
       "      <td>0</td>\n",
       "      <td>3</td>\n",
       "      <td>0</td>\n",
       "      <td>0</td>\n",
       "      <td>0</td>\n",
       "      <td>1</td>\n",
       "      <td>1</td>\n",
       "      <td>1</td>\n",
       "      <td>1</td>\n",
       "      <td>0</td>\n",
       "      <td>0</td>\n",
       "      <td>1</td>\n",
       "      <td>0</td>\n",
       "      <td>1310</td>\n",
       "      <td>94000</td>\n",
       "      <td>0</td>\n",
       "      <td>0</td>\n",
       "      <td>0</td>\n",
       "      <td>0</td>\n",
       "      <td>1</td>\n",
       "      <td>0</td>\n",
       "      <td>0</td>\n",
       "      <td>0</td>\n",
       "      <td>1</td>\n",
       "      <td>0</td>\n",
       "      <td>0</td>\n",
       "      <td>0</td>\n",
       "      <td>0</td>\n",
       "      <td>0</td>\n",
       "      <td>0</td>\n",
       "      <td>0</td>\n",
       "      <td>0</td>\n",
       "      <td>0</td>\n",
       "      <td>0</td>\n",
       "      <td>1</td>\n",
       "    </tr>\n",
       "  </tbody>\n",
       "</table>\n",
       "</div>"
      ],
      "text/plain": [
       "   user_id  offer_id  time  offer_successful  total_amount  difficulty  \\\n",
       "0        1         4     0                 1         37.67           5   \n",
       "1     8041         8     0                 0          0.00           0   \n",
       "2     8040         8     0                 0         32.90           0   \n",
       "3     2593         5     0                 0          0.00          20   \n",
       "4     8039         8     0                 0          0.00           0   \n",
       "\n",
       "   duration  reward  bogo  discount  informational  email  mobile  social  \\\n",
       "0         7       5     1         0              0      1       1       0   \n",
       "1         3       0     0         0              1      1       1       1   \n",
       "2         3       0     0         0              1      1       1       1   \n",
       "3        10       5     0         1              0      1       0       0   \n",
       "4         3       0     0         0              1      1       1       1   \n",
       "\n",
       "   web  female  male  other  member_days  income  income_1  income_2  \\\n",
       "0    1       1     0      0         1510  112000         0         0   \n",
       "1    0       1     0      0         2724   62000         0         0   \n",
       "2    0       0     1      0         1169   66000         0         0   \n",
       "3    1       1     0      0         1192   50000         0         1   \n",
       "4    0       0     1      0         1310   94000         0         0   \n",
       "\n",
       "   income_3  income_4  income_5  18_24  25_34  35_44  45_54  55_64  65_74  \\\n",
       "0         0         0         1      0      0      0      0      1      0   \n",
       "1         1         0         0      0      0      0      1      0      0   \n",
       "2         1         0         0      0      0      0      1      0      0   \n",
       "3         0         0         0      0      0      0      0      1      0   \n",
       "4         0         0         1      0      0      0      1      0      0   \n",
       "\n",
       "   75_84  85_94  95_104  2013  2014  2015  2016  2017  2018  \n",
       "0      0      0       0     0     0     0     0     1     0  \n",
       "1      0      0       0     0     1     0     0     0     0  \n",
       "2      0      0       0     0     0     0     0     0     1  \n",
       "3      0      0       0     0     0     0     0     0     1  \n",
       "4      0      0       0     0     0     0     0     0     1  "
      ]
     },
     "execution_count": 230,
     "metadata": {},
     "output_type": "execute_result"
    }
   ],
   "source": [
    "clean_data.head()"
   ]
  },
  {
   "cell_type": "code",
   "execution_count": 231,
   "metadata": {
    "hideCode": false,
    "hidePrompt": false
   },
   "outputs": [],
   "source": [
    "# Create a verbose version of clean_data with age, etc\n",
    "clean_verbose = pd.merge(left=clean_data.copy(), right=profile_age, on='user_id') # Insert age\n",
    "# Drop columns\n",
    "clean_data = clean_data.drop(columns=['time',\n",
    "                                      'user_id',\n",
    "                                      'email',\n",
    "                                      'informational',\n",
    "                                      'member_days'])\n",
    "\n",
    "column_ordering = ['offer_id', 'total_amount']\n",
    "column_ordering.extend([elem for elem in clean_data.columns if elem not in column_ordering])\n",
    "clean_data = clean_data[column_ordering]"
   ]
  },
  {
   "cell_type": "code",
   "execution_count": 232,
   "metadata": {},
   "outputs": [
    {
     "data": {
      "text/html": [
       "<div>\n",
       "<style scoped>\n",
       "    .dataframe tbody tr th:only-of-type {\n",
       "        vertical-align: middle;\n",
       "    }\n",
       "\n",
       "    .dataframe tbody tr th {\n",
       "        vertical-align: top;\n",
       "    }\n",
       "\n",
       "    .dataframe thead th {\n",
       "        text-align: right;\n",
       "    }\n",
       "</style>\n",
       "<table border=\"1\" class=\"dataframe\">\n",
       "  <thead>\n",
       "    <tr style=\"text-align: right;\">\n",
       "      <th></th>\n",
       "      <th>user_id</th>\n",
       "      <th>offer_id</th>\n",
       "      <th>time</th>\n",
       "      <th>offer_successful</th>\n",
       "      <th>total_amount</th>\n",
       "      <th>difficulty</th>\n",
       "      <th>duration</th>\n",
       "      <th>reward</th>\n",
       "      <th>bogo</th>\n",
       "      <th>discount</th>\n",
       "      <th>informational</th>\n",
       "      <th>email</th>\n",
       "      <th>mobile</th>\n",
       "      <th>social</th>\n",
       "      <th>web</th>\n",
       "      <th>female</th>\n",
       "      <th>male</th>\n",
       "      <th>other</th>\n",
       "      <th>member_days</th>\n",
       "      <th>income</th>\n",
       "      <th>income_1</th>\n",
       "      <th>income_2</th>\n",
       "      <th>income_3</th>\n",
       "      <th>income_4</th>\n",
       "      <th>income_5</th>\n",
       "      <th>18_24</th>\n",
       "      <th>25_34</th>\n",
       "      <th>35_44</th>\n",
       "      <th>45_54</th>\n",
       "      <th>55_64</th>\n",
       "      <th>65_74</th>\n",
       "      <th>75_84</th>\n",
       "      <th>85_94</th>\n",
       "      <th>95_104</th>\n",
       "      <th>2013</th>\n",
       "      <th>2014</th>\n",
       "      <th>2015</th>\n",
       "      <th>2016</th>\n",
       "      <th>2017</th>\n",
       "      <th>2018</th>\n",
       "      <th>age</th>\n",
       "    </tr>\n",
       "  </thead>\n",
       "  <tbody>\n",
       "    <tr>\n",
       "      <th>0</th>\n",
       "      <td>1</td>\n",
       "      <td>4</td>\n",
       "      <td>0</td>\n",
       "      <td>1</td>\n",
       "      <td>37.67</td>\n",
       "      <td>5</td>\n",
       "      <td>7</td>\n",
       "      <td>5</td>\n",
       "      <td>1</td>\n",
       "      <td>0</td>\n",
       "      <td>0</td>\n",
       "      <td>1</td>\n",
       "      <td>1</td>\n",
       "      <td>0</td>\n",
       "      <td>1</td>\n",
       "      <td>1</td>\n",
       "      <td>0</td>\n",
       "      <td>0</td>\n",
       "      <td>1510</td>\n",
       "      <td>112000</td>\n",
       "      <td>0</td>\n",
       "      <td>0</td>\n",
       "      <td>0</td>\n",
       "      <td>0</td>\n",
       "      <td>1</td>\n",
       "      <td>0</td>\n",
       "      <td>0</td>\n",
       "      <td>0</td>\n",
       "      <td>0</td>\n",
       "      <td>1</td>\n",
       "      <td>0</td>\n",
       "      <td>0</td>\n",
       "      <td>0</td>\n",
       "      <td>0</td>\n",
       "      <td>0</td>\n",
       "      <td>0</td>\n",
       "      <td>0</td>\n",
       "      <td>0</td>\n",
       "      <td>1</td>\n",
       "      <td>0</td>\n",
       "      <td>55</td>\n",
       "    </tr>\n",
       "    <tr>\n",
       "      <th>1</th>\n",
       "      <td>1</td>\n",
       "      <td>8</td>\n",
       "      <td>7</td>\n",
       "      <td>0</td>\n",
       "      <td>49.39</td>\n",
       "      <td>0</td>\n",
       "      <td>3</td>\n",
       "      <td>0</td>\n",
       "      <td>0</td>\n",
       "      <td>0</td>\n",
       "      <td>1</td>\n",
       "      <td>1</td>\n",
       "      <td>1</td>\n",
       "      <td>1</td>\n",
       "      <td>0</td>\n",
       "      <td>1</td>\n",
       "      <td>0</td>\n",
       "      <td>0</td>\n",
       "      <td>1510</td>\n",
       "      <td>112000</td>\n",
       "      <td>0</td>\n",
       "      <td>0</td>\n",
       "      <td>0</td>\n",
       "      <td>0</td>\n",
       "      <td>1</td>\n",
       "      <td>0</td>\n",
       "      <td>0</td>\n",
       "      <td>0</td>\n",
       "      <td>0</td>\n",
       "      <td>1</td>\n",
       "      <td>0</td>\n",
       "      <td>0</td>\n",
       "      <td>0</td>\n",
       "      <td>0</td>\n",
       "      <td>0</td>\n",
       "      <td>0</td>\n",
       "      <td>0</td>\n",
       "      <td>0</td>\n",
       "      <td>1</td>\n",
       "      <td>0</td>\n",
       "      <td>55</td>\n",
       "    </tr>\n",
       "    <tr>\n",
       "      <th>2</th>\n",
       "      <td>1</td>\n",
       "      <td>1</td>\n",
       "      <td>17</td>\n",
       "      <td>1</td>\n",
       "      <td>48.28</td>\n",
       "      <td>10</td>\n",
       "      <td>7</td>\n",
       "      <td>10</td>\n",
       "      <td>1</td>\n",
       "      <td>0</td>\n",
       "      <td>0</td>\n",
       "      <td>1</td>\n",
       "      <td>1</td>\n",
       "      <td>1</td>\n",
       "      <td>0</td>\n",
       "      <td>1</td>\n",
       "      <td>0</td>\n",
       "      <td>0</td>\n",
       "      <td>1510</td>\n",
       "      <td>112000</td>\n",
       "      <td>0</td>\n",
       "      <td>0</td>\n",
       "      <td>0</td>\n",
       "      <td>0</td>\n",
       "      <td>1</td>\n",
       "      <td>0</td>\n",
       "      <td>0</td>\n",
       "      <td>0</td>\n",
       "      <td>0</td>\n",
       "      <td>1</td>\n",
       "      <td>0</td>\n",
       "      <td>0</td>\n",
       "      <td>0</td>\n",
       "      <td>0</td>\n",
       "      <td>0</td>\n",
       "      <td>0</td>\n",
       "      <td>0</td>\n",
       "      <td>0</td>\n",
       "      <td>1</td>\n",
       "      <td>0</td>\n",
       "      <td>55</td>\n",
       "    </tr>\n",
       "    <tr>\n",
       "      <th>3</th>\n",
       "      <td>1</td>\n",
       "      <td>9</td>\n",
       "      <td>21</td>\n",
       "      <td>1</td>\n",
       "      <td>48.28</td>\n",
       "      <td>5</td>\n",
       "      <td>5</td>\n",
       "      <td>5</td>\n",
       "      <td>1</td>\n",
       "      <td>0</td>\n",
       "      <td>0</td>\n",
       "      <td>1</td>\n",
       "      <td>1</td>\n",
       "      <td>1</td>\n",
       "      <td>1</td>\n",
       "      <td>1</td>\n",
       "      <td>0</td>\n",
       "      <td>0</td>\n",
       "      <td>1510</td>\n",
       "      <td>112000</td>\n",
       "      <td>0</td>\n",
       "      <td>0</td>\n",
       "      <td>0</td>\n",
       "      <td>0</td>\n",
       "      <td>1</td>\n",
       "      <td>0</td>\n",
       "      <td>0</td>\n",
       "      <td>0</td>\n",
       "      <td>0</td>\n",
       "      <td>1</td>\n",
       "      <td>0</td>\n",
       "      <td>0</td>\n",
       "      <td>0</td>\n",
       "      <td>0</td>\n",
       "      <td>0</td>\n",
       "      <td>0</td>\n",
       "      <td>0</td>\n",
       "      <td>0</td>\n",
       "      <td>1</td>\n",
       "      <td>0</td>\n",
       "      <td>55</td>\n",
       "    </tr>\n",
       "    <tr>\n",
       "      <th>4</th>\n",
       "      <td>8041</td>\n",
       "      <td>8</td>\n",
       "      <td>0</td>\n",
       "      <td>0</td>\n",
       "      <td>0.00</td>\n",
       "      <td>0</td>\n",
       "      <td>3</td>\n",
       "      <td>0</td>\n",
       "      <td>0</td>\n",
       "      <td>0</td>\n",
       "      <td>1</td>\n",
       "      <td>1</td>\n",
       "      <td>1</td>\n",
       "      <td>1</td>\n",
       "      <td>0</td>\n",
       "      <td>1</td>\n",
       "      <td>0</td>\n",
       "      <td>0</td>\n",
       "      <td>2724</td>\n",
       "      <td>62000</td>\n",
       "      <td>0</td>\n",
       "      <td>0</td>\n",
       "      <td>1</td>\n",
       "      <td>0</td>\n",
       "      <td>0</td>\n",
       "      <td>0</td>\n",
       "      <td>0</td>\n",
       "      <td>0</td>\n",
       "      <td>1</td>\n",
       "      <td>0</td>\n",
       "      <td>0</td>\n",
       "      <td>0</td>\n",
       "      <td>0</td>\n",
       "      <td>0</td>\n",
       "      <td>0</td>\n",
       "      <td>1</td>\n",
       "      <td>0</td>\n",
       "      <td>0</td>\n",
       "      <td>0</td>\n",
       "      <td>0</td>\n",
       "      <td>51</td>\n",
       "    </tr>\n",
       "  </tbody>\n",
       "</table>\n",
       "</div>"
      ],
      "text/plain": [
       "   user_id  offer_id  time  offer_successful  total_amount  difficulty  \\\n",
       "0        1         4     0                 1         37.67           5   \n",
       "1        1         8     7                 0         49.39           0   \n",
       "2        1         1    17                 1         48.28          10   \n",
       "3        1         9    21                 1         48.28           5   \n",
       "4     8041         8     0                 0          0.00           0   \n",
       "\n",
       "   duration  reward  bogo  discount  informational  email  mobile  social  \\\n",
       "0         7       5     1         0              0      1       1       0   \n",
       "1         3       0     0         0              1      1       1       1   \n",
       "2         7      10     1         0              0      1       1       1   \n",
       "3         5       5     1         0              0      1       1       1   \n",
       "4         3       0     0         0              1      1       1       1   \n",
       "\n",
       "   web  female  male  other  member_days  income  income_1  income_2  \\\n",
       "0    1       1     0      0         1510  112000         0         0   \n",
       "1    0       1     0      0         1510  112000         0         0   \n",
       "2    0       1     0      0         1510  112000         0         0   \n",
       "3    1       1     0      0         1510  112000         0         0   \n",
       "4    0       1     0      0         2724   62000         0         0   \n",
       "\n",
       "   income_3  income_4  income_5  18_24  25_34  35_44  45_54  55_64  65_74  \\\n",
       "0         0         0         1      0      0      0      0      1      0   \n",
       "1         0         0         1      0      0      0      0      1      0   \n",
       "2         0         0         1      0      0      0      0      1      0   \n",
       "3         0         0         1      0      0      0      0      1      0   \n",
       "4         1         0         0      0      0      0      1      0      0   \n",
       "\n",
       "   75_84  85_94  95_104  2013  2014  2015  2016  2017  2018  age  \n",
       "0      0      0       0     0     0     0     0     1     0   55  \n",
       "1      0      0       0     0     0     0     0     1     0   55  \n",
       "2      0      0       0     0     0     0     0     1     0   55  \n",
       "3      0      0       0     0     0     0     0     1     0   55  \n",
       "4      0      0       0     0     1     0     0     0     0   51  "
      ]
     },
     "execution_count": 232,
     "metadata": {},
     "output_type": "execute_result"
    }
   ],
   "source": [
    "clean_verbose.head()"
   ]
  },
  {
   "cell_type": "code",
   "execution_count": 233,
   "metadata": {
    "hideCode": false,
    "hidePrompt": false
   },
   "outputs": [
    {
     "data": {
      "text/html": [
       "<div>\n",
       "<style scoped>\n",
       "    .dataframe tbody tr th:only-of-type {\n",
       "        vertical-align: middle;\n",
       "    }\n",
       "\n",
       "    .dataframe tbody tr th {\n",
       "        vertical-align: top;\n",
       "    }\n",
       "\n",
       "    .dataframe thead th {\n",
       "        text-align: right;\n",
       "    }\n",
       "</style>\n",
       "<table border=\"1\" class=\"dataframe\">\n",
       "  <thead>\n",
       "    <tr style=\"text-align: right;\">\n",
       "      <th></th>\n",
       "      <th>offer_id</th>\n",
       "      <th>total_amount</th>\n",
       "      <th>offer_successful</th>\n",
       "      <th>difficulty</th>\n",
       "      <th>duration</th>\n",
       "      <th>reward</th>\n",
       "      <th>bogo</th>\n",
       "      <th>discount</th>\n",
       "      <th>mobile</th>\n",
       "      <th>social</th>\n",
       "      <th>web</th>\n",
       "      <th>female</th>\n",
       "      <th>male</th>\n",
       "      <th>other</th>\n",
       "      <th>income</th>\n",
       "      <th>income_1</th>\n",
       "      <th>income_2</th>\n",
       "      <th>income_3</th>\n",
       "      <th>income_4</th>\n",
       "      <th>income_5</th>\n",
       "      <th>18_24</th>\n",
       "      <th>25_34</th>\n",
       "      <th>35_44</th>\n",
       "      <th>45_54</th>\n",
       "      <th>55_64</th>\n",
       "      <th>65_74</th>\n",
       "      <th>75_84</th>\n",
       "      <th>85_94</th>\n",
       "      <th>95_104</th>\n",
       "      <th>2013</th>\n",
       "      <th>2014</th>\n",
       "      <th>2015</th>\n",
       "      <th>2016</th>\n",
       "      <th>2017</th>\n",
       "      <th>2018</th>\n",
       "    </tr>\n",
       "  </thead>\n",
       "  <tbody>\n",
       "    <tr>\n",
       "      <th>0</th>\n",
       "      <td>4</td>\n",
       "      <td>37.67</td>\n",
       "      <td>1</td>\n",
       "      <td>5</td>\n",
       "      <td>7</td>\n",
       "      <td>5</td>\n",
       "      <td>1</td>\n",
       "      <td>0</td>\n",
       "      <td>1</td>\n",
       "      <td>0</td>\n",
       "      <td>1</td>\n",
       "      <td>1</td>\n",
       "      <td>0</td>\n",
       "      <td>0</td>\n",
       "      <td>112000</td>\n",
       "      <td>0</td>\n",
       "      <td>0</td>\n",
       "      <td>0</td>\n",
       "      <td>0</td>\n",
       "      <td>1</td>\n",
       "      <td>0</td>\n",
       "      <td>0</td>\n",
       "      <td>0</td>\n",
       "      <td>0</td>\n",
       "      <td>1</td>\n",
       "      <td>0</td>\n",
       "      <td>0</td>\n",
       "      <td>0</td>\n",
       "      <td>0</td>\n",
       "      <td>0</td>\n",
       "      <td>0</td>\n",
       "      <td>0</td>\n",
       "      <td>0</td>\n",
       "      <td>1</td>\n",
       "      <td>0</td>\n",
       "    </tr>\n",
       "    <tr>\n",
       "      <th>1</th>\n",
       "      <td>8</td>\n",
       "      <td>0.00</td>\n",
       "      <td>0</td>\n",
       "      <td>0</td>\n",
       "      <td>3</td>\n",
       "      <td>0</td>\n",
       "      <td>0</td>\n",
       "      <td>0</td>\n",
       "      <td>1</td>\n",
       "      <td>1</td>\n",
       "      <td>0</td>\n",
       "      <td>1</td>\n",
       "      <td>0</td>\n",
       "      <td>0</td>\n",
       "      <td>62000</td>\n",
       "      <td>0</td>\n",
       "      <td>0</td>\n",
       "      <td>1</td>\n",
       "      <td>0</td>\n",
       "      <td>0</td>\n",
       "      <td>0</td>\n",
       "      <td>0</td>\n",
       "      <td>0</td>\n",
       "      <td>1</td>\n",
       "      <td>0</td>\n",
       "      <td>0</td>\n",
       "      <td>0</td>\n",
       "      <td>0</td>\n",
       "      <td>0</td>\n",
       "      <td>0</td>\n",
       "      <td>1</td>\n",
       "      <td>0</td>\n",
       "      <td>0</td>\n",
       "      <td>0</td>\n",
       "      <td>0</td>\n",
       "    </tr>\n",
       "    <tr>\n",
       "      <th>2</th>\n",
       "      <td>8</td>\n",
       "      <td>32.90</td>\n",
       "      <td>0</td>\n",
       "      <td>0</td>\n",
       "      <td>3</td>\n",
       "      <td>0</td>\n",
       "      <td>0</td>\n",
       "      <td>0</td>\n",
       "      <td>1</td>\n",
       "      <td>1</td>\n",
       "      <td>0</td>\n",
       "      <td>0</td>\n",
       "      <td>1</td>\n",
       "      <td>0</td>\n",
       "      <td>66000</td>\n",
       "      <td>0</td>\n",
       "      <td>0</td>\n",
       "      <td>1</td>\n",
       "      <td>0</td>\n",
       "      <td>0</td>\n",
       "      <td>0</td>\n",
       "      <td>0</td>\n",
       "      <td>0</td>\n",
       "      <td>1</td>\n",
       "      <td>0</td>\n",
       "      <td>0</td>\n",
       "      <td>0</td>\n",
       "      <td>0</td>\n",
       "      <td>0</td>\n",
       "      <td>0</td>\n",
       "      <td>0</td>\n",
       "      <td>0</td>\n",
       "      <td>0</td>\n",
       "      <td>0</td>\n",
       "      <td>1</td>\n",
       "    </tr>\n",
       "    <tr>\n",
       "      <th>3</th>\n",
       "      <td>5</td>\n",
       "      <td>0.00</td>\n",
       "      <td>0</td>\n",
       "      <td>20</td>\n",
       "      <td>10</td>\n",
       "      <td>5</td>\n",
       "      <td>0</td>\n",
       "      <td>1</td>\n",
       "      <td>0</td>\n",
       "      <td>0</td>\n",
       "      <td>1</td>\n",
       "      <td>1</td>\n",
       "      <td>0</td>\n",
       "      <td>0</td>\n",
       "      <td>50000</td>\n",
       "      <td>0</td>\n",
       "      <td>1</td>\n",
       "      <td>0</td>\n",
       "      <td>0</td>\n",
       "      <td>0</td>\n",
       "      <td>0</td>\n",
       "      <td>0</td>\n",
       "      <td>0</td>\n",
       "      <td>0</td>\n",
       "      <td>1</td>\n",
       "      <td>0</td>\n",
       "      <td>0</td>\n",
       "      <td>0</td>\n",
       "      <td>0</td>\n",
       "      <td>0</td>\n",
       "      <td>0</td>\n",
       "      <td>0</td>\n",
       "      <td>0</td>\n",
       "      <td>0</td>\n",
       "      <td>1</td>\n",
       "    </tr>\n",
       "    <tr>\n",
       "      <th>4</th>\n",
       "      <td>8</td>\n",
       "      <td>0.00</td>\n",
       "      <td>0</td>\n",
       "      <td>0</td>\n",
       "      <td>3</td>\n",
       "      <td>0</td>\n",
       "      <td>0</td>\n",
       "      <td>0</td>\n",
       "      <td>1</td>\n",
       "      <td>1</td>\n",
       "      <td>0</td>\n",
       "      <td>0</td>\n",
       "      <td>1</td>\n",
       "      <td>0</td>\n",
       "      <td>94000</td>\n",
       "      <td>0</td>\n",
       "      <td>0</td>\n",
       "      <td>0</td>\n",
       "      <td>0</td>\n",
       "      <td>1</td>\n",
       "      <td>0</td>\n",
       "      <td>0</td>\n",
       "      <td>0</td>\n",
       "      <td>1</td>\n",
       "      <td>0</td>\n",
       "      <td>0</td>\n",
       "      <td>0</td>\n",
       "      <td>0</td>\n",
       "      <td>0</td>\n",
       "      <td>0</td>\n",
       "      <td>0</td>\n",
       "      <td>0</td>\n",
       "      <td>0</td>\n",
       "      <td>0</td>\n",
       "      <td>1</td>\n",
       "    </tr>\n",
       "  </tbody>\n",
       "</table>\n",
       "</div>"
      ],
      "text/plain": [
       "   offer_id  total_amount  offer_successful  difficulty  duration  reward  \\\n",
       "0         4         37.67                 1           5         7       5   \n",
       "1         8          0.00                 0           0         3       0   \n",
       "2         8         32.90                 0           0         3       0   \n",
       "3         5          0.00                 0          20        10       5   \n",
       "4         8          0.00                 0           0         3       0   \n",
       "\n",
       "   bogo  discount  mobile  social  web  female  male  other  income  income_1  \\\n",
       "0     1         0       1       0    1       1     0      0  112000         0   \n",
       "1     0         0       1       1    0       1     0      0   62000         0   \n",
       "2     0         0       1       1    0       0     1      0   66000         0   \n",
       "3     0         1       0       0    1       1     0      0   50000         0   \n",
       "4     0         0       1       1    0       0     1      0   94000         0   \n",
       "\n",
       "   income_2  income_3  income_4  income_5  18_24  25_34  35_44  45_54  55_64  \\\n",
       "0         0         0         0         1      0      0      0      0      1   \n",
       "1         0         1         0         0      0      0      0      1      0   \n",
       "2         0         1         0         0      0      0      0      1      0   \n",
       "3         1         0         0         0      0      0      0      0      1   \n",
       "4         0         0         0         1      0      0      0      1      0   \n",
       "\n",
       "   65_74  75_84  85_94  95_104  2013  2014  2015  2016  2017  2018  \n",
       "0      0      0      0       0     0     0     0     0     1     0  \n",
       "1      0      0      0       0     0     1     0     0     0     0  \n",
       "2      0      0      0       0     0     0     0     0     0     1  \n",
       "3      0      0      0       0     0     0     0     0     0     1  \n",
       "4      0      0      0       0     0     0     0     0     0     1  "
      ]
     },
     "execution_count": 233,
     "metadata": {},
     "output_type": "execute_result"
    }
   ],
   "source": [
    "clean_data.head()"
   ]
  },
  {
   "cell_type": "markdown",
   "metadata": {
    "hideCode": false,
    "hidePrompt": false
   },
   "source": [
    "This dataframe has users that did not view the offer but still completed the offer unintentionally. This information will cause our results to be skewed as they were not influenced by the offer so we will remove them from our dataset. We only want users that viewed the offer."
   ]
  },
  {
   "cell_type": "markdown",
   "metadata": {
    "hideCode": false,
    "hidePrompt": false
   },
   "source": [
    "<a id='3.3'></a>\n",
    "### 3.3. Numerical variable analysis"
   ]
  },
  {
   "cell_type": "markdown",
   "metadata": {
    "hideCode": false,
    "hidePrompt": false
   },
   "source": [
    "A numerical variable is a data variable that takes on any value within a finite or infinite interval (e.g. length, test scores, etc.). A numerical variable can also be called a continuous variable because it exhibits the features of continuous data. Unlike discrete data, continuous data takes on both finite and infinite values."
   ]
  },
  {
   "cell_type": "code",
   "execution_count": 234,
   "metadata": {
    "hideCode": false,
    "hidePrompt": false
   },
   "outputs": [],
   "source": [
    "# Filter columns to take numerical variable col names\n",
    "num = clean_data.copy()\n",
    "num_cols = num.select_dtypes(include='number').mean() >= 0\n",
    "num_cols = num_cols[num_cols == True].dropna()\n",
    "num_cols = num_cols.index.tolist()"
   ]
  },
  {
   "cell_type": "code",
   "execution_count": 235,
   "metadata": {
    "hideCode": false,
    "hidePrompt": false
   },
   "outputs": [],
   "source": [
    "# Select numerical variables to use for our model\n",
    "drop_cols = ['offer_id']\n",
    "num = num[num_cols].drop(columns=drop_cols)\n",
    "\n",
    "# Move offer_successful to start of df\n",
    "num = num[['offer_successful'] + [col for col in num.columns if col != 'offer_successful']]"
   ]
  },
  {
   "cell_type": "markdown",
   "metadata": {},
   "source": [
    "**Reference:** https://stackoverflow.com/questions/35321812/move-column-in-pandas-dataframe"
   ]
  },
  {
   "cell_type": "markdown",
   "metadata": {
    "hideCode": false,
    "hidePrompt": false
   },
   "source": [
    "#### Heatmap"
   ]
  },
  {
   "cell_type": "markdown",
   "metadata": {
    "hideCode": false,
    "hidePrompt": false
   },
   "source": [
    "In this step, we need to visualise correlations between the numerical variables. The correlation between the variables should be ordered in descending order and the darkness of the colour indicates whether the effect of price is positive or negative."
   ]
  },
  {
   "cell_type": "code",
   "execution_count": 236,
   "metadata": {
    "hideCode": false,
    "hidePrompt": false
   },
   "outputs": [
    {
     "data": {
      "image/png": "[encoded data removed]",
      "text/plain": [
       "<Figure size 864x864 with 2 Axes>"
      ]
     },
     "metadata": {},
     "output_type": "display_data"
    }
   ],
   "source": [
    "# Heatmap\n",
    "corr = num.corr().sort_values('offer_successful', axis=1, ascending=False). \\\n",
    "       sort_values('offer_successful', axis=0, ascending=False).iloc[:10,:10]\n",
    "corr = corr.sort_values('offer_successful', axis=0, ascending=True)\n",
    "mask = np.zeros_like(corr)\n",
    "mask[np.triu_indices_from(mask, k=1)] = True\n",
    "\n",
    "with sns.axes_style(\"white\"):\n",
    "    f, ax = plt.subplots(figsize=(12, 12))\n",
    "    ax = sns.heatmap(corr, mask=mask, vmin=corr.total_amount.min(), \n",
    "                     vmax=corr.drop(['offer_successful'], axis=0).total_amount.max(), center=0, \n",
    "                     square=True, annot=True, fmt='.2f',cmap='YlGnBu',annot_kws={\"size\": 12})\n",
    "\n",
    "# Increase tick label size\n",
    "ax.tick_params(labelsize=13)"
   ]
  },
  {
   "cell_type": "markdown",
   "metadata": {
    "hideCode": false,
    "hidePrompt": false
   },
   "source": [
    "**Observations:** Numerical variables show similarly high correlations such as:\n",
    "- `total_amount`, `duration`, `difficulty`\n",
    "\n",
    "Other numerical variables show a less positive correlation to `total_amount` spent such as:\n",
    "- `social`, `bogo`, `25_34`"
   ]
  },
  {
   "cell_type": "markdown",
   "metadata": {},
   "source": [
    "**Reference:** https://www.analyticsvidhya.com/blog/2020/10/feature-selection-techniques-in-machine-learning/"
   ]
  },
  {
   "cell_type": "markdown",
   "metadata": {
    "hideCode": false,
    "hidePrompt": false
   },
   "source": [
    "<a id='4'></a>\n",
    "## 4. Modelling"
   ]
  },
  {
   "cell_type": "markdown",
   "metadata": {
    "hideCode": false,
    "hidePrompt": false
   },
   "source": [
    "The first step in a Modelling process is to split our data into training and testing data. Generally, the rule of thumb is to divide the data in a way that variance is not too high with either training or testing data. However, 80/20 is a good starting point to start tweaking from.\n",
    "\n",
    "**Reference:** https://stackoverflow.com/questions/13610074/is-there-a-rule-of-thumb-for-how-to-divide-a-dataset-into-training-and-validatio"
   ]
  },
  {
   "cell_type": "markdown",
   "metadata": {},
   "source": [
    "<a id='4.1'></a>\n",
    "### 4.1. Pre-processing"
   ]
  },
  {
   "cell_type": "markdown",
   "metadata": {},
   "source": [
    "**We will split our data into training and testing sets by using these variables:**\n",
    "\n",
    "**`X_train`** - includes the independent variables used to train the model. Since we have also specified the test_size = 0.2, this means 80% of observations from the complete dataset will be used to train/fit the model. The remaining 20% will be used to test the model.\n",
    "\n",
    "**`X_test`** - the remaining 20% portion of the independent variables from the dataset which will not be used in the training phase and will be used to make predictions to test the accuracy of the model.\n",
    "\n",
    "**`y_train`** - includes a dependent variable which needs to be predicted by the model. This will include category labels against our independent variables, but we need to specify our dependent variable while training/fitting the model.\n",
    "\n",
    "**`y_test`** - includes category labels for our test data, these labels will be used to test the accuracy between actual and predicted categories.\n",
    "\n",
    "**References:** \n",
    "1. https://scikit-learn.org/stable/modules/preprocessing.html\n",
    "2. https://realpython.com/train-test-split-python-data/\n",
    "3. https://stackoverflow.com/questions/56212429/how-to-remerge-the-x-test-and-the-y-test-the-x-train-and-the-y-train-after-spl\n",
    "4. https://www.geeksforgeeks.org/python-pandas-series-ravel/\n",
    "5. https://www.youtube.com/watch?v=5bHpPQ6_OU4&ab_channel=Simplilearn"
   ]
  },
  {
   "cell_type": "code",
   "execution_count": 237,
   "metadata": {
    "hideCode": false,
    "hidePrompt": false
   },
   "outputs": [],
   "source": [
    "# Dependent variable name string\n",
    "class_label_name = 'offer_successful'\n",
    "\n",
    "# Dependent variable\n",
    "label = clean_data.filter([class_label_name])\n",
    "\n",
    "# Independent variables\n",
    "variables = clean_data.drop(columns=[class_label_name])\n",
    "\n",
    "# Create a random_state to produce consistent testing results\n",
    "random_state = 42\n",
    "\n",
    "# Restore features\n",
    "features = variables.iloc[:,2:] \n",
    "\n",
    "# Removes features\n",
    "drop = ['reward', 'bogo', 'discount', \n",
    "        'mobile', 'social', 'web']\n",
    "\n",
    "# Drop or retain columns using this loop to test features\n",
    "for drops in drop:\n",
    "    features = features.drop(drops, axis=1)"
   ]
  },
  {
   "cell_type": "markdown",
   "metadata": {},
   "source": [
    "#### Feature Selection"
   ]
  },
  {
   "cell_type": "code",
   "execution_count": 238,
   "metadata": {},
   "outputs": [
    {
     "data": {
      "text/plain": [
       "Index(['difficulty', 'duration', 'reward', 'bogo', 'discount', 'mobile',\n",
       "       'social', 'web', 'female', 'male', 'other', 'income', 'income_1',\n",
       "       'income_2', 'income_3', 'income_4', 'income_5', '18_24', '25_34',\n",
       "       '35_44', '45_54', '55_64', '65_74', '75_84', '85_94', '95_104', '2013',\n",
       "       '2014', '2015', '2016', '2017', '2018'],\n",
       "      dtype='object')"
      ]
     },
     "execution_count": 238,
     "metadata": {},
     "output_type": "execute_result"
    }
   ],
   "source": [
    "variables.columns[2:]"
   ]
  },
  {
   "cell_type": "code",
   "execution_count": 239,
   "metadata": {
    "hideCode": false,
    "hidePrompt": false
   },
   "outputs": [
    {
     "data": {
      "text/plain": [
       "Index(['difficulty', 'duration', 'female', 'male', 'other', 'income',\n",
       "       'income_1', 'income_2', 'income_3', 'income_4', 'income_5', '18_24',\n",
       "       '25_34', '35_44', '45_54', '55_64', '65_74', '75_84', '85_94', '95_104',\n",
       "       '2013', '2014', '2015', '2016', '2017', '2018'],\n",
       "      dtype='object')"
      ]
     },
     "execution_count": 239,
     "metadata": {},
     "output_type": "execute_result"
    }
   ],
   "source": [
    "# Independent variables\n",
    "features.columns"
   ]
  },
  {
   "cell_type": "code",
   "execution_count": 241,
   "metadata": {},
   "outputs": [
    {
     "name": "stdout",
     "output_type": "stream",
     "text": [
      "\u001b[1mOriginal feature count: 32 \u001b[0m\n",
      "Index(['difficulty', 'duration', 'reward', 'bogo', 'discount', 'mobile',\n",
      "       'social', 'web', 'female', 'male', 'other', 'income', 'income_1',\n",
      "       'income_2', 'income_3', 'income_4', 'income_5', '18_24', '25_34',\n",
      "       '35_44', '45_54', '55_64', '65_74', '75_84', '85_94', '95_104', '2013',\n",
      "       '2014', '2015', '2016', '2017', '2018'],\n",
      "      dtype='object') \n",
      "\n",
      "\u001b[1mCurrent features count: 26 \u001b[0m\n",
      "Index(['difficulty', 'duration', 'female', 'male', 'other', 'income',\n",
      "       'income_1', 'income_2', 'income_3', 'income_4', 'income_5', '18_24',\n",
      "       '25_34', '35_44', '45_54', '55_64', '65_74', '75_84', '85_94', '95_104',\n",
      "       '2013', '2014', '2015', '2016', '2017', '2018'],\n",
      "      dtype='object')\n"
     ]
    }
   ],
   "source": [
    "# Count features\n",
    "original_features = variables.columns[2:]\n",
    "current_features = features.columns\n",
    "print(style.BOLD + 'Original feature count:', len(original_features), style.END)\n",
    "print(original_features, '\\n')\n",
    "print(style.BOLD + 'Current features count:', len(current_features), style.END)\n",
    "print(current_features)"
   ]
  },
  {
   "cell_type": "raw",
   "metadata": {},
   "source": [
    "# Change input feature selection to train models with\n",
    "variables = features\n",
    "variable_names = features.columns"
   ]
  },
  {
   "cell_type": "markdown",
   "metadata": {},
   "source": [
    "#### Split data into random train and test subsets"
   ]
  },
  {
   "cell_type": "code",
   "execution_count": null,
   "metadata": {},
   "outputs": [],
   "source": [
    "# Split data into random train and test subsets\n",
    "X_train, X_test, y_train, y_test = train_test_split(variables.values,\n",
    "                                                    label.values,\n",
    "                                                    test_size=0.4,\n",
    "                                                    train_size=0.6,\n",
    "                                                    random_state=random_state)"
   ]
  },
  {
   "cell_type": "code",
   "execution_count": null,
   "metadata": {},
   "outputs": [],
   "source": [
    "# Return y_train array\n",
    "y_train"
   ]
  },
  {
   "cell_type": "code",
   "execution_count": null,
   "metadata": {},
   "outputs": [],
   "source": [
    "# Ravel y_train and y_test to one-dimentional array\n",
    "y_train = y_train.ravel()\n",
    "y_test = y_test.ravel()\n",
    "\n",
    "# Return the flattened array\n",
    "y_train"
   ]
  },
  {
   "cell_type": "code",
   "execution_count": null,
   "metadata": {},
   "outputs": [],
   "source": [
    "# Filter `offer_id` and `total_amount` from columns\n",
    "variable_names = variables.columns[2:]\n",
    "\n",
    "# Modify train variables\n",
    "offer_id_train = X_train[:, 0]\n",
    "total_amount_train = X_train[:, 1]\n",
    "X_train = X_train[:, 2:].astype('float64')\n",
    "\n",
    "# Modify test variables\n",
    "offer_id_test = X_test[:, 0]\n",
    "total_amount_test = X_test[:, 1]\n",
    "X_test = X_test[:, 2:].astype('float64')\n",
    "\n",
    "# Create X,y variables by merging train and test data\n",
    "X = np.r_[X_train, X_test]\n",
    "y = np.r_[y_train, y_test]"
   ]
  },
  {
   "cell_type": "code",
   "execution_count": null,
   "metadata": {},
   "outputs": [],
   "source": [
    "X_train.shape"
   ]
  },
  {
   "cell_type": "markdown",
   "metadata": {},
   "source": [
    "**References:** \n",
    "1. https://www.geeksforgeeks.org/python-pandas-series-ravel/\n",
    "2. https://numpy.org/doc/stable/reference/generated/numpy.r_.html"
   ]
  },
  {
   "cell_type": "code",
   "execution_count": 242,
   "metadata": {
    "hideCode": false,
    "hidePrompt": false,
    "scrolled": true
   },
   "outputs": [
    {
     "ename": "NameError",
     "evalue": "name 'offer_id_train' is not defined",
     "output_type": "error",
     "traceback": [
      "\u001b[1;31m---------------------------------------------------------------------------\u001b[0m",
      "\u001b[1;31mNameError\u001b[0m                                 Traceback (most recent call last)",
      "\u001b[1;32m<ipython-input-242-c7a4796b191a>\u001b[0m in \u001b[0;36m<module>\u001b[1;34m\u001b[0m\n\u001b[0;32m      1\u001b[0m \u001b[1;31m# Create a DataFrame for training customer data\u001b[0m\u001b[1;33m\u001b[0m\u001b[1;33m\u001b[0m\u001b[1;33m\u001b[0m\u001b[0m\n\u001b[1;32m----> 2\u001b[1;33m \u001b[0mtrain_offer\u001b[0m \u001b[1;33m=\u001b[0m \u001b[0mpd\u001b[0m\u001b[1;33m.\u001b[0m\u001b[0mDataFrame\u001b[0m\u001b[1;33m(\u001b[0m\u001b[0moffer_id_train\u001b[0m\u001b[1;33m,\u001b[0m \u001b[0mcolumns\u001b[0m\u001b[1;33m=\u001b[0m\u001b[1;33m[\u001b[0m\u001b[1;34m'offer_id'\u001b[0m\u001b[1;33m]\u001b[0m\u001b[1;33m)\u001b[0m\u001b[1;33m\u001b[0m\u001b[1;33m\u001b[0m\u001b[0m\n\u001b[0m\u001b[0;32m      3\u001b[0m \u001b[0mtrain_variables\u001b[0m \u001b[1;33m=\u001b[0m \u001b[0mpd\u001b[0m\u001b[1;33m.\u001b[0m\u001b[0mDataFrame\u001b[0m\u001b[1;33m(\u001b[0m\u001b[0mX_train\u001b[0m\u001b[1;33m,\u001b[0m \u001b[0mcolumns\u001b[0m\u001b[1;33m=\u001b[0m\u001b[0mvariable_names\u001b[0m\u001b[1;33m)\u001b[0m\u001b[1;33m\u001b[0m\u001b[1;33m\u001b[0m\u001b[0m\n\u001b[0;32m      4\u001b[0m \u001b[0mtrain_labels\u001b[0m \u001b[1;33m=\u001b[0m \u001b[0mpd\u001b[0m\u001b[1;33m.\u001b[0m\u001b[0mDataFrame\u001b[0m\u001b[1;33m(\u001b[0m\u001b[0my_train\u001b[0m\u001b[1;33m,\u001b[0m \u001b[0mcolumns\u001b[0m\u001b[1;33m=\u001b[0m\u001b[1;33m[\u001b[0m\u001b[0mclass_label_name\u001b[0m\u001b[1;33m]\u001b[0m\u001b[1;33m)\u001b[0m\u001b[1;33m\u001b[0m\u001b[1;33m\u001b[0m\u001b[0m\n\u001b[0;32m      5\u001b[0m \u001b[1;33m\u001b[0m\u001b[0m\n",
      "\u001b[1;31mNameError\u001b[0m: name 'offer_id_train' is not defined"
     ]
    }
   ],
   "source": [
    "# Create a DataFrame for training customer data\n",
    "train_offer = pd.DataFrame(offer_id_train, columns=['offer_id'])\n",
    "train_variables = pd.DataFrame(X_train, columns=variable_names)\n",
    "train_labels = pd.DataFrame(y_train, columns=[class_label_name])\n",
    "\n",
    "training_data = pd.concat([train_offer,\n",
    "                           train_variables,\n",
    "                           train_labels], axis=1)\n",
    "\n",
    "training_data = training_data.drop(columns=['difficulty',\n",
    "                                            'duration',\n",
    "                                            'reward',\n",
    "                                            'bogo',\n",
    "                                            'discount',\n",
    "                                            'mobile',\n",
    "                                            'social',\n",
    "                                            'web'])\n",
    "\n",
    "# Create a verbose version of clean_data with age, etc\n",
    "training_data_verbose = pd.merge(left=training_data.copy(), right=clean_verbose)\n",
    "\n",
    "# Print\n",
    "training_data.head()"
   ]
  },
  {
   "cell_type": "markdown",
   "metadata": {},
   "source": [
    "<a id='4.2'></a>\n",
    "### 4.2. Designing Tests"
   ]
  },
  {
   "cell_type": "markdown",
   "metadata": {},
   "source": [
    "The test in this task is the test that we will use to determine how well our model works. It may be as simple as splitting our data into a group of cases for model training and another group for model testing. Training data is used to fit mathematical forms to the data model, and test data is used during the model-training process to avoid overfitting: making a model that’s perfect for one dataset, but no other. We can also use holdout data, data that is not used during the model-training process, for an additional test. The deliverable for this task is our test design. It may not be elaborate, but\n",
    "we must make our training and test data are similar and avoid introducing any bias into the data."
   ]
  },
  {
   "cell_type": "markdown",
   "metadata": {},
   "source": [
    "<a id='4.21'></a>\n",
    "### 4.21. Feature Scaling"
   ]
  },
  {
   "cell_type": "code",
   "execution_count": 281,
   "metadata": {},
   "outputs": [],
   "source": [
    "# Split data into random train and test subsets\n",
    "X_train, X_test, y_train, y_test = train_test_split(variables.values,\n",
    "                                                    label.values,\n",
    "                                                    test_size=0.2,\n",
    "                                                    train_size=0.8,\n",
    "                                                    random_state=random_state)\n",
    "\n",
    "y_train = y_train.ravel()\n",
    "y_test = y_test.ravel()\n",
    "# Variables to scale\n",
    "scale_variables = ['difficulty', 'duration', 'reward', 'income']\n",
    "variable_names = variables.columns[2:]\n",
    "min_max_scaler = {}\n",
    "\n",
    "# for idx in range(len(scale_variables)):\n",
    "#     # Filter variables by using their names\n",
    "#     column_idx = np.argwhere(variable_names == scale_variables[idx])[0, 0]\n",
    "    \n",
    "#     # Define new variable\n",
    "#     column = scale_variables[idx]\n",
    "    \n",
    "#     # Scale selected column\n",
    "#     min_max_scaler[column] = MinMaxScaler()\n",
    "#     min_max_scaler[column].fit(X_train[:, column_idx].reshape(-1, 1))\n",
    "\n",
    "#     # Scale values for X_train\n",
    "#     transformed_values = min_max_scaler[column].transform(\n",
    "#                          X_train[:, column_idx].reshape(-1, 1))\n",
    "\n",
    "#     # Transform X_train\n",
    "#     X_train[:, column_idx] = transformed_values.reshape(1, -1)\n",
    "    \n",
    "#     # Scale values for X_test\n",
    "#     transformed_values = min_max_scaler[column].transform(\n",
    "#                          X_test[:, column_idx].reshape(-1, 1))\n",
    "    \n",
    "#     # Transform X_test\n",
    "#     X_test[:, column_idx] = transformed_values.reshape(1, -1)"
   ]
  },
  {
   "cell_type": "markdown",
   "metadata": {},
   "source": [
    "<a id='4.3'></a>\n",
    "### 4.3. Building models"
   ]
  },
  {
   "cell_type": "markdown",
   "metadata": {},
   "source": [
    "#### Finding the best model"
   ]
  },
  {
   "cell_type": "markdown",
   "metadata": {},
   "source": [
    "To find the best model I've prepared a function below which takes a selection of models that might work well with the dataset. The function will test each of the models and return the accuracy, precision, recall, f1-score and support per model. We are going to test fit 5 different models on our dataset. The models chosen are:\n",
    "\n",
    "1. Logistic Regression: basic linear classifier (a good baseline model)\n",
    "2. Random Forest: ensemble bagging classifier\n",
    "3. K-Nearest Neighbors: instance based classifier\n",
    "4. Gaussian Naive Bayes: probabilistic classifier\n",
    "5. XGBoost: ensemble (extreme!) boosting classifier\n",
    "\n",
    "I have omitted SVM because it had one of the worst performing models and was slow to train/score. For the initial experiements, I used the default parameters for each model. To get better results for the fit of each model, we'll need to fine tune the parameters later. \n",
    "\n",
    "**Choosing the Right Algorithm:** \n",
    "1. https://www.dummies.com/programming/big-data/data-science/choosing-right-algorithm-machine-learning/\n",
    "2. https://medium.com/quick-code/regression-versus-classification-machine-learning-whats-the-difference-345c56dd15f7"
   ]
  },
  {
   "cell_type": "code",
   "execution_count": 288,
   "metadata": {},
   "outputs": [],
   "source": [
    "def run_exps(X_train: pd.DataFrame , y_train: pd.DataFrame, X_test: pd.DataFrame, y_test: pd.DataFrame) -> pd.DataFrame:\n",
    "    '''\n",
    "    Lightweight script to test many models and find winners\n",
    "    :param X_train: training split\n",
    "    :param y_train: training target vector\n",
    "    :param X_test: test split\n",
    "    :param y_test: test target vector\n",
    "    :return: DataFrame of predictions\n",
    "    '''\n",
    "    \n",
    "    dfs = [] \n",
    "    \n",
    "    # Contains tuple of name and classifier or 'clf'\n",
    "    models = [\n",
    "              ('LogReg', LogisticRegression(max_iter=500)), # Stop iteration error\n",
    "               ('RF', RandomForestClassifier())#,\n",
    "#               ('KNN', KNeighborsClassifier()),\n",
    "#               # Takes time to fit with similar perf to LogReg ('SVM', SVC()), \n",
    "#               ('GNB', GaussianNB()),\n",
    "               #('XGB', XGBClassifier(use_label_encoder=False, # Fix depreciation\n",
    " #                                    eval_metric='mlogloss')) \n",
    "            ]\n",
    "    results = []\n",
    "    names = []\n",
    "    scoring = ['accuracy', 'precision_weighted', 'recall_weighted', 'f1_weighted', 'roc_auc']\n",
    "    target_names = ['not success', 'success']\n",
    "    \n",
    "    for name, model in models:\n",
    "            kfold = model_selection.KFold(n_splits=5, shuffle=True, random_state=random_state)\n",
    "            cv_results = model_selection.cross_validate(model, X_train, y_train, cv=kfold, scoring=scoring)\n",
    "            clf = model.fit(X_train, y_train)\n",
    "            y_pred = clf.predict(X_test)\n",
    "            print(name)\n",
    "            print(classification_report(y_test, y_pred,target_names=target_names))\n",
    "            print(confusion_matrix(y_test,y_pred))\n",
    "            results.append(cv_results)\n",
    "            names.append(name)\n",
    "            this_df = pd.DataFrame(cv_results)\n",
    "            this_df['model'] = name\n",
    "            dfs.append(this_df)\n",
    "    final = pd.concat(dfs, ignore_index=True)\n",
    "    return final"
   ]
  },
  {
   "cell_type": "code",
   "execution_count": 290,
   "metadata": {
    "scrolled": false
   },
   "outputs": [
    {
     "name": "stdout",
     "output_type": "stream",
     "text": [
      "LogReg\n",
      "              precision    recall  f1-score   support\n",
      "\n",
      " not success       0.79      0.88      0.83      7561\n",
      "     success       0.82      0.71      0.76      6062\n",
      "\n",
      "    accuracy                           0.80     13623\n",
      "   macro avg       0.81      0.80      0.80     13623\n",
      "weighted avg       0.81      0.80      0.80     13623\n",
      "\n",
      "[[6627  934]\n",
      " [1733 4329]]\n",
      "RF\n",
      "              precision    recall  f1-score   support\n",
      "\n",
      " not success       0.91      0.90      0.91      7561\n",
      "     success       0.88      0.89      0.88      6062\n",
      "\n",
      "    accuracy                           0.90     13623\n",
      "   macro avg       0.89      0.90      0.89     13623\n",
      "weighted avg       0.90      0.90      0.90     13623\n",
      "\n",
      "[[6839  722]\n",
      " [ 693 5369]]\n"
     ]
    },
    {
     "data": {
      "text/html": [
       "<div>\n",
       "<style scoped>\n",
       "    .dataframe tbody tr th:only-of-type {\n",
       "        vertical-align: middle;\n",
       "    }\n",
       "\n",
       "    .dataframe tbody tr th {\n",
       "        vertical-align: top;\n",
       "    }\n",
       "\n",
       "    .dataframe thead th {\n",
       "        text-align: right;\n",
       "    }\n",
       "</style>\n",
       "<table border=\"1\" class=\"dataframe\">\n",
       "  <thead>\n",
       "    <tr style=\"text-align: right;\">\n",
       "      <th></th>\n",
       "      <th>fit_time</th>\n",
       "      <th>score_time</th>\n",
       "      <th>test_accuracy</th>\n",
       "      <th>test_precision_weighted</th>\n",
       "      <th>test_recall_weighted</th>\n",
       "      <th>test_f1_weighted</th>\n",
       "      <th>test_roc_auc</th>\n",
       "      <th>model</th>\n",
       "    </tr>\n",
       "  </thead>\n",
       "  <tbody>\n",
       "    <tr>\n",
       "      <th>0</th>\n",
       "      <td>0.191492</td>\n",
       "      <td>0.022937</td>\n",
       "      <td>0.807689</td>\n",
       "      <td>0.809010</td>\n",
       "      <td>0.807689</td>\n",
       "      <td>0.806105</td>\n",
       "      <td>0.886901</td>\n",
       "      <td>LogReg</td>\n",
       "    </tr>\n",
       "    <tr>\n",
       "      <th>1</th>\n",
       "      <td>0.211441</td>\n",
       "      <td>0.027924</td>\n",
       "      <td>0.808973</td>\n",
       "      <td>0.811340</td>\n",
       "      <td>0.808973</td>\n",
       "      <td>0.807144</td>\n",
       "      <td>0.887614</td>\n",
       "      <td>LogReg</td>\n",
       "    </tr>\n",
       "    <tr>\n",
       "      <th>2</th>\n",
       "      <td>0.204457</td>\n",
       "      <td>0.022935</td>\n",
       "      <td>0.802441</td>\n",
       "      <td>0.803650</td>\n",
       "      <td>0.802441</td>\n",
       "      <td>0.800708</td>\n",
       "      <td>0.881537</td>\n",
       "      <td>LogReg</td>\n",
       "    </tr>\n",
       "    <tr>\n",
       "      <th>3</th>\n",
       "      <td>0.193487</td>\n",
       "      <td>0.021942</td>\n",
       "      <td>0.810699</td>\n",
       "      <td>0.812983</td>\n",
       "      <td>0.810699</td>\n",
       "      <td>0.808905</td>\n",
       "      <td>0.891669</td>\n",
       "      <td>LogReg</td>\n",
       "    </tr>\n",
       "    <tr>\n",
       "      <th>4</th>\n",
       "      <td>0.184512</td>\n",
       "      <td>0.029916</td>\n",
       "      <td>0.804735</td>\n",
       "      <td>0.805806</td>\n",
       "      <td>0.804735</td>\n",
       "      <td>0.802860</td>\n",
       "      <td>0.883504</td>\n",
       "      <td>LogReg</td>\n",
       "    </tr>\n",
       "    <tr>\n",
       "      <th>5</th>\n",
       "      <td>4.819176</td>\n",
       "      <td>0.517622</td>\n",
       "      <td>0.897881</td>\n",
       "      <td>0.898205</td>\n",
       "      <td>0.897881</td>\n",
       "      <td>0.897968</td>\n",
       "      <td>0.957795</td>\n",
       "      <td>RF</td>\n",
       "    </tr>\n",
       "    <tr>\n",
       "      <th>6</th>\n",
       "      <td>5.160280</td>\n",
       "      <td>0.529583</td>\n",
       "      <td>0.896321</td>\n",
       "      <td>0.896428</td>\n",
       "      <td>0.896321</td>\n",
       "      <td>0.896359</td>\n",
       "      <td>0.956397</td>\n",
       "      <td>RF</td>\n",
       "    </tr>\n",
       "    <tr>\n",
       "      <th>7</th>\n",
       "      <td>5.308875</td>\n",
       "      <td>0.516628</td>\n",
       "      <td>0.897504</td>\n",
       "      <td>0.897665</td>\n",
       "      <td>0.897504</td>\n",
       "      <td>0.897560</td>\n",
       "      <td>0.955541</td>\n",
       "      <td>RF</td>\n",
       "    </tr>\n",
       "    <tr>\n",
       "      <th>8</th>\n",
       "      <td>6.009013</td>\n",
       "      <td>0.596414</td>\n",
       "      <td>0.896862</td>\n",
       "      <td>0.896869</td>\n",
       "      <td>0.896862</td>\n",
       "      <td>0.896866</td>\n",
       "      <td>0.956498</td>\n",
       "      <td>RF</td>\n",
       "    </tr>\n",
       "    <tr>\n",
       "      <th>9</th>\n",
       "      <td>5.531040</td>\n",
       "      <td>0.549539</td>\n",
       "      <td>0.895485</td>\n",
       "      <td>0.895726</td>\n",
       "      <td>0.895485</td>\n",
       "      <td>0.895565</td>\n",
       "      <td>0.956777</td>\n",
       "      <td>RF</td>\n",
       "    </tr>\n",
       "  </tbody>\n",
       "</table>\n",
       "</div>"
      ],
      "text/plain": [
       "   fit_time  score_time  test_accuracy  test_precision_weighted  \\\n",
       "0  0.191492    0.022937       0.807689                 0.809010   \n",
       "1  0.211441    0.027924       0.808973                 0.811340   \n",
       "2  0.204457    0.022935       0.802441                 0.803650   \n",
       "3  0.193487    0.021942       0.810699                 0.812983   \n",
       "4  0.184512    0.029916       0.804735                 0.805806   \n",
       "5  4.819176    0.517622       0.897881                 0.898205   \n",
       "6  5.160280    0.529583       0.896321                 0.896428   \n",
       "7  5.308875    0.516628       0.897504                 0.897665   \n",
       "8  6.009013    0.596414       0.896862                 0.896869   \n",
       "9  5.531040    0.549539       0.895485                 0.895726   \n",
       "\n",
       "   test_recall_weighted  test_f1_weighted  test_roc_auc   model  \n",
       "0              0.807689          0.806105      0.886901  LogReg  \n",
       "1              0.808973          0.807144      0.887614  LogReg  \n",
       "2              0.802441          0.800708      0.881537  LogReg  \n",
       "3              0.810699          0.808905      0.891669  LogReg  \n",
       "4              0.804735          0.802860      0.883504  LogReg  \n",
       "5              0.897881          0.897968      0.957795      RF  \n",
       "6              0.896321          0.896359      0.956397      RF  \n",
       "7              0.897504          0.897560      0.955541      RF  \n",
       "8              0.896862          0.896866      0.956498      RF  \n",
       "9              0.895485          0.895565      0.956777      RF  "
      ]
     },
     "execution_count": 290,
     "metadata": {},
     "output_type": "execute_result"
    }
   ],
   "source": [
    "final = run_exps(X_train, y_train, X_test, y_test)\n",
    "final"
   ]
  },
  {
   "cell_type": "markdown",
   "metadata": {},
   "source": [
    "To complete our analysis, we need to analyze the data in the `final` dataframe returned from the run_exps() script.\n",
    "To obtain better estimates of the distribution of metrics from each model, we need to run empirical bootstrapping at 30 samples using the code below. Additionally, we should partition the data into two groups: \n",
    "- performance metrics\n",
    "- fit-time metrics. "
   ]
  },
  {
   "cell_type": "markdown",
   "metadata": {},
   "source": [
    "#### Evaluating the results"
   ]
  },
  {
   "cell_type": "code",
   "execution_count": 291,
   "metadata": {},
   "outputs": [],
   "source": [
    "bootstraps = []\n",
    "for model in list(set(final.model.values)):\n",
    "    model_df = final.loc[final.model == model]\n",
    "    bootstrap = model_df.sample(n=30, replace=True)\n",
    "    bootstraps.append(bootstrap)\n",
    "        \n",
    "bootstrap_df = pd.concat(bootstraps, ignore_index=True)\n",
    "results_long = pd.melt(bootstrap_df,id_vars=['model'],var_name='metrics', value_name='values')\n",
    "time_metrics = ['fit_time','score_time'] # fit time metrics\n",
    "\n",
    "# Performance Metrics\n",
    "results_long_nofit = results_long.loc[~results_long['metrics'].isin(time_metrics)] # get df without fit data\n",
    "results_long_nofit = results_long_nofit.sort_values(by='values')\n",
    "\n",
    "# Time Metrics\n",
    "results_long_fit = results_long.loc[results_long['metrics'].isin(time_metrics)] # df with fit data\n",
    "results_long_fit = results_long_fit.sort_values(by='values')"
   ]
  },
  {
   "cell_type": "code",
   "execution_count": 292,
   "metadata": {},
   "outputs": [],
   "source": [
    "# # Plot\n",
    "# plt.figure(figsize=(15, 9))\n",
    "# ax = sns.boxplot(x=\"values\", y=\"model\", hue=\"metrics\", data=results_long_nofit, palette=\"Set3\")\n",
    "# plt.legend(bbox_to_anchor=(None), loc=1, borderaxespad=.5, fontsize=15)\n",
    "# plt.title('Comparison of Model by Classification Metric')\n",
    "\n",
    "# # Style chart\n",
    "# sns.set_style(\"whitegrid\")\n",
    "# style_sns_1('Models Performance Compared (Quantiles)', 'Score', 'Algorithm')\n",
    "# plt.savefig('./benchmark_models_performance.png',dpi=300)\n",
    "# plt.show()"
   ]
  },
  {
   "cell_type": "code",
   "execution_count": 293,
   "metadata": {},
   "outputs": [
    {
     "data": {
      "text/html": [
       "<div>\n",
       "<style scoped>\n",
       "    .dataframe tbody tr th:only-of-type {\n",
       "        vertical-align: middle;\n",
       "    }\n",
       "\n",
       "    .dataframe tbody tr th {\n",
       "        vertical-align: top;\n",
       "    }\n",
       "\n",
       "    .dataframe thead th {\n",
       "        text-align: right;\n",
       "    }\n",
       "</style>\n",
       "<table border=\"1\" class=\"dataframe\">\n",
       "  <thead>\n",
       "    <tr style=\"text-align: right;\">\n",
       "      <th></th>\n",
       "      <th>model</th>\n",
       "      <th>metrics</th>\n",
       "      <th>values</th>\n",
       "    </tr>\n",
       "  </thead>\n",
       "  <tbody>\n",
       "    <tr>\n",
       "      <th>0</th>\n",
       "      <td>LogReg</td>\n",
       "      <td>test_overall_score</td>\n",
       "      <td>0.891669</td>\n",
       "    </tr>\n",
       "    <tr>\n",
       "      <th>1</th>\n",
       "      <td>RF</td>\n",
       "      <td>test_overall_score</td>\n",
       "      <td>0.957795</td>\n",
       "    </tr>\n",
       "  </tbody>\n",
       "</table>\n",
       "</div>"
      ],
      "text/plain": [
       "    model             metrics    values\n",
       "0  LogReg  test_overall_score  0.891669\n",
       "1      RF  test_overall_score  0.957795"
      ]
     },
     "execution_count": 293,
     "metadata": {},
     "output_type": "execute_result"
    }
   ],
   "source": [
    "# Mean score of each model\n",
    "max_scores = results_long_nofit.groupby('model').max().reset_index()\n",
    "max_scores['metrics'] = 'test_overall_score'\n",
    "max_scores = max_scores[['model', 'metrics', 'values']]\n",
    "max_scores"
   ]
  },
  {
   "cell_type": "markdown",
   "metadata": {},
   "source": [
    "**Observation:** From this plot we can see the best performing model appears to be **XGBoost**, followed by **Logistic Regression** and **Random Forest**. The differences are very small though. **KNN** was the fastest model to fit but also the took the longest to score by a large margin, the score times of the other models are extremely short. There seems to be a correlation between the length of time taken to fit the model and model performance as slower fitting models seem to perform better. The exception is **Random Forest** which takes the longest to fit but still ends up as the third-best performing model. From our findings, I would suggest continuing to refine the **XGBoost** model since it trains and performs the best of all the models.\n",
    "\n",
    "Next, we can do further analysis on the models by finding the means and stds for each metric.\n",
    "\n",
    "**Reference:**\n",
    "1. https://stackoverflow.com/questions/43214978/seaborn-barplot-displaying-values\n",
    "2. https://stackoverflow.com/questions/40088585/turn-off-error-bars-in-seaborn-bar-plot"
   ]
  },
  {
   "cell_type": "code",
   "execution_count": 294,
   "metadata": {},
   "outputs": [
    {
     "data": {
      "text/html": [
       "<div>\n",
       "<style scoped>\n",
       "    .dataframe tbody tr th:only-of-type {\n",
       "        vertical-align: middle;\n",
       "    }\n",
       "\n",
       "    .dataframe tbody tr th {\n",
       "        vertical-align: top;\n",
       "    }\n",
       "\n",
       "    .dataframe thead tr th {\n",
       "        text-align: left;\n",
       "    }\n",
       "\n",
       "    .dataframe thead tr:last-of-type th {\n",
       "        text-align: right;\n",
       "    }\n",
       "</style>\n",
       "<table border=\"1\" class=\"dataframe\">\n",
       "  <thead>\n",
       "    <tr>\n",
       "      <th></th>\n",
       "      <th colspan=\"2\" halign=\"left\">test_recall_weighted</th>\n",
       "      <th colspan=\"2\" halign=\"left\">test_roc_auc</th>\n",
       "      <th colspan=\"2\" halign=\"left\">test_precision_weighted</th>\n",
       "      <th colspan=\"2\" halign=\"left\">test_accuracy</th>\n",
       "      <th colspan=\"2\" halign=\"left\">test_f1_weighted</th>\n",
       "    </tr>\n",
       "    <tr>\n",
       "      <th></th>\n",
       "      <th>std</th>\n",
       "      <th>mean</th>\n",
       "      <th>std</th>\n",
       "      <th>mean</th>\n",
       "      <th>std</th>\n",
       "      <th>mean</th>\n",
       "      <th>std</th>\n",
       "      <th>mean</th>\n",
       "      <th>std</th>\n",
       "      <th>mean</th>\n",
       "    </tr>\n",
       "    <tr>\n",
       "      <th>model</th>\n",
       "      <th></th>\n",
       "      <th></th>\n",
       "      <th></th>\n",
       "      <th></th>\n",
       "      <th></th>\n",
       "      <th></th>\n",
       "      <th></th>\n",
       "      <th></th>\n",
       "      <th></th>\n",
       "      <th></th>\n",
       "    </tr>\n",
       "  </thead>\n",
       "  <tbody>\n",
       "    <tr>\n",
       "      <th>LogReg</th>\n",
       "      <td>0.003032</td>\n",
       "      <td>0.806844</td>\n",
       "      <td>0.003693</td>\n",
       "      <td>0.886219</td>\n",
       "      <td>0.003548</td>\n",
       "      <td>0.808471</td>\n",
       "      <td>0.003032</td>\n",
       "      <td>0.806844</td>\n",
       "      <td>0.003039</td>\n",
       "      <td>0.805058</td>\n",
       "    </tr>\n",
       "    <tr>\n",
       "      <th>RF</th>\n",
       "      <td>0.000935</td>\n",
       "      <td>0.896617</td>\n",
       "      <td>0.000693</td>\n",
       "      <td>0.956527</td>\n",
       "      <td>0.000933</td>\n",
       "      <td>0.896793</td>\n",
       "      <td>0.000935</td>\n",
       "      <td>0.896617</td>\n",
       "      <td>0.000930</td>\n",
       "      <td>0.896674</td>\n",
       "    </tr>\n",
       "  </tbody>\n",
       "</table>\n",
       "</div>"
      ],
      "text/plain": [
       "       test_recall_weighted           test_roc_auc            \\\n",
       "                        std      mean          std      mean   \n",
       "model                                                          \n",
       "LogReg             0.003032  0.806844     0.003693  0.886219   \n",
       "RF                 0.000935  0.896617     0.000693  0.956527   \n",
       "\n",
       "       test_precision_weighted           test_accuracy            \\\n",
       "                           std      mean           std      mean   \n",
       "model                                                              \n",
       "LogReg                0.003548  0.808471      0.003032  0.806844   \n",
       "RF                    0.000933  0.896793      0.000935  0.896617   \n",
       "\n",
       "       test_f1_weighted            \n",
       "                    std      mean  \n",
       "model                              \n",
       "LogReg         0.003039  0.805058  \n",
       "RF             0.000930  0.896674  "
      ]
     },
     "execution_count": 294,
     "metadata": {},
     "output_type": "execute_result"
    }
   ],
   "source": [
    "# Create df to compare models\n",
    "metrics = list(set(results_long_nofit.metrics.values))\n",
    "results = bootstrap_df.groupby(['model'])[metrics].agg([np.std, np.mean])\n",
    "results"
   ]
  },
  {
   "cell_type": "code",
   "execution_count": 295,
   "metadata": {},
   "outputs": [
    {
     "data": {
      "text/html": [
       "<div>\n",
       "<style scoped>\n",
       "    .dataframe tbody tr th:only-of-type {\n",
       "        vertical-align: middle;\n",
       "    }\n",
       "\n",
       "    .dataframe tbody tr th {\n",
       "        vertical-align: top;\n",
       "    }\n",
       "\n",
       "    .dataframe thead tr th {\n",
       "        text-align: left;\n",
       "    }\n",
       "\n",
       "    .dataframe thead tr:last-of-type th {\n",
       "        text-align: right;\n",
       "    }\n",
       "</style>\n",
       "<table border=\"1\" class=\"dataframe\">\n",
       "  <thead>\n",
       "    <tr>\n",
       "      <th></th>\n",
       "      <th colspan=\"2\" halign=\"left\">score_time</th>\n",
       "      <th colspan=\"2\" halign=\"left\">fit_time</th>\n",
       "    </tr>\n",
       "    <tr>\n",
       "      <th></th>\n",
       "      <th>std</th>\n",
       "      <th>mean</th>\n",
       "      <th>std</th>\n",
       "      <th>mean</th>\n",
       "    </tr>\n",
       "    <tr>\n",
       "      <th>model</th>\n",
       "      <th></th>\n",
       "      <th></th>\n",
       "      <th></th>\n",
       "      <th></th>\n",
       "    </tr>\n",
       "  </thead>\n",
       "  <tbody>\n",
       "    <tr>\n",
       "      <th>LogReg</th>\n",
       "      <td>0.003485</td>\n",
       "      <td>0.025629</td>\n",
       "      <td>0.009914</td>\n",
       "      <td>0.195349</td>\n",
       "    </tr>\n",
       "    <tr>\n",
       "      <th>RF</th>\n",
       "      <td>0.028074</td>\n",
       "      <td>0.542756</td>\n",
       "      <td>0.355125</td>\n",
       "      <td>5.414514</td>\n",
       "    </tr>\n",
       "  </tbody>\n",
       "</table>\n",
       "</div>"
      ],
      "text/plain": [
       "       score_time            fit_time          \n",
       "              std      mean       std      mean\n",
       "model                                          \n",
       "LogReg   0.003485  0.025629  0.009914  0.195349\n",
       "RF       0.028074  0.542756  0.355125  5.414514"
      ]
     },
     "execution_count": 295,
     "metadata": {},
     "output_type": "execute_result"
    }
   ],
   "source": [
    "# Labels\n",
    "time_metrics = list(set(results_long_fit.metrics.values))\n",
    "\n",
    "# Group results\n",
    "bootstrap_df.groupby(['model'])[time_metrics].agg([np.std, np.mean])"
   ]
  },
  {
   "cell_type": "markdown",
   "metadata": {},
   "source": [
    "**Reference:** Quickly test multiple models - https://towardsdatascience.com/quickly-test-multiple-models-a98477476f0"
   ]
  },
  {
   "cell_type": "markdown",
   "metadata": {},
   "source": [
    "#### Did not run after this -Survesh"
   ]
  },
  {
   "cell_type": "code",
   "execution_count": null,
   "metadata": {},
   "outputs": [],
   "source": []
  },
  {
   "cell_type": "code",
   "execution_count": null,
   "metadata": {},
   "outputs": [],
   "source": []
  },
  {
   "cell_type": "markdown",
   "metadata": {},
   "source": [
    "# Fine tune XGBOOST and save final model as pkl"
   ]
  },
  {
   "cell_type": "code",
   "execution_count": 125,
   "metadata": {
    "hideCode": false,
    "hidePrompt": false
   },
   "outputs": [],
   "source": [
    "def evaluate_model_performance(clf,\n",
    "                               X_train,\n",
    "                               y_train):\n",
    "    \"\"\" Prints a model's accuracy and F1-score\n",
    "    \n",
    "    INPUT:\n",
    "        clf: Model object (or Classifier)\n",
    "        \n",
    "        X_train: Training data matrix\n",
    "\n",
    "        y_train: Expected model output vector\n",
    "    \n",
    "    OUTPUT:\n",
    "        clf_accuracy: Model accuracy\n",
    "        \n",
    "        clf_f1_score: Model F1-score\"\"\"\n",
    "    class_name = re.sub(\"[<>']\", '', str(clf.__class__))\n",
    "    class_name = class_name.split(' ')[1]\n",
    "    class_name = class_name.split('.')[-1]\n",
    "\n",
    "    y_pred_rf = clf.predict(X_train)\n",
    "\n",
    "    clf_accuracy = accuracy_score(y_train, y_pred_rf)\n",
    "    clf_f1_score = f1_score(y_train, y_pred_rf)\n",
    "    \n",
    "    print(\"%s Model Accuracy: %.3f\" % (class_name, clf_accuracy))\n",
    "    print(\"%s Model F1-Score: %.3f\" % (class_name, clf_f1_score))\n",
    "    \n",
    "    return clf_accuracy, clf_f1_score"
   ]
  },
  {
   "cell_type": "code",
   "execution_count": 126,
   "metadata": {
    "hideCode": false,
    "hidePrompt": false
   },
   "outputs": [
    {
     "name": "stdout",
     "output_type": "stream",
     "text": [
      "Fitting 3 folds for each of 6 candidates, totalling 18 fits\n",
      "LogisticRegression Model Accuracy: 0.869\n",
      "LogisticRegression Model F1-Score: 0.843\n"
     ]
    },
    {
     "data": {
      "text/plain": [
       "(0.8693630869363087, 0.8433162142333089)"
      ]
     },
     "execution_count": 126,
     "metadata": {},
     "output_type": "execute_result"
    }
   ],
   "source": [
    "model_dir = \"./models\"\n",
    "if not os.path.exists(model_dir):\n",
    "    os.mkdir(model_dir)\n",
    "    \n",
    "lr_model_path = os.path.join(model_dir, 'lr_clf.joblib')\n",
    "\n",
    "scorer = make_scorer(fbeta_score,\n",
    "                     beta=0.5)\n",
    "\n",
    "if os.path.exists(lr_model_path):\n",
    "    lr_random = load(lr_model_path)\n",
    "else:\n",
    "    lr_clf = LogisticRegression(random_state=random_state,\n",
    "                                solver='liblinear')\n",
    "\n",
    "    random_grid = {'penalty': ['l1', 'l2'],\n",
    "                   'C': [1.0, 0.1, 0.01]}\n",
    "\n",
    "    lr_random = RandomizedSearchCV(estimator = lr_clf,\n",
    "                                   param_distributions = random_grid,\n",
    "                                   scoring=scorer,\n",
    "                                   n_iter = 6,\n",
    "                                   cv = 3,\n",
    "                                   verbose=2,\n",
    "                                   random_state=random_state,\n",
    "                                   n_jobs = 3)\n",
    "\n",
    "    lr_random.fit(X_train, y_train)\n",
    "\n",
    "    dump(lr_random, lr_model_path)\n",
    "    \n",
    "evaluate_model_performance(lr_random.best_estimator_,\n",
    "                           X_train,\n",
    "                           y_train)"
   ]
  },
  {
   "cell_type": "markdown",
   "metadata": {},
   "source": [
    "#### Decision Tree Classifier"
   ]
  },
  {
   "cell_type": "code",
   "execution_count": null,
   "metadata": {},
   "outputs": [],
   "source": [
    "# Fit model\n",
    "clf = LogisticRegression(max_iter=500)\n",
    "clf = clf.fit(X_train, y_train)\n",
    "\n",
    "# Use predict_proba to predict probability of the class\n",
    "y_pred = clf.predict_proba(X_test)[:,1]\n",
    "\n",
    "# We can now use plot_metric to plot ROC Curve\n",
    "from plot_metric.functions import BinaryClassification\n",
    "\n",
    "# Visualisation with plot_metric\n",
    "bc = BinaryClassification(y_test, y_pred, labels=[\"Class 1\", \"Class 2\"])\n",
    "\n",
    "# Figures\n",
    "sns.set_style(\"whitegrid\")\n",
    "plt.figure(figsize=(7,7))\n",
    "bc.plot_roc_curve()\n",
    "plt.show()"
   ]
  },
  {
   "cell_type": "markdown",
   "metadata": {},
   "source": [
    "**Reference:** https://stackoverflow.com/questions/25009284/how-to-plot-roc-curve-in-python"
   ]
  },
  {
   "cell_type": "markdown",
   "metadata": {
    "hideCode": false,
    "hidePrompt": false
   },
   "source": [
    "#### Predictive Modelling"
   ]
  },
  {
   "cell_type": "code",
   "execution_count": null,
   "metadata": {
    "hideCode": false,
    "hidePrompt": false,
    "scrolled": true
   },
   "outputs": [],
   "source": [
    "naive_predictor_accuracy = accuracy_score(y_train,np.ones(len(y_train)))\n",
    "naive_predictor_f1score = f1_score(y_train, np.ones(len(y_train)))\n",
    "np_random = naive_predictor_accuracy, naive_predictor_f1score\n",
    "\n",
    "# Print results\n",
    "print('Naive Predictor Accuracy:', round(naive_predictor_accuracy, 3))\n",
    "print('Naive Predictor F1-Score:', round(naive_predictor_f1score, 3))"
   ]
  },
  {
   "cell_type": "markdown",
   "metadata": {
    "hideCode": false,
    "hidePrompt": false
   },
   "source": [
    "#### Gaussian Naive Bayes"
   ]
  },
  {
   "cell_type": "code",
   "execution_count": null,
   "metadata": {
    "hideCode": false,
    "hidePrompt": false
   },
   "outputs": [],
   "source": [
    "model_dir = \"./models\"\n",
    "if not os.path.exists(model_dir):\n",
    "    os.mkdir(model_dir)\n",
    "    \n",
    "gnb_model_path = os.path.join(model_dir, 'gnb_clf.joblib')\n",
    "\n",
    "scorer = make_scorer(fbeta_score,\n",
    "                     beta=0.5)\n",
    "\n",
    "if os.path.exists(gnb_model_path):\n",
    "    gnb_random = load(gnb_model_path)\n",
    "else:\n",
    "    gnb_clf = GaussianNB()\n",
    "\n",
    "    params_NB = {'var_smoothing': np.logspace(0,-9, num=100)}\n",
    "\n",
    "    gnb_random = RandomizedSearchCV(estimator = gnb_clf,\n",
    "                                   param_distributions=params_NB,\n",
    "                                   scoring=scorer,\n",
    "                                   n_iter = 6,\n",
    "                                   cv = 3, # use cross validation technique 3 \n",
    "                                   verbose=2,\n",
    "                                   random_state=random_state,\n",
    "                                   n_jobs = 3)\n",
    "\n",
    "    gnb_random.fit(X_train, y_train)\n",
    "\n",
    "    dump(gnb_random, gnb_model_path)"
   ]
  },
  {
   "cell_type": "code",
   "execution_count": null,
   "metadata": {},
   "outputs": [],
   "source": [
    "# Setting that gave the best results\n",
    "gnb_random.best_params_"
   ]
  },
  {
   "cell_type": "code",
   "execution_count": null,
   "metadata": {
    "hideCode": false,
    "hidePrompt": false,
    "scrolled": true
   },
   "outputs": [],
   "source": [
    "evaluate_model_performance(gnb_random.best_estimator_,\n",
    "                           X_train,\n",
    "                           y_train)"
   ]
  },
  {
   "cell_type": "markdown",
   "metadata": {},
   "source": [
    "**Reference:** https://stackoverflow.com/questions/39828535/how-to-tune-gaussiannb"
   ]
  },
  {
   "cell_type": "markdown",
   "metadata": {
    "hideCode": false,
    "hidePrompt": false
   },
   "source": [
    "#### Logistic Regression"
   ]
  },
  {
   "cell_type": "code",
   "execution_count": null,
   "metadata": {
    "hideCode": false,
    "hidePrompt": false
   },
   "outputs": [],
   "source": [
    "model_dir = \"./models\"\n",
    "if not os.path.exists(model_dir):\n",
    "    os.mkdir(model_dir)\n",
    "    \n",
    "lr_model_path = os.path.join(model_dir, 'lr_clf.joblib')\n",
    "\n",
    "scorer = make_scorer(fbeta_score,\n",
    "                     beta=0.5)\n",
    "\n",
    "if os.path.exists(lr_model_path):\n",
    "    lr_random = load(lr_model_path)\n",
    "else:\n",
    "    lr_clf = LogisticRegression(random_state=random_state,\n",
    "                                solver='liblinear')\n",
    "\n",
    "    random_grid = {'penalty': ['l1', 'l2'],\n",
    "                   'C': [1.0, 0.1, 0.01]}\n",
    "\n",
    "    lr_random = RandomizedSearchCV(estimator = lr_clf,\n",
    "                                   param_distributions = random_grid,\n",
    "                                   scoring=scorer,\n",
    "                                   n_iter = 6,\n",
    "                                   cv = 3,\n",
    "                                   verbose=2,\n",
    "                                   random_state=random_state,\n",
    "                                   n_jobs = 3)\n",
    "\n",
    "    lr_random.fit(X_train, y_train)\n",
    "\n",
    "    dump(lr_random, lr_model_path)"
   ]
  },
  {
   "cell_type": "code",
   "execution_count": null,
   "metadata": {
    "hideCode": false,
    "hidePrompt": false
   },
   "outputs": [],
   "source": [
    "evaluate_model_performance(lr_random.best_estimator_,\n",
    "                           X_train,\n",
    "                           y_train)"
   ]
  },
  {
   "cell_type": "markdown",
   "metadata": {},
   "source": [
    "#### Random Forest Classifier"
   ]
  },
  {
   "cell_type": "code",
   "execution_count": null,
   "metadata": {
    "hideCode": false,
    "hidePrompt": false
   },
   "outputs": [],
   "source": [
    "rf_model_path = os.path.join(model_dir, 'rf_clf.joblib')\n",
    "\n",
    "if os.path.exists(rf_model_path):\n",
    "    rf_random = load(rf_model_path)\n",
    "else:\n",
    "    rf_clf = RandomForestClassifier(random_state=random_state)\n",
    "\n",
    "    # Number of trees in random forest\n",
    "    n_estimators = [10, 30, 50, 100, 150, 200, 250, 300]\n",
    "\n",
    "    # Number of features to consider at every split\n",
    "    max_features = ['auto', 'sqrt']\n",
    "\n",
    "    # Maximum number of levels in tree\n",
    "    max_depth = [int(x) for x in np.arange(3, 11)]\n",
    "    max_depth.append(None)\n",
    "\n",
    "    # Minimum number of samples required to split a node\n",
    "    min_samples_split = [2, 5, 10]\n",
    "\n",
    "    # Minimum number of samples required at each leaf node\n",
    "    min_samples_leaf = [1, 2, 4]\n",
    "\n",
    "    # Create the random grid\n",
    "    random_grid = {'n_estimators': n_estimators,\n",
    "                   'max_features': max_features,\n",
    "                   'max_depth': max_depth,\n",
    "                   'min_samples_split': min_samples_split,\n",
    "                   'min_samples_leaf': min_samples_leaf}\n",
    "\n",
    "    rf_random = RandomizedSearchCV(estimator = rf_clf,\n",
    "                                   param_distributions = random_grid,\n",
    "                                   scoring=scorer,\n",
    "                                   n_iter = 100,\n",
    "                                   cv = 3,\n",
    "                                   verbose=2,\n",
    "                                   random_state=random_state,\n",
    "                                   n_jobs = 3)\n",
    "\n",
    "    rf_random.fit(X_train, y_train)\n",
    "    \n",
    "    dump(rf_random, rf_model_path)"
   ]
  },
  {
   "cell_type": "code",
   "execution_count": null,
   "metadata": {
    "hideCode": false,
    "hidePrompt": false,
    "scrolled": true
   },
   "outputs": [],
   "source": [
    "evaluate_model_performance(rf_random.best_estimator_,\n",
    "                           X_train,\n",
    "                           y_train)"
   ]
  },
  {
   "cell_type": "markdown",
   "metadata": {},
   "source": [
    "<a id='4.4'></a>\n",
    "### 4.4. Assessing models"
   ]
  },
  {
   "cell_type": "markdown",
   "metadata": {},
   "source": [
    "It's time to review the models that we have created, from a technical standpoint but also from a business standpoint."
   ]
  },
  {
   "cell_type": "code",
   "execution_count": null,
   "metadata": {},
   "outputs": [],
   "source": [
    "# Model assessment by grouped by mean\n",
    "mass = results_long_nofit.groupby(['model', 'metrics']).mean().reset_index()"
   ]
  },
  {
   "cell_type": "markdown",
   "metadata": {},
   "source": [
    "**Reference:** https://realpython.com/pandas-groupby/"
   ]
  },
  {
   "cell_type": "markdown",
   "metadata": {},
   "source": [
    "#### Model assessment"
   ]
  },
  {
   "cell_type": "markdown",
   "metadata": {},
   "source": [
    "We need to summarize the information developed in our model review. Since we have created several models, we can rank them based on our assessment of their value for a specific application."
   ]
  },
  {
   "cell_type": "code",
   "execution_count": null,
   "metadata": {},
   "outputs": [],
   "source": [
    "# Best test accuracy\n",
    "mass[mass['metrics'] == 'test_accuracy'].sort_values(by='values', ascending=False).reset_index(drop=True)"
   ]
  },
  {
   "cell_type": "markdown",
   "metadata": {},
   "source": [
    "**Observation:** **XGBoost** has the best **accuracy** from our observations, closely followed by **LogReg** and **KNN**."
   ]
  },
  {
   "cell_type": "code",
   "execution_count": null,
   "metadata": {},
   "outputs": [],
   "source": [
    "# Best test f1 score\n",
    "mass[mass['metrics'] == 'test_f1_weighted'].sort_values(by='values', ascending=False).reset_index(drop=True)"
   ]
  },
  {
   "cell_type": "markdown",
   "metadata": {},
   "source": [
    "**Observation:** **XGBoost** has the best **f1-score** from our observations, closely followed by **LogReg** but **KNN** a bit further back than before."
   ]
  },
  {
   "cell_type": "code",
   "execution_count": null,
   "metadata": {},
   "outputs": [],
   "source": [
    "# Best test precision weighted\n",
    "mass[mass['metrics'] == 'test_precision_weighted'].sort_values(by='values', ascending=False).reset_index(drop=True)"
   ]
  },
  {
   "cell_type": "markdown",
   "metadata": {},
   "source": [
    "**Observation:** **XGBoost** has the best **precision weighted** score from our observations, closely followed by **GNB** and **LogReg**."
   ]
  },
  {
   "cell_type": "code",
   "execution_count": null,
   "metadata": {},
   "outputs": [],
   "source": [
    "# Best test_recall_weighted\n",
    "mass[mass['metrics'] == 'test_recall_weighted'].sort_values(by='values', ascending=False).reset_index(drop=True)"
   ]
  },
  {
   "cell_type": "markdown",
   "metadata": {},
   "source": [
    "**Observation:** **XGBoost** has the best **recall weighted** score from our observations, closely followed by **LogReg** and **KNN**."
   ]
  },
  {
   "cell_type": "code",
   "execution_count": null,
   "metadata": {},
   "outputs": [],
   "source": [
    "# Best test_roc_auc\n",
    "mass[mass['metrics'] == 'test_roc_auc'].sort_values(by='values', ascending=False).reset_index(drop=True)"
   ]
  },
  {
   "cell_type": "markdown",
   "metadata": {},
   "source": [
    "**Observation:** **XGBoost** has the best **ROC AUC** score from our observations, closely followed by **LogReg** and **GNB**."
   ]
  },
  {
   "cell_type": "markdown",
   "metadata": {},
   "source": [
    "**Conclusion:** From our findings, I would suggest continuing to refine the **XGBoost** model since it trains and performs the best of all the models."
   ]
  },
  {
   "cell_type": "markdown",
   "metadata": {},
   "source": [
    "#### Revised parameter settings\n",
    "Since we have found our best performing model, we can fine-tune settings that were used to build the model and conduct another round of modeling and try to improve our results. XGBoost allows us to assess the incremental performance by the incremental number of trees. By using two arguments: eval_set - used for Train and Test sets and, eval_metric - used to measure our error on those evaluation sets."
   ]
  },
  {
   "cell_type": "code",
   "execution_count": null,
   "metadata": {},
   "outputs": [],
   "source": [
    "model = XGBClassifier(use_label_encoder=False)\n",
    "eval_set = [(X_train, y_train), (X_test, y_test)]\n",
    "eval_metric = [\"logloss\",\"error\"]\n",
    "%time model.fit(X_train, y_train, eval_metric=eval_metric, eval_set=eval_set, verbose=True)"
   ]
  },
  {
   "cell_type": "code",
   "execution_count": null,
   "metadata": {},
   "outputs": [],
   "source": [
    "# make predictions for test data\n",
    "y_pred = model.predict(X_test)\n",
    "predictions = [round(value) for value in y_pred]\n",
    "\n",
    "# evaluate predictions\n",
    "accuracy = accuracy_score(y_test, y_pred)\n",
    "print(\"Accuracy: %.2f%%\" % (accuracy * 100.0))"
   ]
  },
  {
   "cell_type": "code",
   "execution_count": null,
   "metadata": {
    "scrolled": false
   },
   "outputs": [],
   "source": [
    "# Retrieve performance metrics\n",
    "results = model.evals_result()\n",
    "epochs = len(results['validation_0']['error'])\n",
    "x_axis = range(0, epochs)\n",
    "\n",
    "f, axes = plt.subplots(1, 2, figsize=(15, 5))\n",
    "f.suptitle('XGBoost Training Quality Evaluation\\n\\n', y=1.025)\n",
    "ax1, ax2 = axes[0], axes[1]\n",
    "\n",
    "# Plot log loss\n",
    "ax1 = sns.lineplot(x=x_axis, y=results['validation_0']['logloss'], label='Train', ax=ax1)\n",
    "ax1 = sns.lineplot(x=x_axis, y=results['validation_1']['logloss'], label='Test', ax=ax1)\n",
    "ax1.legend().remove()\n",
    "\n",
    "# Plot classification error\n",
    "ax2 = sns.lineplot(x=x_axis, y=results['validation_0']['error'], label='Train', ax=ax2)\n",
    "ax2 = sns.lineplot(x=x_axis, y=results['validation_1']['error'], label='Test', ax=ax2)\n",
    "ax2.legend(bbox_to_anchor=(-0.1, -.25), loc=8, ncol=3)\n",
    "\n",
    "style_sns_2('XGBoost Log Loss', 'XGBoost Classification Error', \n",
    "            '', 'Log Loss', '', 'Classification Error')\n",
    "\n",
    "plt.show()"
   ]
  },
  {
   "cell_type": "markdown",
   "metadata": {},
   "source": [
    "**Reference:** \n",
    "1. https://dev.to/thalesbruno/subplotting-with-matplotlib-and-seaborn-5ei8\n",
    "2. https://newbedev.com/how-to-position-suptitle"
   ]
  },
  {
   "cell_type": "code",
   "execution_count": null,
   "metadata": {},
   "outputs": [],
   "source": [
    "model = XGBClassifier(silent=False, \n",
    "                      scale_pos_weight=1,\n",
    "                      learning_rate=0.1,  \n",
    "                      colsample_bytree=1,\n",
    "                      subsample=0.8,\n",
    "                      objective='binary:logistic', \n",
    "                      n_estimators=200, \n",
    "                      reg_alpha=0.4,\n",
    "                      max_depth=11, \n",
    "                      gamma=1,\n",
    "                      use_label_encoder=False)\n",
    "\n",
    "eval_set = [(X_train, y_train), (X_test, y_test)]\n",
    "eval_metric = [\"logloss\",\"error\"]\n",
    "%time model.fit(X_train, y_train, eval_metric=eval_metric, eval_set=eval_set, verbose=False)\n",
    "\n",
    "# make predictions for test data\n",
    "y_pred = model.predict(X_test)\n",
    "predictions = [round(value) for value in y_pred]\n",
    "\n",
    "# evaluate predictions\n",
    "accuracy = accuracy_score(y_test, y_pred)\n",
    "print(\"Accuracy: %.2f%%\" % (accuracy * 100.0))"
   ]
  },
  {
   "cell_type": "code",
   "execution_count": null,
   "metadata": {
    "scrolled": false
   },
   "outputs": [],
   "source": [
    "model"
   ]
  },
  {
   "cell_type": "code",
   "execution_count": null,
   "metadata": {
    "hideCode": false,
    "hidePrompt": false
   },
   "outputs": [],
   "source": [
    "# Init lists\n",
    "model_list = [lr_random, rf_random]\n",
    "accuracy = [np_random[0]]\n",
    "f1 = [np_random[1]]\n",
    "\n",
    "for i in model_list:\n",
    "\n",
    "            # Prediction\n",
    "            clf = i\n",
    "            y_pred_rf = clf.predict(X_train)\n",
    "            clf_accuracy = accuracy_score(y_train, y_pred_rf)\n",
    "            clf_f1_score = f1_score(y_train, y_pred_rf)\n",
    "\n",
    "            # Append results\n",
    "            accuracy.append(clf_accuracy)\n",
    "            f1.append(clf_f1_score)\n",
    "            \n",
    "compare = pd.DataFrame(list(zip(accuracy, f1)),\n",
    "             columns=['accuracy', 'f1-score'],\n",
    "             index=['naive_predictor', 'logistic_regression', 'random_forest'])\n",
    "compare = compare.reset_index().rename(columns={'index':'model'})"
   ]
  },
  {
   "cell_type": "code",
   "execution_count": null,
   "metadata": {
    "hideCode": false,
    "hidePrompt": false
   },
   "outputs": [],
   "source": [
    "compare"
   ]
  },
  {
   "cell_type": "code",
   "execution_count": null,
   "metadata": {
    "hideCode": false,
    "hidePrompt": false
   },
   "outputs": [],
   "source": [
    "# Init lists\n",
    "model_list = [lr_random, rf_random]\n",
    "model_labels = ['naive_predictor', \n",
    "                'logistic_regression', \n",
    "                'random_forest']\n",
    "metric_labels = ['accuracy', 'f1-score']\n",
    "model = []\n",
    "metric = ['accuracy', 'f1-score']\n",
    "\n",
    "# Add naive model results\n",
    "accuracy = [np_random[0], np_random[1]] \n",
    "\n",
    "# Iterrate through model_list\n",
    "for i in model_list:\n",
    "            # Prediction\n",
    "            clf = i\n",
    "            y_pred_rf = clf.predict(X_train)\n",
    "            clf_accuracy = accuracy_score(y_train, y_pred_rf)\n",
    "            clf_f1_score = f1_score(y_train, y_pred_rf)\n",
    "\n",
    "            # Append results\n",
    "            accuracy.append(clf_accuracy)\n",
    "            accuracy.append(clf_f1_score)\n",
    "            \n",
    "            # Append metric labels\n",
    "            metric.append(metric_labels[0])\n",
    "            metric.append(metric_labels[1])\n",
    "            \n",
    "            # Append model labels\n",
    "            model.append(model_labels[0]); model.append(model_labels[0])\n",
    "            model.append(model_labels[1]); model.append(model_labels[1])\n",
    "            model.append(model_labels[2]); model.append(model_labels[2])\n",
    "\n",
    "# Save to DataFrame\n",
    "compare1 = pd.DataFrame(list(zip(model, metric, accuracy)),\n",
    "             columns=['model', 'metric', 'score'])"
   ]
  },
  {
   "cell_type": "code",
   "execution_count": null,
   "metadata": {
    "hideCode": false,
    "hidePrompt": false
   },
   "outputs": [],
   "source": [
    "compare1"
   ]
  },
  {
   "cell_type": "code",
   "execution_count": null,
   "metadata": {
    "hideCode": false,
    "hidePrompt": false
   },
   "outputs": [],
   "source": [
    "compare1.groupby(['model', 'metric']).mean()"
   ]
  },
  {
   "cell_type": "code",
   "execution_count": null,
   "metadata": {
    "hideCode": false,
    "hidePrompt": false
   },
   "outputs": [],
   "source": [
    "# Gender distribution\n",
    "sns.catplot(x='model', y='score', hue='metric', kind='bar', data=compare1, height=6)\n",
    "\n",
    "# Style plot\n",
    "style_sns_1('Best Performing Models', 'Model', 'Score')"
   ]
  },
  {
   "cell_type": "markdown",
   "metadata": {
    "hideCode": false,
    "hidePrompt": false
   },
   "source": [
    "**Reference:** \n",
    "1. Plotting with categorical data - https://seaborn.pydata.org/tutorial/categorical.html\n",
    "2. How to calculate feature importance - https://machinelearningmastery.com/calculate-feature-importance-with-python/"
   ]
  },
  {
   "cell_type": "code",
   "execution_count": null,
   "metadata": {
    "hideCode": false,
    "hidePrompt": false
   },
   "outputs": [],
   "source": [
    "relative_importance = rf_random.best_estimator_.feature_importances_\n",
    "relative_importance = relative_importance / np.sum(relative_importance)\n",
    "\n",
    "feature_importance =\\\n",
    "    pd.DataFrame(list(zip(variable_names,\n",
    "                          relative_importance)),\n",
    "                 columns=['feature', 'relative_importance'])\n",
    "\n",
    "feature_importance = feature_importance.sort_values('relative_importance',\n",
    "                                                    ascending=False)\n",
    "\n",
    "feature_importance = feature_importance.reset_index(drop=True)\n",
    "\n",
    "plt.figure(figsize=(8, 8))\n",
    "sns.barplot(x='relative_importance',\n",
    "            y='feature',\n",
    "            data=feature_importance[:10])\n",
    "\n",
    "# Style plot\n",
    "style_sns_1('Random Forest Estimated Feature Importance', 'Relative Importance', 'Feature')\n",
    "plt.show()"
   ]
  },
  {
   "cell_type": "code",
   "execution_count": null,
   "metadata": {
    "hideCode": false,
    "hidePrompt": false
   },
   "outputs": [],
   "source": [
    "# Top ten most important features\n",
    "feature_importance[:10]"
   ]
  },
  {
   "cell_type": "markdown",
   "metadata": {
    "hideCode": false,
    "hidePrompt": false
   },
   "source": [
    "<a id='5'></a>\n",
    "## 5. Evaluation"
   ]
  },
  {
   "cell_type": "markdown",
   "metadata": {},
   "source": [
    "We’ve explored the customer data and you’ve found patterns, and now we have to ask: Are the results any good? It's time to evaluate not just the models we have created, but also the process that we used to create them and their potential for practical use.\n",
    "\n",
    "**Reference:** https://www.ritchieng.com/machine-learning-evaluate-classification-model/"
   ]
  },
  {
   "cell_type": "markdown",
   "metadata": {},
   "source": [
    "<a id='5.1'></a>\n",
    "### 5.1. Evaluating results"
   ]
  },
  {
   "cell_type": "markdown",
   "metadata": {},
   "source": [
    "#### Classification accuracy (Percentage of correct predictions)"
   ]
  },
  {
   "cell_type": "code",
   "execution_count": null,
   "metadata": {},
   "outputs": [],
   "source": [
    "# Make class predictions for the testing set\n",
    "y_pred_class = lr_random.predict(X_test)\n",
    "\n",
    "# Calculate accuracy\n",
    "from sklearn import metrics\n",
    "print('Classification Accuracy:', round(metrics.accuracy_score(y_test, y_pred_class), 3), '%')"
   ]
  },
  {
   "cell_type": "code",
   "execution_count": null,
   "metadata": {},
   "outputs": [],
   "source": [
    "# examine the class distribution of the testing set (using a Pandas Series method)\n",
    "np.where(y_test == 0) #.count()"
   ]
  },
  {
   "cell_type": "code",
   "execution_count": null,
   "metadata": {},
   "outputs": [],
   "source": [
    "# Mean of y_test\n",
    "round(y_test.mean(), 3)"
   ]
  },
  {
   "cell_type": "code",
   "execution_count": null,
   "metadata": {},
   "outputs": [],
   "source": [
    "# y_test value counts\n",
    "print('1:', y_test.shape[0] - np.count_nonzero(y_test),\n",
    "      '\\n0:', np.count_nonzero(y_test))"
   ]
  },
  {
   "cell_type": "code",
   "execution_count": null,
   "metadata": {},
   "outputs": [],
   "source": [
    "# IMPORTANT: first argument is true values, second argument is predicted values\n",
    "# this produces a 2x2 numpy array (matrix)\n",
    "lr_cm = metrics.confusion_matrix(y_test, y_pred_class)\n",
    "print(lr_cm)"
   ]
  },
  {
   "cell_type": "code",
   "execution_count": null,
   "metadata": {},
   "outputs": [],
   "source": [
    "# Confusion matrix function for lr_random model\n",
    "y_pred_class = lr_random.predict(X_test)\n",
    "lr_cm = metrics.confusion_matrix(y_test, y_pred_class)\n",
    "\n",
    "# Plot\n",
    "labels = ['True Negative', 'False Positive', 'False Negative', 'True Positive']\n",
    "categories = ['0', '1']\n",
    "make_confusion_matrix(lr_cm, \n",
    "                      group_names=labels,\n",
    "                      categories=categories, \n",
    "                      cmap='mako')\n",
    "\n",
    "# Style\n",
    "style_sns_1('Confusion Matrix for LR Model', 'Predicted Label', 'Actual Label')\n",
    "\n",
    "# Scores\n",
    "accuracy_score(y_train, y_pred_rf), f1_score(y_train, y_pred_rf)"
   ]
  },
  {
   "cell_type": "code",
   "execution_count": null,
   "metadata": {},
   "outputs": [],
   "source": [
    "# Make class predictions for the testing set\n",
    "gnb = GaussianNB()\n",
    "gnb.fit(X_train, y_train)\n",
    "y_pred_class = gnb.predict(X_test)"
   ]
  },
  {
   "cell_type": "code",
   "execution_count": null,
   "metadata": {},
   "outputs": [],
   "source": [
    "# Confusion matrix function for C model\n",
    "y_pred_class = gnb_random.predict(X_test)\n",
    "gnb_cm = metrics.confusion_matrix(y_test, y_pred_class)\n",
    "\n",
    "# Plot\n",
    "labels = ['True Negative', 'False Positive', 'False Negative', 'True Positive']\n",
    "categories = ['0', '1']\n",
    "make_confusion_matrix(gnb_cm, \n",
    "                      group_names=labels,\n",
    "                      categories=categories, \n",
    "                      cmap='mako')\n",
    "\n",
    "# Style\n",
    "style_sns_1('Confusion Matrix for GNB Model', 'Predicted Label', 'Actual Label')\n",
    "\n",
    "# Scores\n"
   ]
  },
  {
   "cell_type": "markdown",
   "metadata": {},
   "source": [
    "**References:**\n",
    "1. https://medium.com/@dtuk81/confusion-matrix-visualization-fc31e3f30fea\n",
    "2. https://www.codegrepper.com/code-examples/python/sns+heatmap+annot+large+number+format\n",
    "3. https://github.com/DTrimarchi10/confusion_matrix\n",
    "4. https://stackoverflow.com/questions/44116194/import-a-function-from-another-ipynb-file\n",
    "5. https://towardsdatascience.com/how-to-evaluate-your-machine-learning-models-with-python-code-5f8d2d8d945b"
   ]
  },
  {
   "cell_type": "markdown",
   "metadata": {},
   "source": [
    "<a id='5.2'></a>\n",
    "### 5.2. Reviewing the process"
   ]
  },
  {
   "cell_type": "markdown",
   "metadata": {},
   "source": []
  },
  {
   "cell_type": "markdown",
   "metadata": {},
   "source": [
    "<a id='5.3'></a>\n",
    "### 5.3. Determining the next steps"
   ]
  },
  {
   "cell_type": "code",
   "execution_count": null,
   "metadata": {},
   "outputs": [],
   "source": []
  },
  {
   "cell_type": "markdown",
   "metadata": {
    "hideCode": false,
    "hidePrompt": false
   },
   "source": [
    "<a id='6'></a>\n",
    "## 6. Deployment"
   ]
  },
  {
   "cell_type": "markdown",
   "metadata": {},
   "source": [
    "<a id='6.1'></a>\n",
    "### 6.1. Planning deployment"
   ]
  },
  {
   "cell_type": "code",
   "execution_count": null,
   "metadata": {},
   "outputs": [],
   "source": []
  },
  {
   "cell_type": "markdown",
   "metadata": {},
   "source": [
    "<a id='6.2'></a>\n",
    "### 6.2. Reporting final results"
   ]
  },
  {
   "cell_type": "code",
   "execution_count": null,
   "metadata": {},
   "outputs": [],
   "source": []
  },
  {
   "cell_type": "markdown",
   "metadata": {},
   "source": [
    "<a id='6.3'></a>\n",
    "### 6.3. Reviewing final results"
   ]
  },
  {
   "cell_type": "markdown",
   "metadata": {},
   "source": []
  },
  {
   "cell_type": "markdown",
   "metadata": {
    "hideCode": false,
    "hidePrompt": false
   },
   "source": [
    "<a id='7'></a>\n",
    "## 7. Resources"
   ]
  },
  {
   "cell_type": "markdown",
   "metadata": {
    "hideCode": false,
    "hidePrompt": false
   },
   "source": [
    "#### General\n",
    "https://towardsdatascience.com/crisp-dm-methodology-for-your-first-data-science-project-769f35e0346c <br>\n",
    "https://towardsdatascience.com/how-to-convert-json-into-a-pandas-dataframe-100b2ae1e0d8 <br>\n",
    "https://www.snapsurveys.com/blog/5-survey-demographic-question-examples/ <br>\n",
    "https://pandas.pydata.org/docs/reference/api/pandas.Series.between.html <br>\n",
    "https://www.geeksforgeeks.org/python-ways-to-convert-boolean-values-to-integer/ <br>\n",
    "https://stackoverflow.com/questions/35321812/move-column-in-pandas-dataframe <br>\n",
    "https://stackoverflow.com/questions/39602824/pandas-replace-string-with-another-string <br>\n",
    "https://medium.com/analytics-vidhya/mastering-pandas-indexing-loc-iloc-47ee22b009db <br>\n",
    "\n",
    "#### Rename\n",
    "https://www.quora.com/How-can-I-replace-characters-in-a-multiple-column-name-in-pandas <br>\n",
    "\n",
    "#### Warnings\n",
    "https://realpython.com/pandas-settingwithcopywarning/ <br>\n",
    "https://re-thought.com/how-to-add-new-columns-in-a-dataframe-in-pandas/\n",
    "\n",
    "#### EDA and Cleaning\n",
    "https://humansofdata.atlan.com/2018/03/when-delete-outliers-dataset/ <br>\n",
    "https://www.pluralsight.com/guides/cleaning-up-data-from-outliers <br>\n",
    "https://towardsdatascience.com/an-extensive-guide-to-exploratory-data-analysis-ddd99a03199e <br>\n",
    "\n",
    "#### Value Counts\n",
    "https://www.kaggle.com/parulpandey/five-ways-to-use-value-counts\n",
    "\n",
    "#### Missing Data\n",
    "https://pythonexamples.org/pandas-dataframe-fillna/ <br>\n",
    "https://stackoverflow.com/questions/26837998/pandas-replace-nan-with-blank-empty-string <br>\n",
    "\n",
    "#### Numpy\n",
    "https://numpy.org/doc/stable/reference/generated/numpy.transpose.html\n",
    "\n",
    "#### Datatypes\n",
    "https://www.datacamp.com/community/tutorials/converting-strings-datetime-objects<br>\n",
    "https://stackoverflow.com/questions/30405413/python-pandas-extract-year-from-datetime-dfyear-dfdate-year-is-not-wo <br>\n",
    "\n",
    "#### Visualisations\n",
    "https://dev.to/thalesbruno/subplotting-with-matplotlib-and-seaborn-5ei8 <br>\n",
    "https://stackoverflow.com/questions/38807895/seaborn-multiple-barplots/38808042 <br>\n",
    "\n",
    "#### Dummies\n",
    "https://stackoverflow.com/questions/55257957/removing-brackets-from-list-inside-pandas-cell <br>\n",
    "https://stackoverflow.com/questions/18889588/create-dummies-from-column-with-multiple-values-in-pandas <br>\n",
    "https://www.geeksforgeeks.org/python-pandas-series-str-get_dummies/ <br>\n",
    "\n",
    "#### Saving data\n",
    "https://www.kite.com/python/answers/how-to-save-and-read-a-list-in-python\n",
    "\n",
    "#### Dictionaries and mapping\n",
    "https://kanoki.org/2019/04/06/pandas-map-dictionary-values-with-dataframe-columns/\n",
    "\n",
    "#### Progress Bar\n",
    "https://github.com/tqdm/tqdm#parameters <br>\n",
    "\n",
    "#### Data Mining\n",
    "https://www.dummies.com/programming/big-data/data-science/data-mining-for-dummies-cheat-sheet/"
   ]
  },
  {
   "cell_type": "raw",
   "metadata": {
    "hideCode": false,
    "hidePrompt": false
   },
   "source": []
  },
  {
   "cell_type": "raw",
   "metadata": {},
   "source": [
    "# Move to EDA"
   ]
  },
  {
   "cell_type": "raw",
   "metadata": {},
   "source": [
    "clean_data.head()"
   ]
  },
  {
   "cell_type": "raw",
   "metadata": {},
   "source": [
    "clean_data['bogo'].sum()"
   ]
  },
  {
   "cell_type": "raw",
   "metadata": {},
   "source": [
    "bor_count"
   ]
  },
  {
   "cell_type": "raw",
   "metadata": {},
   "source": [
    "# Count of users that received offers\n",
    "or_count = offer_eda['received'].values.sum()\n",
    "\n",
    "# Count of users that received bogo offers\n",
    "bor_count = offer_eda['bogo'].values.sum()\n",
    "\n",
    "# Count of users that received informational offers\n",
    "ior_count = offer_eda['informational'].values.sum()\n",
    "\n",
    "# Count of users that received discount offers\n",
    "dor_count = offer_eda['discount'].values.sum()\n",
    "\n",
    "print('Offers Received:', or_count)\n",
    "print('Bogo Offers Received:', bor_count)\n",
    "print('Informational Offers Received:', ior_count)\n",
    "print('Discount Offers Received:', dor_count)"
   ]
  },
  {
   "cell_type": "raw",
   "metadata": {
    "hideCode": false,
    "hidePrompt": false
   },
   "source": [
    "<a id='2.6'></a>\n",
    "### 2.6. Exploratory Data Analysis "
   ]
  },
  {
   "cell_type": "raw",
   "metadata": {
    "hideCode": false,
    "hidePrompt": false
   },
   "source": [
    "**Distribution**"
   ]
  },
  {
   "cell_type": "raw",
   "metadata": {
    "hideCode": false,
    "hidePrompt": false
   },
   "source": [
    "# Gender distribution\n",
    "sns.catplot(x='gender', kind='count', data=profile)\n",
    "\n",
    "# Style plot\n",
    "style_sns_1('Gender Distribution', 'Gender', 'Count')"
   ]
  },
  {
   "cell_type": "raw",
   "metadata": {
    "hideCode": false,
    "hidePrompt": false
   },
   "source": [
    "# Pie chart normalised\n",
    "style_pie_1(title='Gender Distribution', labels=['Male', 'Female', 'Other'], data=profile['gender'].value_counts())"
   ]
  },
  {
   "cell_type": "raw",
   "metadata": {
    "hideCode": false,
    "hidePrompt": false
   },
   "source": [
    "# Percentage splits\n",
    "profile['gender'].value_counts(normalize=True)"
   ]
  },
  {
   "cell_type": "raw",
   "metadata": {
    "hideCode": false,
    "hidePrompt": false
   },
   "source": [
    "**Observations:** Males account for 57% of users which may cause the dataset to become imbalanced."
   ]
  },
  {
   "cell_type": "raw",
   "metadata": {
    "hideCode": false,
    "hidePrompt": false
   },
   "source": [
    "<a id='2.5'></a>\n",
    "### 2.5. Distribution"
   ]
  },
  {
   "cell_type": "raw",
   "metadata": {
    "hideCode": false,
    "hidePrompt": false
   },
   "source": [
    "**Outliers after dropping missing data**"
   ]
  },
  {
   "cell_type": "raw",
   "metadata": {
    "hideCode": false,
    "hidePrompt": false
   },
   "source": [
    "df = clean_verbose.copy()"
   ]
  },
  {
   "cell_type": "raw",
   "metadata": {
    "hideCode": false,
    "hidePrompt": false
   },
   "source": [
    "df.head()"
   ]
  },
  {
   "cell_type": "raw",
   "metadata": {
    "hideCode": false,
    "hidePrompt": false
   },
   "source": [
    "portfolio_new"
   ]
  },
  {
   "cell_type": "raw",
   "metadata": {
    "hideCode": false,
    "hidePrompt": false
   },
   "source": [
    "offer_eda = pd.merge(offer_data, portfolio_new, on='offer_id')"
   ]
  },
  {
   "cell_type": "raw",
   "metadata": {
    "hideCode": false,
    "hidePrompt": false
   },
   "source": [
    "offer_eda = pd.merge(offer_eda, clean_verbose[['user_id','offer_id','total_amount']]) #.drop(columns=['user_id'])"
   ]
  },
  {
   "cell_type": "raw",
   "metadata": {
    "hideCode": false,
    "hidePrompt": false
   },
   "source": [
    "offer_eda.head()"
   ]
  },
  {
   "cell_type": "raw",
   "metadata": {
    "hideCode": false,
    "hidePrompt": false
   },
   "source": [
    "clean_verbose.head()"
   ]
  },
  {
   "cell_type": "raw",
   "metadata": {
    "hideCode": false,
    "hidePrompt": false,
    "scrolled": true
   },
   "source": [
    "offer_eda.head()"
   ]
  },
  {
   "cell_type": "raw",
   "metadata": {
    "hideCode": false,
    "hidePrompt": false,
    "scrolled": true
   },
   "source": [
    "# Count of users that received offers\n",
    "or_count = offer_eda['received'].values.sum()\n",
    "\n",
    "# Count of users that received bogo offers\n",
    "bor_count = offer_eda['bogo'].values.sum()\n",
    "\n",
    "# Count of users that received informational offers\n",
    "ior_count = offer_eda['informational'].values.sum()\n",
    "\n",
    "# Count of users that received discount offers\n",
    "dor_count = offer_eda['discount'].values.sum()\n",
    "\n",
    "print('Offers Received:', or_count)\n",
    "print('Bogo Offers Received:', bor_count)\n",
    "print('Informational Offers Received:', ior_count)\n",
    "print('Discount Offers Received:', dor_count)"
   ]
  },
  {
   "cell_type": "raw",
   "metadata": {
    "hideCode": false,
    "hidePrompt": false
   },
   "source": [
    "# Function for formatting seaborn chart\n",
    "def offer_counts(df, offer_status, offer_type):\n",
    "    '''This function styles seaborn charts with 2 subplots.\n",
    "    \n",
    "    INPUT:\n",
    "    df - dataframe 'variable'\n",
    "    offer_status - offer status column in dataframe 'string'\n",
    "    offer_type - offer type column in dataframe 'string'\n",
    "    \n",
    "    OUTPUT:\n",
    "    integer.\n",
    "    '''\n",
    "    try:\n",
    "        output = df[[offer_status, offer_type]][(df[offer_status] == 1) & (df[offer_type] == 1)].value_counts().values[0]\n",
    "        return output\n",
    "    except:\n",
    "        pass"
   ]
  },
  {
   "cell_type": "raw",
   "metadata": {
    "hideCode": false,
    "hidePrompt": false
   },
   "source": [
    "# Test function\n",
    "offer_counts(offer_eda, 'completed' ,'discount')"
   ]
  },
  {
   "cell_type": "raw",
   "metadata": {
    "hideCode": false,
    "hidePrompt": false
   },
   "source": [
    "# Test function\n",
    "offer_counts(offer_eda, 'viewed' ,'discount')"
   ]
  },
  {
   "cell_type": "raw",
   "metadata": {
    "hideCode": false,
    "hidePrompt": false
   },
   "source": [
    "offer_status_cols = ['received', 'viewed', 'completed']\n",
    "offer_type_cols = ['discount', 'bogo', 'informational']\n",
    "arr_1 = []\n",
    "\n",
    "for x in offer_type_cols:\n",
    "    orc = offer_counts(offer_eda, offer_status_cols[0], x)\n",
    "    ovc = offer_counts(offer_eda, offer_status_cols[1], x)\n",
    "    occ = offer_counts(offer_eda, offer_status_cols[2], x)\n",
    "    np.array(arr_1.append([orc, ovc, occ]))\n",
    "arr_1 = np.array(arr_1)"
   ]
  },
  {
   "cell_type": "raw",
   "metadata": {
    "hideCode": false,
    "hidePrompt": false
   },
   "source": [
    "offer_counts(offer_eda, offer_status_cols[0], 'discount')"
   ]
  },
  {
   "cell_type": "raw",
   "metadata": {
    "hideCode": false,
    "hidePrompt": false
   },
   "source": [
    "# Print array\n",
    "arr_1"
   ]
  },
  {
   "cell_type": "raw",
   "metadata": {
    "hideCode": false,
    "hidePrompt": false
   },
   "source": [
    "# Transpose data to match dataframe\n",
    "arr_1 = np.transpose(arr_1)\n",
    "arr_1"
   ]
  },
  {
   "cell_type": "raw",
   "metadata": {
    "hideCode": false,
    "hidePrompt": false
   },
   "source": [
    "# Create df with results\n",
    "offer_stats = pd.DataFrame((arr_1), columns=['offer_received', 'offer_viewed', 'offer_completed'], \n",
    "                           index=['discount','bogo','informational'])\n",
    "# Fill 0 with NaN\n",
    "offer_stats = offer_stats.fillna(value=np.nan)\n",
    "offer_stats"
   ]
  },
  {
   "cell_type": "raw",
   "metadata": {
    "hideCode": false,
    "hidePrompt": false
   },
   "source": [
    "# Offers distribution\n",
    "fig, axes = plt.subplots(nrows=1, ncols=3, figsize=(15,5), sharey=True)\n",
    "x = offer_stats.index; data = offer_stats\n",
    "\n",
    "# Plots\n",
    "ax1 = sns.barplot(ax=axes[0], x=x, y='offer_received', data=data)\n",
    "ax2 = sns.barplot(ax=axes[1], x=x, y='offer_viewed', data=data)\n",
    "ax3 = sns.barplot(ax=axes[2], x=x[:2], y='offer_completed', data=data[:2]) # Dropna for missing value\n",
    "\n",
    "# Style plot\n",
    "style_sns_3('Offers Received', 'Offers Completed', 'Offers Viewed', 'Offer Type', 'Count', 'Offer Type', \n",
    "            '', 'Offer Type', '')"
   ]
  },
  {
   "cell_type": "raw",
   "metadata": {
    "hideCode": false,
    "hidePrompt": false
   },
   "source": [
    "# Filter columns to take numerical variable col names\n",
    "num = offer_eda.copy()\n",
    "num_cols = num.select_dtypes(include='number').mean() >= 1\n",
    "num_cols = num_cols[num_cols == True].dropna()\n",
    "num_cols = num_cols.index.tolist()\n",
    "num_cols"
   ]
  },
  {
   "cell_type": "raw",
   "metadata": {
    "hideCode": false,
    "hidePrompt": false
   },
   "source": [
    "# Filter columns to take categories variable col names\n",
    "cat = offer_eda.copy()\n",
    "cat_cols = cat.select_dtypes(include='number').mean() <= 1\n",
    "cat_cols = cat_cols[cat_cols == True].dropna()\n",
    "cat_cols = cat_cols.index.tolist()\n",
    "cat_cols"
   ]
  },
  {
   "cell_type": "raw",
   "metadata": {
    "hideCode": false,
    "hidePrompt": false
   },
   "source": [
    "# Select numerical variables to use for our model\n",
    "num = offer_eda[num_cols].drop(columns=['user_id', 'offer_id'])\n",
    "num.head()"
   ]
  },
  {
   "cell_type": "raw",
   "metadata": {
    "hideCode": false,
    "hidePrompt": false
   },
   "source": [
    "# Select categorical variables to use for our model\n",
    "cat = offer_eda[cat_cols]\n",
    "cat.head()"
   ]
  },
  {
   "cell_type": "raw",
   "metadata": {
    "hideCode": false,
    "hidePrompt": false
   },
   "source": [
    "# Categorical variables correlation\n",
    "cat.corr()"
   ]
  },
  {
   "cell_type": "raw",
   "metadata": {
    "hideCode": false,
    "hidePrompt": false
   },
   "source": [
    "# Numerical variables correlation\n",
    "num.corr()"
   ]
  },
  {
   "cell_type": "raw",
   "metadata": {
    "hideCode": false,
    "hidePrompt": false
   },
   "source": [
    "<a id='2.7'></a>\n",
    "### 2.7. Numerical variable analysis"
   ]
  },
  {
   "cell_type": "raw",
   "metadata": {
    "hideCode": false,
    "hidePrompt": false
   },
   "source": [
    "A numerical variable is a data variable that takes on any value within a finite or infinite interval (e.g. length, test scores, etc.). A numerical variable can also be called a continuous variable because it exhibits the features of continuous data. Unlike discrete data, continuous data takes on both finite and infinite values."
   ]
  },
  {
   "cell_type": "raw",
   "metadata": {
    "hideCode": false,
    "hidePrompt": false
   },
   "source": [
    "#### Heatmap"
   ]
  },
  {
   "cell_type": "raw",
   "metadata": {
    "hideCode": false,
    "hidePrompt": false
   },
   "source": [
    "In this step, we need to visualise correlations between the numerical variables. The correlation between the variables should be ordered in descending order and the darkness of the colour indicates whether the effect of price is positive or negative."
   ]
  },
  {
   "cell_type": "raw",
   "metadata": {
    "hideCode": false,
    "hidePrompt": false
   },
   "source": [
    "# Heatmap\n",
    "corr = num.corr().sort_values('total_amount', axis=1, ascending=False)\n",
    "corr = corr.sort_values('total_amount', axis=0, ascending=True)\n",
    "mask = np.zeros_like(corr)\n",
    "mask[np.triu_indices_from(mask, k=1)] = True\n",
    "\n",
    "with sns.axes_style(\"white\"):\n",
    "    f, ax = plt.subplots(figsize=(17, 12))\n",
    "    ax = sns.heatmap(corr, mask=mask, vmin=corr.total_amount.min(), \n",
    "                     vmax=corr.drop(['total_amount'], axis=0).total_amount.max(), center=0, square=True, \n",
    "                     annot=True, fmt='.2f',cmap='YlGnBu',annot_kws={\"size\": 10})\n",
    "\n",
    "# increase tick label size\n",
    "ax.tick_params(labelsize=13)"
   ]
  },
  {
   "cell_type": "raw",
   "metadata": {
    "hideCode": false,
    "hidePrompt": false
   },
   "source": [
    "**Observations:** Numerical variables show similarly high correlations such as:\n",
    "- `income`, `age`, `time`\n",
    "\n",
    "Other numerical variables show a negative correlation to spend `amount` such as:\n",
    "- `reward`, `min_spend`, `duration`"
   ]
  },
  {
   "cell_type": "raw",
   "metadata": {
    "hideCode": false,
    "hidePrompt": false
   },
   "source": [
    "<a id='2.8'></a>\n",
    "### 2.8. Categorical variable analysis"
   ]
  },
  {
   "cell_type": "raw",
   "metadata": {
    "hideCode": false,
    "hidePrompt": false
   },
   "source": [
    "Categorical data is a collection of information that is divided into groups. For example, if an organisation is trying to get a data of its employees, the resulting data is referred to as categorical. This data is called 'categorical' because it may be grouped according to the variables present in the data such as sex, relationship status, etc. Categorical data can take on numerical or boolian values such as “1” indicating Yes and “2” indicating No. However, those numbers don’t have mathematical siginificance. We can't add them together or subtract them from each other."
   ]
  },
  {
   "cell_type": "raw",
   "metadata": {
    "hideCode": false,
    "hidePrompt": false
   },
   "source": [
    "Adding our categorigal variables: `offer_completed`,\n",
    " `offer_received`,\n",
    " `offer_viewed`,\n",
    " `transaction`,\n",
    " `email`,\n",
    " `mobile`,\n",
    " `social`,\n",
    " `web`,\n",
    " `bogo_offer`,\n",
    " `discount_offer`,\n",
    " `informational_offer`,\n",
    " `18-24`,\n",
    " `25-34`,\n",
    " `35-44`,\n",
    " `45-54`,\n",
    " `55-64`,\n",
    " `65+` We have selected the above factors as I believe those are some of the most important factors that affect the spend amount. Let`s see if we can work with the data below."
   ]
  },
  {
   "cell_type": "raw",
   "metadata": {},
   "source": [
    "# Compute the value of the relevant boolean conditions\n",
    "bogo = df['bogo'] == 1\n",
    "discount = df['discount'] == 1\n",
    "informational = df['informational'] == 1\n",
    "\n",
    "# Create categorical series data\n",
    "cat = pd.Series(pd.Categorical([np.nan] * len(df),\n",
    "                                categories=['discount', 'bogo', 'informational']),\n",
    "                                index=df.index)\n",
    "\n",
    "# Create labels\n",
    "cat[discount] = 'discount'\n",
    "cat[bogo] = 'bogo'\n",
    "cat[informational] = 'informational'\n",
    "\n",
    "# Assign to new column\n",
    "df['offer_type'] = cat"
   ]
  },
  {
   "cell_type": "raw",
   "metadata": {},
   "source": [
    "# Compute the value of the relevant boolean conditions\n",
    "male = df['male'] == 1\n",
    "female = df['female'] == 1\n",
    "other = df['other'] == 1\n",
    "\n",
    "# Create categorical series data\n",
    "cat = pd.Series(pd.Categorical([np.nan] * len(df),\n",
    "                                categories=['female', 'male', 'other']),\n",
    "                                index=df.index)\n",
    "\n",
    "# Create labels\n",
    "cat[female] = 'female'\n",
    "cat[male] = 'male'\n",
    "cat[other] = 'other'\n",
    "\n",
    "# Assign to new column\n",
    "df['gender'] = cat"
   ]
  },
  {
   "cell_type": "raw",
   "metadata": {},
   "source": [
    "def dummy_to_cat(df, c1, c2, c3, d1, d2, d3, col):\n",
    "    # Add docstring here...\n",
    "\n",
    "    # Compute the value of the relevant boolean conditions\n",
    "    d1 = df[c1] == 1\n",
    "    d2 = df[c2] == 1\n",
    "    d3 = df[c3] == 1\n",
    "\n",
    "    # Create categorical series data\n",
    "    cat = pd.Series(pd.Categorical([np.nan] * len(df),\n",
    "                                    categories=[d1, d2, d3]),\n",
    "                                    index=df.index)\n",
    "\n",
    "    # Create labels\n",
    "    df[d1] = c1\n",
    "    df[d2] = c2\n",
    "    df[d3] = c3\n",
    "\n",
    "    # Assign to new column\n",
    "    df[col] = cat\n",
    "    return(cat.head)"
   ]
  },
  {
   "cell_type": "raw",
   "metadata": {},
   "source": [
    "dummy_to_cat(df, c1='bogo', c2='discount', c3='informational', d1='bogo', d2='discount', d3='informational', col='offer_type')"
   ]
  },
  {
   "cell_type": "raw",
   "metadata": {},
   "source": [
    "# Compute the value of the relevant boolean conditions\n",
    "bogo = df['bogo'] == 1\n",
    "discount = df['discount'] == 1\n",
    "informational = df['other'] == 1\n",
    "\n",
    "# Create categorical series data\n",
    "cat = pd.Series(pd.Categorical([np.nan] * len(training_data),\n",
    "                                categories=['female', 'male', 'other']),\n",
    "                                index=training_data.index)\n",
    "\n",
    "# Create labels\n",
    "cat[female] = 'female'\n",
    "cat[male] = 'male'\n",
    "cat[other] = 'other'\n",
    "\n",
    "# Assign to new column\n",
    "training_data['gender'] = cat"
   ]
  },
  {
   "cell_type": "raw",
   "metadata": {
    "hideCode": false,
    "hidePrompt": false
   },
   "source": [
    "df_cat = df.copy()\n",
    "df_cat['event_cat'] = transcript['event']\n",
    "#df_cat['offer_type'] = df_offer_type\n",
    "#df_cat['gender'] = df_gender"
   ]
  },
  {
   "cell_type": "raw",
   "metadata": {
    "hideCode": false,
    "hidePrompt": false
   },
   "source": [
    "df_cat.head()"
   ]
  },
  {
   "cell_type": "raw",
   "metadata": {
    "hideCode": false,
    "hidePrompt": false
   },
   "source": [
    "df_cat_test = df_cat[['total_amount', 'event_cat', 'offer_type', 'gender']]\n",
    "df_cat_test.head()"
   ]
  },
  {
   "cell_type": "raw",
   "metadata": {
    "hideCode": false,
    "hidePrompt": false
   },
   "source": [
    "df_cat_test.columns[1:]"
   ]
  },
  {
   "cell_type": "raw",
   "metadata": {
    "hideCode": false,
    "hidePrompt": false
   },
   "source": [
    "# Creating a function that creates a box plot for each categorical cat_cols\n",
    "def cat(df, cat_cols, response):\n",
    "    \n",
    "    '''\n",
    "    INPUT:\n",
    "    df - pandas dataframe with categorical columns we want to use\n",
    "    cat_cols - list of strings that are associated with names of the categorical columns\n",
    "    response - dependent cat_cols used for our output result\n",
    "    \n",
    "    OUTPUT:\n",
    "    none\n",
    "    '''\n",
    "    # Plot\n",
    "    pos = df.groupby(cat_cols)[response].median().sort_values(ascending=False).index\n",
    "    sns.boxplot(y=df[cat_cols], x=df[response], order=pos)\n",
    "    ax = plt.gca()\n",
    "    \n",
    "    # Plot design\n",
    "    plt.title('{}'.format(cat_cols), weight='bold', fontsize=18, pad=15)\n",
    "    plt.ylabel('',  weight='bold', fontsize=15)\n",
    "    plt.xlabel('amount',  weight='bold', fontsize=15)\n",
    "    plt.xticks(fontsize=12)\n",
    "    plt.yticks(fontsize=12)\n",
    "    plt.grid(False)"
   ]
  },
  {
   "cell_type": "raw",
   "metadata": {},
   "source": [
    "cat(clean_data, clean_data.columns[:5], response='total_amount')"
   ]
  },
  {
   "cell_type": "raw",
   "metadata": {
    "hideCode": false,
    "hidePrompt": false
   },
   "source": [
    "df_cat_test = df_cat_test.replace(np.nan, 'no_offer')"
   ]
  },
  {
   "cell_type": "raw",
   "metadata": {
    "hideCode": false,
    "hidePrompt": false
   },
   "source": [
    "df_cat_test.head()"
   ]
  },
  {
   "cell_type": "raw",
   "metadata": {
    "hideCode": false,
    "hidePrompt": false
   },
   "source": [
    "df.head(10)"
   ]
  },
  {
   "cell_type": "raw",
   "metadata": {
    "hideCode": false,
    "hidePrompt": false
   },
   "source": [
    "df_cat_test['gender'].value_counts()"
   ]
  },
  {
   "cell_type": "raw",
   "metadata": {
    "hideCode": false,
    "hidePrompt": false
   },
   "source": [
    "df_cat_test.head(10)"
   ]
  },
  {
   "cell_type": "raw",
   "metadata": {
    "hideCode": false,
    "hidePrompt": false
   },
   "source": [
    "df_cat_test.columns[2]"
   ]
  },
  {
   "cell_type": "raw",
   "metadata": {
    "hideCode": false,
    "hidePrompt": false
   },
   "source": [
    "df_cat_test.groupby('offer_type')['total_amount'].mean().sort_values(ascending=False) #.index"
   ]
  },
  {
   "cell_type": "raw",
   "metadata": {
    "hideCode": false,
    "hidePrompt": false,
    "scrolled": true
   },
   "source": [
    "df_cat_test.info()"
   ]
  },
  {
   "cell_type": "raw",
   "metadata": {
    "hideCode": false,
    "hidePrompt": false
   },
   "source": [
    "df_cat_test.columns"
   ]
  },
  {
   "cell_type": "raw",
   "metadata": {
    "hideCode": false,
    "hidePrompt": false
   },
   "source": [
    "df_cat_test.groupby('event_cat').sum()"
   ]
  },
  {
   "cell_type": "raw",
   "metadata": {
    "hideCode": false,
    "hidePrompt": false
   },
   "source": [
    "df_cat_test.describe()"
   ]
  },
  {
   "cell_type": "raw",
   "metadata": {
    "hideCode": false,
    "hidePrompt": false
   },
   "source": [
    "df_cat_test.head()"
   ]
  },
  {
   "cell_type": "raw",
   "metadata": {
    "hideCode": false,
    "hidePrompt": false
   },
   "source": [
    "cat(df = df_cat_test.groupby('event_cat').sum(), cat_cols=df_cat_test.columns[2], response='amount')"
   ]
  },
  {
   "cell_type": "raw",
   "metadata": {
    "hideCode": false,
    "hidePrompt": false
   },
   "source": [
    "# Assigning our categorical variables and plotting our box plots\n",
    "cat_cols_index = df_cat_test.columns[:1] #cat_cols\n",
    "\n",
    "# Plotting our subplots using a for loop\n",
    "f = plt.figure(figsize = (35, 15))\n",
    "for i in range(len(cat_cols_index)):\n",
    "    f.set_figheight(35)\n",
    "    f.set_figwidth(12)\n",
    "    cat_col_index = cat_cols_index[i]\n",
    "    plt_index = i+1\n",
    "    plt.subplot(5,2, plt_index)\n",
    "    cat(df = df, cat_cols=cat_col_index, response='amount') \n",
    "    plt.subplots_adjust(hspace=0.25, wspace=0.50, top=1)\n",
    "        \n"
   ]
  },
  {
   "cell_type": "raw",
   "metadata": {
    "hideCode": false,
    "hidePrompt": false
   },
   "source": [
    "df[df['total_amount'] > 0].head()"
   ]
  },
  {
   "cell_type": "raw",
   "metadata": {
    "hideCode": false,
    "hidePrompt": false
   },
   "source": [
    "promo = df[df['offer_received'] == 1]\n",
    "promo.head()"
   ]
  },
  {
   "cell_type": "raw",
   "metadata": {
    "hideCode": false,
    "hidePrompt": false
   },
   "source": [
    "promo['total_amount'].sum()"
   ]
  },
  {
   "cell_type": "raw",
   "metadata": {
    "hideCode": false,
    "hidePrompt": false
   },
   "source": [
    "df[(['offer_received'] == 1) & (df['transaction'] == 1)]"
   ]
  },
  {
   "cell_type": "raw",
   "metadata": {
    "hideCode": false,
    "hidePrompt": false
   },
   "source": [
    "df.groupby('offer_completed')['amount'].sum()"
   ]
  },
  {
   "cell_type": "raw",
   "metadata": {
    "hideCode": false,
    "hidePrompt": false
   },
   "source": [
    "df.groupby('transaction')['amount'].sum()"
   ]
  },
  {
   "cell_type": "raw",
   "metadata": {
    "hideCode": false,
    "hidePrompt": false
   },
   "source": [
    "df['offer_completed'].sum()"
   ]
  },
  {
   "cell_type": "raw",
   "metadata": {
    "hideCode": false,
    "hidePrompt": false
   },
   "source": [
    "df['transaction'].sum()"
   ]
  },
  {
   "cell_type": "raw",
   "metadata": {
    "hideCode": false,
    "hidePrompt": false
   },
   "source": [
    "df[(['offer_received'] == 1) & (df['total_amount'] > 0)]"
   ]
  },
  {
   "cell_type": "raw",
   "metadata": {
    "hideCode": false,
    "hidePrompt": false
   },
   "source": [
    "df[df[['bogo_offer', 'discount_offer', 'informational_offer']] == 1].head()"
   ]
  },
  {
   "cell_type": "raw",
   "metadata": {
    "hideCode": false,
    "hidePrompt": false
   },
   "source": [
    "# delete"
   ]
  },
  {
   "cell_type": "raw",
   "metadata": {
    "hideCode": false,
    "hidePrompt": false
   },
   "source": [
    "# Extract columns\n",
    "offer_dist = df[['bogo_offer', 'discount_offer', 'informational_offer']]\n",
    "\n",
    "# Remove the 0 values from the df\n",
    "offer_dist = offer_dist.replace(0, np.nan)\n",
    "\n",
    "# Transpose df\n",
    "offer_dist = np.transpose(pd.DataFrame(np.sum(offer_dist)))"
   ]
  },
  {
   "cell_type": "raw",
   "metadata": {
    "hideCode": false,
    "hidePrompt": false
   },
   "source": [
    "offer_dist.head()"
   ]
  },
  {
   "cell_type": "raw",
   "metadata": {
    "hideCode": false,
    "hidePrompt": false,
    "scrolled": true
   },
   "source": [
    "df.groupby('bogo_offer').sum()"
   ]
  },
  {
   "cell_type": "raw",
   "metadata": {
    "hideCode": false,
    "hidePrompt": false
   },
   "source": [
    "offer_dist.keys()"
   ]
  },
  {
   "cell_type": "raw",
   "metadata": {
    "hideCode": false,
    "hidePrompt": false
   },
   "source": [
    "list(offer_dist.columns.values)"
   ]
  },
  {
   "cell_type": "raw",
   "metadata": {
    "hideCode": false,
    "hidePrompt": false
   },
   "source": [
    "profile['gender'].count()"
   ]
  },
  {
   "cell_type": "raw",
   "metadata": {
    "hideCode": false,
    "hidePrompt": false
   },
   "source": [
    "# Gender count percentage\n",
    "gender_count = profile.groupby('gender').sum()\n",
    "gender_count.head()"
   ]
  },
  {
   "cell_type": "raw",
   "metadata": {
    "hideCode": false,
    "hidePrompt": false
   },
   "source": [
    "# Set default plt font size\n",
    "plt.rcParams['font.size'] = 15\n",
    "\n",
    "# Init plot\n",
    "pie, ax = plt.subplots(figsize=[10,6])\n",
    "\n",
    "# Title\n",
    "plt.title('Gender by type', weight='bold', fontsize=15);\n",
    "\n",
    "# Labels\n",
    "labels = ['Male', 'Female', 'Other']\n",
    "\n",
    "# Plot\n",
    "plt.pie(x=gender_count['age'], labels=labels, autopct=\"%.1f%%\", explode=[0.05]*3, pctdistance=0.5)\n",
    "plt.show()"
   ]
  },
  {
   "cell_type": "raw",
   "metadata": {
    "hideCode": false,
    "hidePrompt": false
   },
   "source": [
    "# Set default plt font size\n",
    "plt.rcParams['font.size'] = 15\n",
    "pie, ax = plt.subplots(figsize=[10,6])\n",
    "\n",
    "# Title\n",
    "plt.title('Offer by type', weight='bold', fontsize=15);\n",
    "\n",
    "# Labels\n",
    "labels = ['BOGO', 'Discount', 'Informational']\n",
    "\n",
    "# Plot\n",
    "plt.pie(x=offer_dist.values[0], labels=labels, autopct=\"%.1f%%\", explode=[0.05]*3, pctdistance=0.5)\n",
    "plt.show()"
   ]
  },
  {
   "cell_type": "raw",
   "metadata": {
    "hideCode": false,
    "hidePrompt": false
   },
   "source": [
    "# to here"
   ]
  },
  {
   "cell_type": "raw",
   "metadata": {
    "hideCode": false,
    "hidePrompt": false
   },
   "source": [
    "# Offers distribution\n",
    "fig, axes = plt.subplots(nrows=1, ncols=3, figsize=(15,5), sharey=True)\n",
    "x = offer_dist.index; data = offer_dist\n",
    "\n",
    "# Plots\n",
    "ax1 = sns.barplot(ax=axes[0], x=x, y='bogo_offer', data=data)\n",
    "ax2 = sns.barplot(ax=axes[1], x=x, y='discount_offer', data=data)\n",
    "ax3 = sns.barplot(ax=axes[2], x=x[:2], y='informational_offer', data=data[:2]) # Dropna for missing value\n",
    "\n",
    "# Style plot\n",
    "style_sns_3('Offers Received', 'Offers Completed', 'Offers Viewed', 'Offer Type', 'Count', 'Offer Type', \n",
    "            '', 'Offer Type', '')"
   ]
  },
  {
   "cell_type": "raw",
   "metadata": {
    "hideCode": false,
    "hidePrompt": false
   },
   "source": [
    "# Gender distribution\n",
    "sns.catplot(x=['bogo_offer', 'discount_offer', 'informational_offer'], kind='count', data=offer_dist)\n",
    "\n",
    "# Style plot\n",
    "style_sns_1('Offer Type Distribution', 'Offer', 'Count')"
   ]
  },
  {
   "cell_type": "raw",
   "metadata": {
    "hideCode": false,
    "hidePrompt": false
   },
   "source": [
    "<a id='3'></a>\n",
    "## 3. Data Preparation"
   ]
  },
  {
   "cell_type": "raw",
   "metadata": {
    "hideCode": false,
    "hidePrompt": false
   },
   "source": [
    "To prepare our data we must select variables with a high correlation to price in order to build a more accurate model. We also need to pay attention the total numbers of the selected variables. Selecting too few variables may not achieve high accuracy, while selecting too many variables may cause overfitting. In this section, we will select the top 15 numerical variables what a high correlation to our response price to use for our spending prediction. Dummy variables will be created for the selected categorical variables with 0, 1 encodings. A total of 20 dummy variables with the highest correlations to price will be obtained to be used for the initial modeling."
   ]
  },
  {
   "cell_type": "raw",
   "metadata": {
    "hideCode": false,
    "hidePrompt": false
   },
   "source": [
    "# creating a function that selects variables according to their correlation to price\n",
    "def select_var(df, response, num_variables, dropped_variables):\n",
    "    '''\n",
    "    INPUT:\n",
    "    df - pandas dataframe, holding all the variables interested\n",
    "    response - dependent column used for our output result\n",
    "    num_variables - int, number of varibles to be used for modelling\n",
    "    dropped_variables - list of variables to be dropped\n",
    "    \n",
    "\n",
    "    OUTPUT:\n",
    "    variables - pandas dataframe, output of the selected variables based on correlation with response\n",
    "    '''\n",
    "    \n",
    "    corr_num = df.corr()[response].abs().sort_values(ascending=False).drop(dropped_variables)[:num_variables]\n",
    "    variables = df[corr_num.index]\n",
    "    \n",
    "    return variables"
   ]
  },
  {
   "cell_type": "raw",
   "metadata": {
    "hideCode": false,
    "hidePrompt": false
   },
   "source": [
    "# Todo List\n",
    "1. Move everything into the clean data section\n",
    "2. Build a machine learning model that predicts how much someone will spend based on demographics and offer type\n",
    "\n",
    "# Questions\n",
    "Do I drop duplicates when calculating the mean income and age for each offer demographic?\n"
   ]
  },
  {
   "cell_type": "raw",
   "metadata": {
    "hideCode": false,
    "hidePrompt": false
   },
   "source": [
    "1. How do we take this experimental data that has been rolling for about a month to identify each demographic and which offers they respond to positively and negatively to. We can discover what the best offer in there for the population as a whole and for each person.\n",
    "\n",
    "2. Why probability and Percentage produce the same results? "
   ]
  },
  {
   "cell_type": "raw",
   "metadata": {
    "hideCode": false,
    "hidePrompt": false
   },
   "source": [
    "<a id='3.1'></a>\n",
    "### 3.1. Numerical variable selection"
   ]
  }
 ],
 "metadata": {
  "celltoolbar": "Raw Cell Format",
  "hide_code_all_hidden": false,
  "kernelspec": {
   "display_name": "Python 3",
   "language": "python",
   "name": "python3"
  },
  "language_info": {
   "codemirror_mode": {
    "name": "ipython",
    "version": 3
   },
   "file_extension": ".py",
   "mimetype": "text/x-python",
   "name": "python",
   "nbconvert_exporter": "python",
   "pygments_lexer": "ipython3",
   "version": "3.6.10"
  }
 },
 "nbformat": 4,
 "nbformat_minor": 2
}
